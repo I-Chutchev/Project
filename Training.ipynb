{
 "cells": [
  {
   "cell_type": "markdown",
   "metadata": {
    "toc": true
   },
   "source": [
    "<h1>Содержание<span class=\"tocSkip\"></span></h1>\n",
    "<div class=\"toc\"><ul class=\"toc-item\"><li><span><a href=\"#Подготовка-данных\" data-toc-modified-id=\"Подготовка-данных-1\"><span class=\"toc-item-num\">1&nbsp;&nbsp;</span>Подготовка данных</a></span></li><li><span><a href=\"#Исследование-задачи\" data-toc-modified-id=\"Исследование-задачи-2\"><span class=\"toc-item-num\">2&nbsp;&nbsp;</span>Исследование задачи</a></span><ul class=\"toc-item\"><li><span><a href=\"#Исследуем-баланс-классов\" data-toc-modified-id=\"Исследуем-баланс-классов-2.1\"><span class=\"toc-item-num\">2.1&nbsp;&nbsp;</span>Исследуем баланс классов</a></span></li><li><span><a href=\"#Исследуем-модель-дерева-решений-без-учета-дисбаланса\" data-toc-modified-id=\"Исследуем-модель-дерева-решений-без-учета-дисбаланса-2.2\"><span class=\"toc-item-num\">2.2&nbsp;&nbsp;</span>Исследуем модель дерева решений без учета дисбаланса</a></span></li><li><span><a href=\"#Исследуем-модель-случайного-леса-без-учета-дисбаланса\" data-toc-modified-id=\"Исследуем-модель-случайного-леса-без-учета-дисбаланса-2.3\"><span class=\"toc-item-num\">2.3&nbsp;&nbsp;</span>Исследуем модель случайного леса без учета дисбаланса</a></span></li></ul></li><li><span><a href=\"#Борьба-с-дисбалансом\" data-toc-modified-id=\"Борьба-с-дисбалансом-3\"><span class=\"toc-item-num\">3&nbsp;&nbsp;</span>Борьба с дисбалансом</a></span><ul class=\"toc-item\"><li><span><a href=\"#Увеличение-выборки\" data-toc-modified-id=\"Увеличение-выборки-3.1\"><span class=\"toc-item-num\">3.1&nbsp;&nbsp;</span>Увеличение выборки</a></span><ul class=\"toc-item\"><li><span><a href=\"#Поиск-лучшей-модели-дерева-решений\" data-toc-modified-id=\"Поиск-лучшей-модели-дерева-решений-3.1.1\"><span class=\"toc-item-num\">3.1.1&nbsp;&nbsp;</span>Поиск лучшей модели дерева решений</a></span></li><li><span><a href=\"#Поиск-модели-случайного-леса\" data-toc-modified-id=\"Поиск-модели-случайного-леса-3.1.2\"><span class=\"toc-item-num\">3.1.2&nbsp;&nbsp;</span>Поиск модели случайного леса</a></span></li></ul></li><li><span><a href=\"#Уменьшение-выборки\" data-toc-modified-id=\"Уменьшение-выборки-3.2\"><span class=\"toc-item-num\">3.2&nbsp;&nbsp;</span>Уменьшение выборки</a></span><ul class=\"toc-item\"><li><span><a href=\"#Поиск-модели-дерева-решений\" data-toc-modified-id=\"Поиск-модели-дерева-решений-3.2.1\"><span class=\"toc-item-num\">3.2.1&nbsp;&nbsp;</span>Поиск модели дерева решений</a></span></li><li><span><a href=\"#Поиск-модели-случайного-леса\" data-toc-modified-id=\"Поиск-модели-случайного-леса-3.2.2\"><span class=\"toc-item-num\">3.2.2&nbsp;&nbsp;</span>Поиск модели случайного леса</a></span></li></ul></li></ul></li><li><span><a href=\"#Тестирование-модели\" data-toc-modified-id=\"Тестирование-модели-4\"><span class=\"toc-item-num\">4&nbsp;&nbsp;</span>Тестирование модели</a></span></li><li><span><a href=\"#Чек-лист-готовности-проекта\" data-toc-modified-id=\"Чек-лист-готовности-проекта-5\"><span class=\"toc-item-num\">5&nbsp;&nbsp;</span>Чек-лист готовности проекта</a></span></li></ul></div>"
   ]
  },
  {
   "cell_type": "markdown",
   "metadata": {},
   "source": [
    "# Отток клиентов"
   ]
  },
  {
   "cell_type": "markdown",
   "metadata": {},
   "source": [
    "Из «Бета-Банка» стали уходить клиенты. Каждый месяц. Немного, но заметно. Банковские маркетологи посчитали: сохранять текущих клиентов дешевле, чем привлекать новых.\n",
    "\n",
    "Нужно спрогнозировать, уйдёт клиент из банка в ближайшее время или нет. Вам предоставлены исторические данные о поведении клиентов и расторжении договоров с банком. \n",
    "\n",
    "Постройте модель с предельно большим значением *F1*-меры. Чтобы сдать проект успешно, нужно довести метрику до 0.59. Проверьте *F1*-меру на тестовой выборке самостоятельно.\n",
    "\n",
    "Дополнительно измеряйте *AUC-ROC*, сравнивайте её значение с *F1*-мерой.\n",
    "\n",
    "Источник данных: [https://www.kaggle.com/barelydedicated/bank-customer-churn-modeling](https://www.kaggle.com/barelydedicated/bank-customer-churn-modeling)"
   ]
  },
  {
   "cell_type": "markdown",
   "metadata": {},
   "source": [
    "## Подготовка данных"
   ]
  },
  {
   "cell_type": "code",
   "execution_count": 2,
   "metadata": {},
   "outputs": [],
   "source": [
    "import pandas as pd   # Загружаем нужные нам библиотеки\n",
    "import seaborn as sb\n",
    "import matplotlib.pyplot as plt\n",
    "from sklearn.metrics import f1_score, classification_report, roc_auc_score, roc_curve\n",
    "from sklearn.model_selection import train_test_split as tts\n",
    "from sklearn.tree import DecisionTreeClassifier\n",
    "from sklearn.ensemble import RandomForestClassifier\n",
    "from sklearn.preprocessing import OrdinalEncoder, StandardScaler\n",
    "from sklearn.utils import shuffle\n",
    "\n",
    "pd.options.mode.chained_assignment = None"
   ]
  },
  {
   "cell_type": "code",
   "execution_count": 4,
   "metadata": {},
   "outputs": [
    {
     "data": {
      "text/html": [
       "<div>\n",
       "<style scoped>\n",
       "    .dataframe tbody tr th:only-of-type {\n",
       "        vertical-align: middle;\n",
       "    }\n",
       "\n",
       "    .dataframe tbody tr th {\n",
       "        vertical-align: top;\n",
       "    }\n",
       "\n",
       "    .dataframe thead th {\n",
       "        text-align: right;\n",
       "    }\n",
       "</style>\n",
       "<table border=\"1\" class=\"dataframe\">\n",
       "  <thead>\n",
       "    <tr style=\"text-align: right;\">\n",
       "      <th></th>\n",
       "      <th>RowNumber</th>\n",
       "      <th>CustomerId</th>\n",
       "      <th>Surname</th>\n",
       "      <th>CreditScore</th>\n",
       "      <th>Geography</th>\n",
       "      <th>Gender</th>\n",
       "      <th>Age</th>\n",
       "      <th>Tenure</th>\n",
       "      <th>Balance</th>\n",
       "      <th>NumOfProducts</th>\n",
       "      <th>HasCrCard</th>\n",
       "      <th>IsActiveMember</th>\n",
       "      <th>EstimatedSalary</th>\n",
       "      <th>Exited</th>\n",
       "    </tr>\n",
       "  </thead>\n",
       "  <tbody>\n",
       "    <tr>\n",
       "      <th>0</th>\n",
       "      <td>1</td>\n",
       "      <td>15634602</td>\n",
       "      <td>Hargrave</td>\n",
       "      <td>619</td>\n",
       "      <td>France</td>\n",
       "      <td>Female</td>\n",
       "      <td>42</td>\n",
       "      <td>2.0</td>\n",
       "      <td>0.00</td>\n",
       "      <td>1</td>\n",
       "      <td>1</td>\n",
       "      <td>1</td>\n",
       "      <td>101348.88</td>\n",
       "      <td>1</td>\n",
       "    </tr>\n",
       "    <tr>\n",
       "      <th>1</th>\n",
       "      <td>2</td>\n",
       "      <td>15647311</td>\n",
       "      <td>Hill</td>\n",
       "      <td>608</td>\n",
       "      <td>Spain</td>\n",
       "      <td>Female</td>\n",
       "      <td>41</td>\n",
       "      <td>1.0</td>\n",
       "      <td>83807.86</td>\n",
       "      <td>1</td>\n",
       "      <td>0</td>\n",
       "      <td>1</td>\n",
       "      <td>112542.58</td>\n",
       "      <td>0</td>\n",
       "    </tr>\n",
       "    <tr>\n",
       "      <th>2</th>\n",
       "      <td>3</td>\n",
       "      <td>15619304</td>\n",
       "      <td>Onio</td>\n",
       "      <td>502</td>\n",
       "      <td>France</td>\n",
       "      <td>Female</td>\n",
       "      <td>42</td>\n",
       "      <td>8.0</td>\n",
       "      <td>159660.80</td>\n",
       "      <td>3</td>\n",
       "      <td>1</td>\n",
       "      <td>0</td>\n",
       "      <td>113931.57</td>\n",
       "      <td>1</td>\n",
       "    </tr>\n",
       "    <tr>\n",
       "      <th>3</th>\n",
       "      <td>4</td>\n",
       "      <td>15701354</td>\n",
       "      <td>Boni</td>\n",
       "      <td>699</td>\n",
       "      <td>France</td>\n",
       "      <td>Female</td>\n",
       "      <td>39</td>\n",
       "      <td>1.0</td>\n",
       "      <td>0.00</td>\n",
       "      <td>2</td>\n",
       "      <td>0</td>\n",
       "      <td>0</td>\n",
       "      <td>93826.63</td>\n",
       "      <td>0</td>\n",
       "    </tr>\n",
       "    <tr>\n",
       "      <th>4</th>\n",
       "      <td>5</td>\n",
       "      <td>15737888</td>\n",
       "      <td>Mitchell</td>\n",
       "      <td>850</td>\n",
       "      <td>Spain</td>\n",
       "      <td>Female</td>\n",
       "      <td>43</td>\n",
       "      <td>2.0</td>\n",
       "      <td>125510.82</td>\n",
       "      <td>1</td>\n",
       "      <td>1</td>\n",
       "      <td>1</td>\n",
       "      <td>79084.10</td>\n",
       "      <td>0</td>\n",
       "    </tr>\n",
       "  </tbody>\n",
       "</table>\n",
       "</div>"
      ],
      "text/plain": [
       "   RowNumber  CustomerId   Surname  CreditScore Geography  Gender  Age  \\\n",
       "0          1    15634602  Hargrave          619    France  Female   42   \n",
       "1          2    15647311      Hill          608     Spain  Female   41   \n",
       "2          3    15619304      Onio          502    France  Female   42   \n",
       "3          4    15701354      Boni          699    France  Female   39   \n",
       "4          5    15737888  Mitchell          850     Spain  Female   43   \n",
       "\n",
       "   Tenure    Balance  NumOfProducts  HasCrCard  IsActiveMember  \\\n",
       "0     2.0       0.00              1          1               1   \n",
       "1     1.0   83807.86              1          0               1   \n",
       "2     8.0  159660.80              3          1               0   \n",
       "3     1.0       0.00              2          0               0   \n",
       "4     2.0  125510.82              1          1               1   \n",
       "\n",
       "   EstimatedSalary  Exited  \n",
       "0        101348.88       1  \n",
       "1        112542.58       0  \n",
       "2        113931.57       1  \n",
       "3         93826.63       0  \n",
       "4         79084.10       0  "
      ]
     },
     "execution_count": 4,
     "metadata": {},
     "output_type": "execute_result"
    }
   ],
   "source": [
    "df = pd.read_csv('D:/Project/Churn.csv')  # Загружаем файл и сохраняем его в переменную df\n",
    "\n",
    "df.head()"
   ]
  },
  {
   "cell_type": "code",
   "execution_count": 3,
   "metadata": {},
   "outputs": [
    {
     "name": "stdout",
     "output_type": "stream",
     "text": [
      "<class 'pandas.core.frame.DataFrame'>\n",
      "RangeIndex: 10000 entries, 0 to 9999\n",
      "Data columns (total 14 columns):\n",
      " #   Column           Non-Null Count  Dtype  \n",
      "---  ------           --------------  -----  \n",
      " 0   RowNumber        10000 non-null  int64  \n",
      " 1   CustomerId       10000 non-null  int64  \n",
      " 2   Surname          10000 non-null  object \n",
      " 3   CreditScore      10000 non-null  int64  \n",
      " 4   Geography        10000 non-null  object \n",
      " 5   Gender           10000 non-null  object \n",
      " 6   Age              10000 non-null  int64  \n",
      " 7   Tenure           9091 non-null   float64\n",
      " 8   Balance          10000 non-null  float64\n",
      " 9   NumOfProducts    10000 non-null  int64  \n",
      " 10  HasCrCard        10000 non-null  int64  \n",
      " 11  IsActiveMember   10000 non-null  int64  \n",
      " 12  EstimatedSalary  10000 non-null  float64\n",
      " 13  Exited           10000 non-null  int64  \n",
      "dtypes: float64(3), int64(8), object(3)\n",
      "memory usage: 1.1+ MB\n"
     ]
    }
   ],
   "source": [
    "df.info() # Посмотрим общюю информацию"
   ]
  },
  {
   "cell_type": "code",
   "execution_count": 4,
   "metadata": {},
   "outputs": [
    {
     "data": {
      "text/html": [
       "<div>\n",
       "<style scoped>\n",
       "    .dataframe tbody tr th:only-of-type {\n",
       "        vertical-align: middle;\n",
       "    }\n",
       "\n",
       "    .dataframe tbody tr th {\n",
       "        vertical-align: top;\n",
       "    }\n",
       "\n",
       "    .dataframe thead th {\n",
       "        text-align: right;\n",
       "    }\n",
       "</style>\n",
       "<table border=\"1\" class=\"dataframe\">\n",
       "  <thead>\n",
       "    <tr style=\"text-align: right;\">\n",
       "      <th></th>\n",
       "      <th>RowNumber</th>\n",
       "      <th>CustomerId</th>\n",
       "      <th>CreditScore</th>\n",
       "      <th>Age</th>\n",
       "      <th>Tenure</th>\n",
       "      <th>Balance</th>\n",
       "      <th>NumOfProducts</th>\n",
       "      <th>HasCrCard</th>\n",
       "      <th>IsActiveMember</th>\n",
       "      <th>EstimatedSalary</th>\n",
       "      <th>Exited</th>\n",
       "    </tr>\n",
       "  </thead>\n",
       "  <tbody>\n",
       "    <tr>\n",
       "      <th>RowNumber</th>\n",
       "      <td>1.000000</td>\n",
       "      <td>0.004202</td>\n",
       "      <td>0.005840</td>\n",
       "      <td>0.000783</td>\n",
       "      <td>-0.007322</td>\n",
       "      <td>-0.009067</td>\n",
       "      <td>0.007246</td>\n",
       "      <td>0.000599</td>\n",
       "      <td>0.012044</td>\n",
       "      <td>-0.005988</td>\n",
       "      <td>-0.016571</td>\n",
       "    </tr>\n",
       "    <tr>\n",
       "      <th>CustomerId</th>\n",
       "      <td>0.004202</td>\n",
       "      <td>1.000000</td>\n",
       "      <td>0.005308</td>\n",
       "      <td>0.009497</td>\n",
       "      <td>-0.021418</td>\n",
       "      <td>-0.012419</td>\n",
       "      <td>0.016972</td>\n",
       "      <td>-0.014025</td>\n",
       "      <td>0.001665</td>\n",
       "      <td>0.015271</td>\n",
       "      <td>-0.006248</td>\n",
       "    </tr>\n",
       "    <tr>\n",
       "      <th>CreditScore</th>\n",
       "      <td>0.005840</td>\n",
       "      <td>0.005308</td>\n",
       "      <td>1.000000</td>\n",
       "      <td>-0.003965</td>\n",
       "      <td>-0.000062</td>\n",
       "      <td>0.006268</td>\n",
       "      <td>0.012238</td>\n",
       "      <td>-0.005458</td>\n",
       "      <td>0.025651</td>\n",
       "      <td>-0.001384</td>\n",
       "      <td>-0.027094</td>\n",
       "    </tr>\n",
       "    <tr>\n",
       "      <th>Age</th>\n",
       "      <td>0.000783</td>\n",
       "      <td>0.009497</td>\n",
       "      <td>-0.003965</td>\n",
       "      <td>1.000000</td>\n",
       "      <td>-0.013134</td>\n",
       "      <td>0.028308</td>\n",
       "      <td>-0.030680</td>\n",
       "      <td>-0.011721</td>\n",
       "      <td>0.085472</td>\n",
       "      <td>-0.007201</td>\n",
       "      <td>0.285323</td>\n",
       "    </tr>\n",
       "    <tr>\n",
       "      <th>Tenure</th>\n",
       "      <td>-0.007322</td>\n",
       "      <td>-0.021418</td>\n",
       "      <td>-0.000062</td>\n",
       "      <td>-0.013134</td>\n",
       "      <td>1.000000</td>\n",
       "      <td>-0.007911</td>\n",
       "      <td>0.011979</td>\n",
       "      <td>0.027232</td>\n",
       "      <td>-0.032178</td>\n",
       "      <td>0.010520</td>\n",
       "      <td>-0.016761</td>\n",
       "    </tr>\n",
       "    <tr>\n",
       "      <th>Balance</th>\n",
       "      <td>-0.009067</td>\n",
       "      <td>-0.012419</td>\n",
       "      <td>0.006268</td>\n",
       "      <td>0.028308</td>\n",
       "      <td>-0.007911</td>\n",
       "      <td>1.000000</td>\n",
       "      <td>-0.304180</td>\n",
       "      <td>-0.014858</td>\n",
       "      <td>-0.010084</td>\n",
       "      <td>0.012797</td>\n",
       "      <td>0.118533</td>\n",
       "    </tr>\n",
       "    <tr>\n",
       "      <th>NumOfProducts</th>\n",
       "      <td>0.007246</td>\n",
       "      <td>0.016972</td>\n",
       "      <td>0.012238</td>\n",
       "      <td>-0.030680</td>\n",
       "      <td>0.011979</td>\n",
       "      <td>-0.304180</td>\n",
       "      <td>1.000000</td>\n",
       "      <td>0.003183</td>\n",
       "      <td>0.009612</td>\n",
       "      <td>0.014204</td>\n",
       "      <td>-0.047820</td>\n",
       "    </tr>\n",
       "    <tr>\n",
       "      <th>HasCrCard</th>\n",
       "      <td>0.000599</td>\n",
       "      <td>-0.014025</td>\n",
       "      <td>-0.005458</td>\n",
       "      <td>-0.011721</td>\n",
       "      <td>0.027232</td>\n",
       "      <td>-0.014858</td>\n",
       "      <td>0.003183</td>\n",
       "      <td>1.000000</td>\n",
       "      <td>-0.011866</td>\n",
       "      <td>-0.009933</td>\n",
       "      <td>-0.007138</td>\n",
       "    </tr>\n",
       "    <tr>\n",
       "      <th>IsActiveMember</th>\n",
       "      <td>0.012044</td>\n",
       "      <td>0.001665</td>\n",
       "      <td>0.025651</td>\n",
       "      <td>0.085472</td>\n",
       "      <td>-0.032178</td>\n",
       "      <td>-0.010084</td>\n",
       "      <td>0.009612</td>\n",
       "      <td>-0.011866</td>\n",
       "      <td>1.000000</td>\n",
       "      <td>-0.011421</td>\n",
       "      <td>-0.156128</td>\n",
       "    </tr>\n",
       "    <tr>\n",
       "      <th>EstimatedSalary</th>\n",
       "      <td>-0.005988</td>\n",
       "      <td>0.015271</td>\n",
       "      <td>-0.001384</td>\n",
       "      <td>-0.007201</td>\n",
       "      <td>0.010520</td>\n",
       "      <td>0.012797</td>\n",
       "      <td>0.014204</td>\n",
       "      <td>-0.009933</td>\n",
       "      <td>-0.011421</td>\n",
       "      <td>1.000000</td>\n",
       "      <td>0.012097</td>\n",
       "    </tr>\n",
       "    <tr>\n",
       "      <th>Exited</th>\n",
       "      <td>-0.016571</td>\n",
       "      <td>-0.006248</td>\n",
       "      <td>-0.027094</td>\n",
       "      <td>0.285323</td>\n",
       "      <td>-0.016761</td>\n",
       "      <td>0.118533</td>\n",
       "      <td>-0.047820</td>\n",
       "      <td>-0.007138</td>\n",
       "      <td>-0.156128</td>\n",
       "      <td>0.012097</td>\n",
       "      <td>1.000000</td>\n",
       "    </tr>\n",
       "  </tbody>\n",
       "</table>\n",
       "</div>"
      ],
      "text/plain": [
       "                 RowNumber  CustomerId  CreditScore       Age    Tenure  \\\n",
       "RowNumber         1.000000    0.004202     0.005840  0.000783 -0.007322   \n",
       "CustomerId        0.004202    1.000000     0.005308  0.009497 -0.021418   \n",
       "CreditScore       0.005840    0.005308     1.000000 -0.003965 -0.000062   \n",
       "Age               0.000783    0.009497    -0.003965  1.000000 -0.013134   \n",
       "Tenure           -0.007322   -0.021418    -0.000062 -0.013134  1.000000   \n",
       "Balance          -0.009067   -0.012419     0.006268  0.028308 -0.007911   \n",
       "NumOfProducts     0.007246    0.016972     0.012238 -0.030680  0.011979   \n",
       "HasCrCard         0.000599   -0.014025    -0.005458 -0.011721  0.027232   \n",
       "IsActiveMember    0.012044    0.001665     0.025651  0.085472 -0.032178   \n",
       "EstimatedSalary  -0.005988    0.015271    -0.001384 -0.007201  0.010520   \n",
       "Exited           -0.016571   -0.006248    -0.027094  0.285323 -0.016761   \n",
       "\n",
       "                  Balance  NumOfProducts  HasCrCard  IsActiveMember  \\\n",
       "RowNumber       -0.009067       0.007246   0.000599        0.012044   \n",
       "CustomerId      -0.012419       0.016972  -0.014025        0.001665   \n",
       "CreditScore      0.006268       0.012238  -0.005458        0.025651   \n",
       "Age              0.028308      -0.030680  -0.011721        0.085472   \n",
       "Tenure          -0.007911       0.011979   0.027232       -0.032178   \n",
       "Balance          1.000000      -0.304180  -0.014858       -0.010084   \n",
       "NumOfProducts   -0.304180       1.000000   0.003183        0.009612   \n",
       "HasCrCard       -0.014858       0.003183   1.000000       -0.011866   \n",
       "IsActiveMember  -0.010084       0.009612  -0.011866        1.000000   \n",
       "EstimatedSalary  0.012797       0.014204  -0.009933       -0.011421   \n",
       "Exited           0.118533      -0.047820  -0.007138       -0.156128   \n",
       "\n",
       "                 EstimatedSalary    Exited  \n",
       "RowNumber              -0.005988 -0.016571  \n",
       "CustomerId              0.015271 -0.006248  \n",
       "CreditScore            -0.001384 -0.027094  \n",
       "Age                    -0.007201  0.285323  \n",
       "Tenure                  0.010520 -0.016761  \n",
       "Balance                 0.012797  0.118533  \n",
       "NumOfProducts           0.014204 -0.047820  \n",
       "HasCrCard              -0.009933 -0.007138  \n",
       "IsActiveMember         -0.011421 -0.156128  \n",
       "EstimatedSalary         1.000000  0.012097  \n",
       "Exited                  0.012097  1.000000  "
      ]
     },
     "execution_count": 4,
     "metadata": {},
     "output_type": "execute_result"
    }
   ],
   "source": [
    "df.corr() # посмотрим есть ли кореляция между какими то столбами"
   ]
  },
  {
   "cell_type": "code",
   "execution_count": 5,
   "metadata": {},
   "outputs": [
    {
     "data": {
      "text/html": [
       "<div>\n",
       "<style scoped>\n",
       "    .dataframe tbody tr th:only-of-type {\n",
       "        vertical-align: middle;\n",
       "    }\n",
       "\n",
       "    .dataframe tbody tr th {\n",
       "        vertical-align: top;\n",
       "    }\n",
       "\n",
       "    .dataframe thead th {\n",
       "        text-align: right;\n",
       "    }\n",
       "</style>\n",
       "<table border=\"1\" class=\"dataframe\">\n",
       "  <thead>\n",
       "    <tr style=\"text-align: right;\">\n",
       "      <th></th>\n",
       "      <th>CreditScore</th>\n",
       "      <th>Geography</th>\n",
       "      <th>Gender</th>\n",
       "      <th>Age</th>\n",
       "      <th>Tenure</th>\n",
       "      <th>Balance</th>\n",
       "      <th>NumOfProducts</th>\n",
       "      <th>HasCrCard</th>\n",
       "      <th>IsActiveMember</th>\n",
       "      <th>EstimatedSalary</th>\n",
       "      <th>Exited</th>\n",
       "    </tr>\n",
       "  </thead>\n",
       "  <tbody>\n",
       "    <tr>\n",
       "      <th>0</th>\n",
       "      <td>619</td>\n",
       "      <td>France</td>\n",
       "      <td>Female</td>\n",
       "      <td>42</td>\n",
       "      <td>2.0</td>\n",
       "      <td>0.00</td>\n",
       "      <td>1</td>\n",
       "      <td>1</td>\n",
       "      <td>1</td>\n",
       "      <td>101348.88</td>\n",
       "      <td>1</td>\n",
       "    </tr>\n",
       "    <tr>\n",
       "      <th>1</th>\n",
       "      <td>608</td>\n",
       "      <td>Spain</td>\n",
       "      <td>Female</td>\n",
       "      <td>41</td>\n",
       "      <td>1.0</td>\n",
       "      <td>83807.86</td>\n",
       "      <td>1</td>\n",
       "      <td>0</td>\n",
       "      <td>1</td>\n",
       "      <td>112542.58</td>\n",
       "      <td>0</td>\n",
       "    </tr>\n",
       "    <tr>\n",
       "      <th>2</th>\n",
       "      <td>502</td>\n",
       "      <td>France</td>\n",
       "      <td>Female</td>\n",
       "      <td>42</td>\n",
       "      <td>8.0</td>\n",
       "      <td>159660.80</td>\n",
       "      <td>3</td>\n",
       "      <td>1</td>\n",
       "      <td>0</td>\n",
       "      <td>113931.57</td>\n",
       "      <td>1</td>\n",
       "    </tr>\n",
       "    <tr>\n",
       "      <th>3</th>\n",
       "      <td>699</td>\n",
       "      <td>France</td>\n",
       "      <td>Female</td>\n",
       "      <td>39</td>\n",
       "      <td>1.0</td>\n",
       "      <td>0.00</td>\n",
       "      <td>2</td>\n",
       "      <td>0</td>\n",
       "      <td>0</td>\n",
       "      <td>93826.63</td>\n",
       "      <td>0</td>\n",
       "    </tr>\n",
       "    <tr>\n",
       "      <th>4</th>\n",
       "      <td>850</td>\n",
       "      <td>Spain</td>\n",
       "      <td>Female</td>\n",
       "      <td>43</td>\n",
       "      <td>2.0</td>\n",
       "      <td>125510.82</td>\n",
       "      <td>1</td>\n",
       "      <td>1</td>\n",
       "      <td>1</td>\n",
       "      <td>79084.10</td>\n",
       "      <td>0</td>\n",
       "    </tr>\n",
       "  </tbody>\n",
       "</table>\n",
       "</div>"
      ],
      "text/plain": [
       "   CreditScore Geography  Gender  Age  Tenure    Balance  NumOfProducts  \\\n",
       "0          619    France  Female   42     2.0       0.00              1   \n",
       "1          608     Spain  Female   41     1.0   83807.86              1   \n",
       "2          502    France  Female   42     8.0  159660.80              3   \n",
       "3          699    France  Female   39     1.0       0.00              2   \n",
       "4          850     Spain  Female   43     2.0  125510.82              1   \n",
       "\n",
       "   HasCrCard  IsActiveMember  EstimatedSalary  Exited  \n",
       "0          1               1        101348.88       1  \n",
       "1          0               1        112542.58       0  \n",
       "2          1               0        113931.57       1  \n",
       "3          0               0         93826.63       0  \n",
       "4          1               1         79084.10       0  "
      ]
     },
     "execution_count": 5,
     "metadata": {},
     "output_type": "execute_result"
    }
   ],
   "source": [
    "df = df.drop(['Surname', 'CustomerId', 'RowNumber'], axis = 1) # удаляем ненужные нам столбцы\n",
    "\n",
    "df['Tenure'] = df['Tenure'].fillna(1)  # заменим пропуски на минимальное значение\n",
    "\n",
    "df.head() # проверим, что все получилось"
   ]
  },
  {
   "cell_type": "code",
   "execution_count": 6,
   "metadata": {},
   "outputs": [
    {
     "data": {
      "text/html": [
       "<div>\n",
       "<style scoped>\n",
       "    .dataframe tbody tr th:only-of-type {\n",
       "        vertical-align: middle;\n",
       "    }\n",
       "\n",
       "    .dataframe tbody tr th {\n",
       "        vertical-align: top;\n",
       "    }\n",
       "\n",
       "    .dataframe thead th {\n",
       "        text-align: right;\n",
       "    }\n",
       "</style>\n",
       "<table border=\"1\" class=\"dataframe\">\n",
       "  <thead>\n",
       "    <tr style=\"text-align: right;\">\n",
       "      <th></th>\n",
       "      <th>CreditScore</th>\n",
       "      <th>Age</th>\n",
       "      <th>Tenure</th>\n",
       "      <th>Balance</th>\n",
       "      <th>NumOfProducts</th>\n",
       "      <th>HasCrCard</th>\n",
       "      <th>IsActiveMember</th>\n",
       "      <th>EstimatedSalary</th>\n",
       "      <th>Exited</th>\n",
       "      <th>Geography_Germany</th>\n",
       "      <th>Geography_Spain</th>\n",
       "      <th>Gender_Male</th>\n",
       "    </tr>\n",
       "  </thead>\n",
       "  <tbody>\n",
       "    <tr>\n",
       "      <th>0</th>\n",
       "      <td>619</td>\n",
       "      <td>42</td>\n",
       "      <td>2.0</td>\n",
       "      <td>0.00</td>\n",
       "      <td>1</td>\n",
       "      <td>1</td>\n",
       "      <td>1</td>\n",
       "      <td>101348.88</td>\n",
       "      <td>1</td>\n",
       "      <td>0</td>\n",
       "      <td>0</td>\n",
       "      <td>0</td>\n",
       "    </tr>\n",
       "    <tr>\n",
       "      <th>1</th>\n",
       "      <td>608</td>\n",
       "      <td>41</td>\n",
       "      <td>1.0</td>\n",
       "      <td>83807.86</td>\n",
       "      <td>1</td>\n",
       "      <td>0</td>\n",
       "      <td>1</td>\n",
       "      <td>112542.58</td>\n",
       "      <td>0</td>\n",
       "      <td>0</td>\n",
       "      <td>1</td>\n",
       "      <td>0</td>\n",
       "    </tr>\n",
       "    <tr>\n",
       "      <th>2</th>\n",
       "      <td>502</td>\n",
       "      <td>42</td>\n",
       "      <td>8.0</td>\n",
       "      <td>159660.80</td>\n",
       "      <td>3</td>\n",
       "      <td>1</td>\n",
       "      <td>0</td>\n",
       "      <td>113931.57</td>\n",
       "      <td>1</td>\n",
       "      <td>0</td>\n",
       "      <td>0</td>\n",
       "      <td>0</td>\n",
       "    </tr>\n",
       "    <tr>\n",
       "      <th>3</th>\n",
       "      <td>699</td>\n",
       "      <td>39</td>\n",
       "      <td>1.0</td>\n",
       "      <td>0.00</td>\n",
       "      <td>2</td>\n",
       "      <td>0</td>\n",
       "      <td>0</td>\n",
       "      <td>93826.63</td>\n",
       "      <td>0</td>\n",
       "      <td>0</td>\n",
       "      <td>0</td>\n",
       "      <td>0</td>\n",
       "    </tr>\n",
       "    <tr>\n",
       "      <th>4</th>\n",
       "      <td>850</td>\n",
       "      <td>43</td>\n",
       "      <td>2.0</td>\n",
       "      <td>125510.82</td>\n",
       "      <td>1</td>\n",
       "      <td>1</td>\n",
       "      <td>1</td>\n",
       "      <td>79084.10</td>\n",
       "      <td>0</td>\n",
       "      <td>0</td>\n",
       "      <td>1</td>\n",
       "      <td>0</td>\n",
       "    </tr>\n",
       "  </tbody>\n",
       "</table>\n",
       "</div>"
      ],
      "text/plain": [
       "   CreditScore  Age  Tenure    Balance  NumOfProducts  HasCrCard  \\\n",
       "0          619   42     2.0       0.00              1          1   \n",
       "1          608   41     1.0   83807.86              1          0   \n",
       "2          502   42     8.0  159660.80              3          1   \n",
       "3          699   39     1.0       0.00              2          0   \n",
       "4          850   43     2.0  125510.82              1          1   \n",
       "\n",
       "   IsActiveMember  EstimatedSalary  Exited  Geography_Germany  \\\n",
       "0               1        101348.88       1                  0   \n",
       "1               1        112542.58       0                  0   \n",
       "2               0        113931.57       1                  0   \n",
       "3               0         93826.63       0                  0   \n",
       "4               1         79084.10       0                  0   \n",
       "\n",
       "   Geography_Spain  Gender_Male  \n",
       "0                0            0  \n",
       "1                1            0  \n",
       "2                0            0  \n",
       "3                0            0  \n",
       "4                1            0  "
      ]
     },
     "execution_count": 6,
     "metadata": {},
     "output_type": "execute_result"
    }
   ],
   "source": [
    "df_ohe = pd.get_dummies(df, drop_first = True) # применим технику прямого кодирования\n",
    "\n",
    "df_ohe.head()  # проверим, что все получилось"
   ]
  },
  {
   "cell_type": "code",
   "execution_count": 7,
   "metadata": {},
   "outputs": [],
   "source": [
    "X = df_ohe.drop(['Exited'], axis= 1) # разобьем датафрейм на признаки и целевой признак\n",
    "y = df_ohe['Exited']"
   ]
  },
  {
   "cell_type": "code",
   "execution_count": 8,
   "metadata": {},
   "outputs": [
    {
     "data": {
      "text/html": [
       "<div>\n",
       "<style scoped>\n",
       "    .dataframe tbody tr th:only-of-type {\n",
       "        vertical-align: middle;\n",
       "    }\n",
       "\n",
       "    .dataframe tbody tr th {\n",
       "        vertical-align: top;\n",
       "    }\n",
       "\n",
       "    .dataframe thead th {\n",
       "        text-align: right;\n",
       "    }\n",
       "</style>\n",
       "<table border=\"1\" class=\"dataframe\">\n",
       "  <thead>\n",
       "    <tr style=\"text-align: right;\">\n",
       "      <th></th>\n",
       "      <th>CreditScore</th>\n",
       "      <th>Age</th>\n",
       "      <th>Tenure</th>\n",
       "      <th>Balance</th>\n",
       "      <th>NumOfProducts</th>\n",
       "      <th>HasCrCard</th>\n",
       "      <th>IsActiveMember</th>\n",
       "      <th>EstimatedSalary</th>\n",
       "      <th>Geography_Germany</th>\n",
       "      <th>Geography_Spain</th>\n",
       "      <th>Gender_Male</th>\n",
       "    </tr>\n",
       "  </thead>\n",
       "  <tbody>\n",
       "    <tr>\n",
       "      <th>0</th>\n",
       "      <td>619</td>\n",
       "      <td>42</td>\n",
       "      <td>2.0</td>\n",
       "      <td>0.00</td>\n",
       "      <td>1</td>\n",
       "      <td>1</td>\n",
       "      <td>1</td>\n",
       "      <td>101348.88</td>\n",
       "      <td>0</td>\n",
       "      <td>0</td>\n",
       "      <td>0</td>\n",
       "    </tr>\n",
       "    <tr>\n",
       "      <th>1</th>\n",
       "      <td>608</td>\n",
       "      <td>41</td>\n",
       "      <td>1.0</td>\n",
       "      <td>83807.86</td>\n",
       "      <td>1</td>\n",
       "      <td>0</td>\n",
       "      <td>1</td>\n",
       "      <td>112542.58</td>\n",
       "      <td>0</td>\n",
       "      <td>1</td>\n",
       "      <td>0</td>\n",
       "    </tr>\n",
       "    <tr>\n",
       "      <th>2</th>\n",
       "      <td>502</td>\n",
       "      <td>42</td>\n",
       "      <td>8.0</td>\n",
       "      <td>159660.80</td>\n",
       "      <td>3</td>\n",
       "      <td>1</td>\n",
       "      <td>0</td>\n",
       "      <td>113931.57</td>\n",
       "      <td>0</td>\n",
       "      <td>0</td>\n",
       "      <td>0</td>\n",
       "    </tr>\n",
       "    <tr>\n",
       "      <th>3</th>\n",
       "      <td>699</td>\n",
       "      <td>39</td>\n",
       "      <td>1.0</td>\n",
       "      <td>0.00</td>\n",
       "      <td>2</td>\n",
       "      <td>0</td>\n",
       "      <td>0</td>\n",
       "      <td>93826.63</td>\n",
       "      <td>0</td>\n",
       "      <td>0</td>\n",
       "      <td>0</td>\n",
       "    </tr>\n",
       "    <tr>\n",
       "      <th>4</th>\n",
       "      <td>850</td>\n",
       "      <td>43</td>\n",
       "      <td>2.0</td>\n",
       "      <td>125510.82</td>\n",
       "      <td>1</td>\n",
       "      <td>1</td>\n",
       "      <td>1</td>\n",
       "      <td>79084.10</td>\n",
       "      <td>0</td>\n",
       "      <td>1</td>\n",
       "      <td>0</td>\n",
       "    </tr>\n",
       "  </tbody>\n",
       "</table>\n",
       "</div>"
      ],
      "text/plain": [
       "   CreditScore  Age  Tenure    Balance  NumOfProducts  HasCrCard  \\\n",
       "0          619   42     2.0       0.00              1          1   \n",
       "1          608   41     1.0   83807.86              1          0   \n",
       "2          502   42     8.0  159660.80              3          1   \n",
       "3          699   39     1.0       0.00              2          0   \n",
       "4          850   43     2.0  125510.82              1          1   \n",
       "\n",
       "   IsActiveMember  EstimatedSalary  Geography_Germany  Geography_Spain  \\\n",
       "0               1        101348.88                  0                0   \n",
       "1               1        112542.58                  0                1   \n",
       "2               0        113931.57                  0                0   \n",
       "3               0         93826.63                  0                0   \n",
       "4               1         79084.10                  0                1   \n",
       "\n",
       "   Gender_Male  \n",
       "0            0  \n",
       "1            0  \n",
       "2            0  \n",
       "3            0  \n",
       "4            0  "
      ]
     },
     "execution_count": 8,
     "metadata": {},
     "output_type": "execute_result"
    }
   ],
   "source": [
    "X.head() # проверим, что у нас получилось"
   ]
  },
  {
   "cell_type": "code",
   "execution_count": 9,
   "metadata": {},
   "outputs": [
    {
     "data": {
      "text/plain": [
       "0    1\n",
       "1    0\n",
       "2    1\n",
       "3    0\n",
       "4    0\n",
       "Name: Exited, dtype: int64"
      ]
     },
     "execution_count": 9,
     "metadata": {},
     "output_type": "execute_result"
    }
   ],
   "source": [
    "y.head() # проверим, что у нас получилось"
   ]
  },
  {
   "cell_type": "code",
   "execution_count": 10,
   "metadata": {},
   "outputs": [
    {
     "name": "stdout",
     "output_type": "stream",
     "text": [
      "Дальнейшая выборка: (8000, 11)\n",
      "Дальнейшая выборка: (8000,)\n",
      "Тестовая выборка: (2000, 11)\n",
      "Тестовая выборка: (2000,)\n"
     ]
    }
   ],
   "source": [
    "further_X, X_test, further_y, y_test = \\\n",
    "tts(X, y, random_state = 12345, test_size = 0.20, stratify = y) # разделим на дальнейшую выборку и тестовую\n",
    "\n",
    "print('Дальнейшая выборка', further_X.shape, sep=': ')\n",
    "print('Дальнейшая выборка', further_y.shape, sep = ': ')\n",
    "print('Тестовая выборка', X_test.shape, sep= ': ')\n",
    "print('Тестовая выборка', y_test.shape, sep = ': ')"
   ]
  },
  {
   "cell_type": "code",
   "execution_count": 11,
   "metadata": {},
   "outputs": [
    {
     "name": "stdout",
     "output_type": "stream",
     "text": [
      "Обучающая выборка: (6000, 11)\n",
      "Обучающая выборка: (6000,)\n",
      "Валидвционная выборка: (2000, 11)\n",
      "Валидационная выборка: (2000,)\n"
     ]
    }
   ],
   "source": [
    "X_train, X_valid, y_train, y_valid = \\\n",
    "tts(further_X, further_y, random_state = 12345, test_size = 0.25, stratify = further_y)\n",
    "\n",
    "print('Обучающая выборка', X_train.shape, sep = ': ')  # дальше разделим на обучающюю и валидационную выборку\n",
    "print('Обучающая выборка', y_train.shape, sep = ': ')\n",
    "print('Валидвционная выборка', X_valid.shape , sep = ': ')\n",
    "print('Валидационная выборка', y_valid.shape, sep = ': ')"
   ]
  },
  {
   "cell_type": "code",
   "execution_count": 12,
   "metadata": {},
   "outputs": [],
   "source": [
    "numeric = ['CreditScore', 'Age', 'Tenure', 'Balance', 'NumOfProducts', 'EstimatedSalary',]\n",
    "\n",
    "scaler = StandardScaler().fit(X_train[numeric])  # маштабируем признаки\n",
    "\n",
    "X_train[numeric] = scaler.transform(X_train[numeric])\n",
    "\n",
    "X_valid[numeric] = scaler.transform(X_valid[numeric])\n",
    "\n",
    "X_test[numeric] = scaler.transform(X_test[numeric])\n",
    "\n"
   ]
  },
  {
   "cell_type": "code",
   "execution_count": 13,
   "metadata": {},
   "outputs": [
    {
     "name": "stdout",
     "output_type": "stream",
     "text": [
      "      CreditScore       Age    Tenure   Balance  NumOfProducts  \\\n",
      "5536    -0.143332  0.577533 -1.214405 -1.220573       0.797767   \n",
      "8530     1.632702 -0.564119 -0.879566  0.435807      -0.916018   \n",
      "\n",
      "      EstimatedSalary  \n",
      "5536         1.029613  \n",
      "8530         0.237986  \n",
      "      CreditScore       Age    Tenure   Balance  NumOfProducts  \\\n",
      "9375     0.094161  0.862946 -0.209888  0.757050       0.797767   \n",
      "9536    -1.031349  0.292120  1.799145  0.838881      -0.916018   \n",
      "\n",
      "      EstimatedSalary  \n",
      "9375        -0.308325  \n",
      "9536        -0.645029  \n",
      "      CreditScore       Age    Tenure   Balance  NumOfProducts  \\\n",
      "7837     2.066384  0.862946 -0.879566 -1.220573      -0.916018   \n",
      "9505     0.011555 -1.039807  1.799145  0.052520      -0.916018   \n",
      "\n",
      "      EstimatedSalary  \n",
      "7837         1.202714  \n",
      "9505        -0.443548  \n"
     ]
    }
   ],
   "source": [
    "print(X_train[numeric].head(2))\n",
    "\n",
    "print(X_valid[numeric].head(2))  # Проверим, что все получилось\n",
    "\n",
    "print(X_test[numeric].head(2))"
   ]
  },
  {
   "cell_type": "markdown",
   "metadata": {},
   "source": [
    "Загрузили файл и посмотрели информацию о нем. Столбцы 'Surname', 'CustomerId', 'RowNumber' были удалены из даафрейма поскольку я считаю что они мало полезны в нашем исследовании и мало влияют на уход клиента. Пропуски в столбце 'Tenure'  были заполнены минимальным значением в один год, поскольку это кажеться более логичным вариантом чем заполнение средним или медианой. С помощью техники прямого кодирования сделали все категоральные признаки численные. Разделили датафрейм на признаки и целевые признаки. Потом стандартизировали признаки и разделили датафрейм в соотношении 3:1:1  на обучающюю, тестовую и валидационную выборку."
   ]
  },
  {
   "cell_type": "markdown",
   "metadata": {},
   "source": [
    "## Исследование задачи"
   ]
  },
  {
   "cell_type": "markdown",
   "metadata": {},
   "source": [
    "### Исследуем баланс классов"
   ]
  },
  {
   "cell_type": "code",
   "execution_count": 14,
   "metadata": {},
   "outputs": [
    {
     "data": {
      "image/png": "[encoded data removed]",
      "text/plain": [
       "<Figure size 864x576 with 1 Axes>"
      ]
     },
     "metadata": {
      "needs_background": "light"
     },
     "output_type": "display_data"
    }
   ],
   "source": [
    "creditscore_0 = df[df['Exited'] == 0].CreditScore\n",
    "\n",
    "creditscore_1 = df[df['Exited'] == 1].CreditScore  # посмотрим на дисбаланс в кредитном рейтинге\n",
    "\n",
    "plt.figure(figsize = (12, 8))\n",
    "plt.ylabel('Количество клиентов которые ушли')\n",
    "plt.xlabel('Кредитный рейтинг')\n",
    "plt.hist([creditscore_0, creditscore_1], label =['Ушли', 'Остались'])\n",
    "plt.legend()\n",
    "plt.show()"
   ]
  },
  {
   "cell_type": "code",
   "execution_count": 15,
   "metadata": {},
   "outputs": [
    {
     "data": {
      "image/png": "[encoded data removed]",
      "text/plain": [
       "<Figure size 864x576 with 1 Axes>"
      ]
     },
     "metadata": {
      "needs_background": "light"
     },
     "output_type": "display_data"
    }
   ],
   "source": [
    "age_0 = df[df['Exited'] == 0].Age\n",
    "\n",
    "age_1 = df[df['Exited'] == 1].Age # посмотрим на дисбаданс в возрасте клиентов\n",
    "\n",
    "plt.figure(figsize = (12, 8))\n",
    "plt.ylabel('Количество клиентов которые ушли')\n",
    "plt.xlabel('Возраст клиентов')\n",
    "plt.hist([age_0, age_1], label =['Ушли', 'Остались'])\n",
    "plt.legend()\n",
    "plt.show()"
   ]
  },
  {
   "cell_type": "code",
   "execution_count": 16,
   "metadata": {},
   "outputs": [
    {
     "data": {
      "image/png": "[encoded data removed]",
      "text/plain": [
       "<Figure size 864x576 with 1 Axes>"
      ]
     },
     "metadata": {
      "needs_background": "light"
     },
     "output_type": "display_data"
    }
   ],
   "source": [
    "tenure_0 = df[df['Exited'] == 0].Tenure\n",
    "\n",
    "tenure_1 = df[df['Exited'] == 1].Tenure  # посмотрим на дисбаланс в том сколько клиент является клиентом банка\n",
    "\n",
    "plt.figure(figsize = (12, 8))\n",
    "plt.ylabel('Количество клиентов которые ушли')\n",
    "plt.xlabel('Сколько лет является клиентом')\n",
    "plt.hist([tenure_0, tenure_1], label =['Ушли', 'Остались'])\n",
    "plt.legend()\n",
    "plt.show()"
   ]
  },
  {
   "cell_type": "code",
   "execution_count": 17,
   "metadata": {},
   "outputs": [
    {
     "data": {
      "image/png": "[encoded data removed]",
      "text/plain": [
       "<Figure size 576x576 with 1 Axes>"
      ]
     },
     "metadata": {
      "needs_background": "light"
     },
     "output_type": "display_data"
    }
   ],
   "source": [
    "gender_0 = df[df['Exited'] == 0].Gender\n",
    "\n",
    "gender_1 = df[df['Exited'] == 1].Gender  # посмотрим на дисбаланс в гендере\n",
    "\n",
    "plt.figure(figsize = (8, 8))\n",
    "plt.ylabel('Количество клиентов которые ушли')\n",
    "plt.xlabel('Гендер')\n",
    "plt.hist([gender_0, gender_1], label =['Ушли', 'Остались'])\n",
    "plt.legend()\n",
    "plt.show()"
   ]
  },
  {
   "cell_type": "code",
   "execution_count": 18,
   "metadata": {},
   "outputs": [
    {
     "data": {
      "image/png": "[encoded data removed]",
      "text/plain": [
       "<Figure size 864x720 with 1 Axes>"
      ]
     },
     "metadata": {
      "needs_background": "light"
     },
     "output_type": "display_data"
    }
   ],
   "source": [
    "plt.figure(figsize = (12, 10))\n",
    "plt.ylabel('Количество клиентов которые ушли')  # посмотрим в целом на дисбаланс ушедших и тех кто остался\n",
    "plt.xlabel('Факт ухода')\n",
    "plt.hist(df['Exited'], label = '0 = Ушли, 1 = Остались')\n",
    "plt.legend()\n",
    "plt.show()"
   ]
  },
  {
   "cell_type": "markdown",
   "metadata": {},
   "source": [
    "В целом из выше изложеный графиков видно, что присутствует дисбаланс. В датафрейме в 4 раза больше тех кто остался."
   ]
  },
  {
   "cell_type": "markdown",
   "metadata": {},
   "source": [
    "### Исследуем модель дерева решений без учета дисбаланса"
   ]
  },
  {
   "cell_type": "code",
   "execution_count": 19,
   "metadata": {},
   "outputs": [
    {
     "name": "stdout",
     "output_type": "stream",
     "text": [
      "Лучшая f1-мера: 0.5952045133991538\n",
      "Лучшая модель: DecisionTreeClassifier(max_features=10, min_samples_leaf=15, random_state=12345)\n",
      "Метрика AUC-ROC: 0.8064088742054845\n"
     ]
    }
   ],
   "source": [
    "best_model_decision = None   # попробуем найти лучшую модель дерева решений без учета дисбаланса\n",
    "\n",
    "best_decision_f1 = 0\n",
    "\n",
    "for leaf in range(1, 201):\n",
    "    for features in range(1,12):\n",
    "        model = DecisionTreeClassifier\\\n",
    "        (random_state = 12345, min_samples_leaf = leaf, max_features = features).fit(X_train, y_train)\n",
    "        predictions = model.predict(X_valid)\n",
    "        result = f1_score(y_valid, predictions)\n",
    "        if result > best_decision_f1:\n",
    "            best_decision_f1 = result\n",
    "            best_model_decision = model\n",
    "       \n",
    "        \n",
    "        \n",
    "print('Лучшая f1-мера', best_decision_f1, sep = ': ')\n",
    "print('Лучшая модель', best_model_decision, sep = ': ')\n",
    "\n",
    "probabilities_decision = best_model_decision.predict_proba(X_valid)\n",
    "probabilities_one_decision = probabilities_decision[:, 1]\n",
    "\n",
    "auc_roc = roc_auc_score(y_valid, probabilities_one_decision)\n",
    "\n",
    "print('Метрика AUC-ROC', auc_roc, sep =': ')"
   ]
  },
  {
   "cell_type": "markdown",
   "metadata": {},
   "source": [
    "### Исследуем модель случайного леса без учета дисбаланса"
   ]
  },
  {
   "cell_type": "code",
   "execution_count": 20,
   "metadata": {
    "scrolled": true
   },
   "outputs": [
    {
     "name": "stdout",
     "output_type": "stream",
     "text": [
      "Лучшая f1-мера: 0.571870170015456\n",
      "Лучшая модель: RandomForestClassifier(max_depth=18, max_features='sqrt', n_jobs=-1,\n",
      "                       random_state=12345)\n",
      "Метрика AUC-ROC: 0.8520261401617334\n"
     ]
    }
   ],
   "source": [
    "best_model_random = None  # попробуем найти лучшую модель случайного леса без учета дисбаланса\n",
    "\n",
    "best_random_f1 = 0\n",
    "\n",
    "for depth in range(1, 201):\n",
    "        model = RandomForestClassifier\\\n",
    "        (random_state = 12345, max_depth = depth, n_jobs = -1, max_features = 'sqrt').fit(X_train, y_train)\n",
    "        predictions = model.predict(X_valid)\n",
    "        result = f1_score(y_valid, predictions)\n",
    "        if result > best_random_f1:\n",
    "            best_random_f1 = result\n",
    "            best_model_random = model\n",
    "        \n",
    "print('Лучшая f1-мера', best_random_f1, sep = ': ')\n",
    "print('Лучшая модель', best_model_random, sep = ': ')\n",
    "\n",
    "probabilities_random = best_model_random.predict_proba(X_valid)\n",
    "probabilities_one_random = probabilities_random[:, 1]\n",
    "\n",
    "auc_roc = roc_auc_score(y_valid, probabilities_one_random)\n",
    "\n",
    "print('Метрика AUC-ROC', auc_roc, sep =': ')"
   ]
  },
  {
   "cell_type": "markdown",
   "metadata": {},
   "source": [
    "Если искать модель без учета дисбаланса то она явно имеет низкую f1 меру, в принципе ее можно повысить если увеличивать количество гиперпараметров. Но это приводит к увелечению времени ее поиска."
   ]
  },
  {
   "cell_type": "markdown",
   "metadata": {},
   "source": [
    "## Борьба с дисбалансом"
   ]
  },
  {
   "cell_type": "markdown",
   "metadata": {},
   "source": [
    "### Увеличение выборки"
   ]
  },
  {
   "cell_type": "code",
   "execution_count": 21,
   "metadata": {},
   "outputs": [],
   "source": [
    "def upsample(X, y, repeat):  # попробуем метод увеличения выборки\n",
    "    features_zeros = X[y == 0]\n",
    "    features_ones = X[y == 1]\n",
    "    target_zeros = y[y == 0]\n",
    "    target_ones = y[y == 1]\n",
    "\n",
    "    X_upsampled = pd.concat([features_zeros] + [features_ones] * repeat)\n",
    "    y_upsampled = pd.concat([target_zeros] + [target_ones] * repeat)\n",
    "    \n",
    "    X_upsampled, y_upsampled = shuffle(\n",
    "        X_upsampled, y_upsampled, random_state=12345)\n",
    "    \n",
    "    return X_upsampled, y_upsampled\n",
    "\n",
    "X_upsampled, y_upsampled = upsample(X_train, y_train, 4)"
   ]
  },
  {
   "cell_type": "code",
   "execution_count": 22,
   "metadata": {},
   "outputs": [
    {
     "data": {
      "text/plain": [
       "1    4892\n",
       "0    4777\n",
       "Name: Exited, dtype: int64"
      ]
     },
     "execution_count": 22,
     "metadata": {},
     "output_type": "execute_result"
    }
   ],
   "source": [
    "y_upsampled.value_counts()"
   ]
  },
  {
   "cell_type": "markdown",
   "metadata": {},
   "source": [
    "#### Поиск лучшей модели дерева решений"
   ]
  },
  {
   "cell_type": "code",
   "execution_count": 23,
   "metadata": {},
   "outputs": [
    {
     "name": "stdout",
     "output_type": "stream",
     "text": [
      "Лучшая f1-мера: 0.6119257086999023\n",
      "Лучшая модель: DecisionTreeClassifier(class_weight='balanced', max_features=6,\n",
      "                       min_samples_leaf=55, random_state=12345)\n",
      "Метрика AUC-ROC: 0.8417593248101722\n"
     ]
    }
   ],
   "source": [
    "best_decision_up = None  # поищем лучшую модель дерева решений с учетом дибаланса и методом увелечения выборки\n",
    "\n",
    "best_decision_f1_up = 0\n",
    "\n",
    "\n",
    "for leaf in range(1, 201):\n",
    "    for features in range(1,12):\n",
    "        model = DecisionTreeClassifier\\\n",
    "        (random_state = 12345, min_samples_leaf = leaf, max_features = features, class_weight = 'balanced')\\\n",
    "        .fit(X_upsampled, y_upsampled)\n",
    "        predictions = model.predict(X_valid)\n",
    "        result = f1_score(y_valid, predictions)\n",
    "        if result > best_decision_f1_up:\n",
    "            best_decision_f1_up = result\n",
    "            best_decision_up = model\n",
    "       \n",
    "        \n",
    "        \n",
    "print('Лучшая f1-мера', best_decision_f1_up, sep = ': ')\n",
    "print('Лучшая модель', best_decision_up, sep = ': ')\n",
    "\n",
    "probabilities_up = best_decision_up.predict_proba(X_valid)\n",
    "probabilities_one_up = probabilities_up[:, 1]\n",
    "\n",
    "auc_roc = roc_auc_score(y_valid, probabilities_one_up)\n",
    "\n",
    "print('Метрика AUC-ROC', auc_roc, sep =': ')"
   ]
  },
  {
   "cell_type": "markdown",
   "metadata": {},
   "source": [
    "#### Поиск модели случайного леса"
   ]
  },
  {
   "cell_type": "code",
   "execution_count": 24,
   "metadata": {},
   "outputs": [
    {
     "name": "stdout",
     "output_type": "stream",
     "text": [
      "Лучшая f1-мера: 0.6361386138613863\n",
      "Лучшая модель: RandomForestClassifier(class_weight='balanced', max_depth=13,\n",
      "                       max_features='sqrt', n_jobs=-1, random_state=12345)\n",
      "Метрика AUC-ROC: 0.8520261401617334\n"
     ]
    }
   ],
   "source": [
    "# попробуем найти лучшую модель случайного леса с учетом дисбаланса и метода увеличения выборки\n",
    "best_random_up = None\n",
    "\n",
    "best_random_f1_up = 0\n",
    "\n",
    "for depth in range(1, 201):\n",
    "        model = RandomForestClassifier\\\n",
    "        (random_state = 12345, max_depth = depth, n_jobs = -1, max_features = 'sqrt', class_weight ='balanced')\\\n",
    "        .fit(X_upsampled, y_upsampled)\n",
    "        predictions = model.predict(X_valid)\n",
    "        result = f1_score(y_valid, predictions)\n",
    "        if result > best_random_f1_up:\n",
    "            best_random_f1_up = result\n",
    "            best_random_up = model\n",
    "        \n",
    "print('Лучшая f1-мера', best_random_f1_up, sep = ': ')\n",
    "print('Лучшая модель', best_random_up, sep = ': ')\n",
    "\n",
    "probabilities_random_up = best_model_random.predict_proba(X_valid)\n",
    "probabilities_one_random_up = probabilities_random_up[:, 1]\n",
    "\n",
    "auc_roc = roc_auc_score(y_valid, probabilities_one_random_up)\n",
    "\n",
    "print('Метрика AUC-ROC', auc_roc, sep =': ')"
   ]
  },
  {
   "cell_type": "markdown",
   "metadata": {},
   "source": [
    "### Уменьшение выборки"
   ]
  },
  {
   "cell_type": "code",
   "execution_count": 25,
   "metadata": {},
   "outputs": [],
   "source": [
    "def downsample(X, y, fraction):  # попробуем метод уменьшения выборки\n",
    "    features_zeros = X[y == 0]\n",
    "    features_ones = X[y == 1]\n",
    "    target_zeros = y[y == 0]\n",
    "    target_ones = y[y == 1]\n",
    "\n",
    "    X_downsampled = pd.concat(\n",
    "        [features_zeros.sample(frac=fraction, random_state=12345)] + [features_ones])\n",
    "    y_downsampled = pd.concat(\n",
    "        [target_zeros.sample(frac=fraction, random_state=12345)] + [target_ones])\n",
    "    \n",
    "    X_downsampled, y_downsampled = shuffle(\n",
    "        X_downsampled, y_downsampled, random_state=12345)\n",
    "    \n",
    "    return X_downsampled, y_downsampled\n",
    "\n",
    "X_downsampled, y_downsampled = downsample(X_train, y_train, 0.26)"
   ]
  },
  {
   "cell_type": "code",
   "execution_count": 26,
   "metadata": {},
   "outputs": [
    {
     "data": {
      "text/plain": [
       "0    1242\n",
       "1    1223\n",
       "Name: Exited, dtype: int64"
      ]
     },
     "execution_count": 26,
     "metadata": {},
     "output_type": "execute_result"
    }
   ],
   "source": [
    "y_downsampled.value_counts()"
   ]
  },
  {
   "cell_type": "markdown",
   "metadata": {},
   "source": [
    "#### Поиск модели дерева решений"
   ]
  },
  {
   "cell_type": "code",
   "execution_count": 27,
   "metadata": {},
   "outputs": [
    {
     "name": "stdout",
     "output_type": "stream",
     "text": [
      "Лучшая f1-мера: 0.5888993414863594\n",
      "Лучшая модель: DecisionTreeClassifier(class_weight='balanced', max_features=9,\n",
      "                       min_samples_leaf=40, random_state=12345)\n",
      "Метрика AUC-ROC: 0.8475108390362627\n"
     ]
    }
   ],
   "source": [
    "# попробуем найти лучшую модель дерева решений с учетом дисбаланса и метода уменьшения выборки\n",
    "best_decision_down = None  \n",
    "\n",
    "best_decision_f1_down = 0\n",
    "\n",
    "\n",
    "for leaf in range(1, 201):\n",
    "    for features in range(1,12):\n",
    "        model = DecisionTreeClassifier\\\n",
    "        (random_state = 12345, min_samples_leaf = leaf, max_features = features, class_weight = 'balanced')\\\n",
    "        .fit(X_downsampled, y_downsampled)\n",
    "        predictions = model.predict(X_valid)\n",
    "        result = f1_score(y_valid, predictions)\n",
    "        if result > best_decision_f1_down:\n",
    "            best_decision_f1_down = result\n",
    "            best_decision_down = model\n",
    "       \n",
    "        \n",
    "        \n",
    "print('Лучшая f1-мера', best_decision_f1_down, sep = ': ')\n",
    "print('Лучшая модель', best_decision_down, sep = ': ')\n",
    "\n",
    "probabilities_down = best_decision_down.predict_proba(X_valid)\n",
    "probabilities_one_down = probabilities_down[:, 1]\n",
    "\n",
    "auc_roc = roc_auc_score(y_valid, probabilities_one_down)\n",
    "\n",
    "print('Метрика AUC-ROC', auc_roc, sep =': ')"
   ]
  },
  {
   "cell_type": "markdown",
   "metadata": {},
   "source": [
    "#### Поиск модели случайного леса"
   ]
  },
  {
   "cell_type": "code",
   "execution_count": 28,
   "metadata": {},
   "outputs": [
    {
     "name": "stdout",
     "output_type": "stream",
     "text": [
      "Лучшая f1-мера: 0.6215686274509804\n",
      "Лучшая модель: RandomForestClassifier(class_weight='balanced', max_depth=11,\n",
      "                       max_features='sqrt', n_jobs=-1, random_state=12345)\n",
      "Метрика AUC-ROC: 0.8520261401617334\n"
     ]
    }
   ],
   "source": [
    "# попробуем найти лучшую модель случайного леса с учетом дисбаланса и метода уменьшения выборки\n",
    "best_random_down = None  \n",
    "\n",
    "best_random_f1_down = 0\n",
    "\n",
    "for depth in range(1, 201):\n",
    "        model = RandomForestClassifier\\\n",
    "        (random_state = 12345, max_depth = depth, n_jobs = -1, max_features = 'sqrt', class_weight = 'balanced').fit(X_downsampled, y_downsampled)\n",
    "        predictions = model.predict(X_valid)\n",
    "        result = f1_score(y_valid, predictions)\n",
    "        if result > best_random_f1_down:\n",
    "            best_random_f1_down = result\n",
    "            best_random_down = model\n",
    "        \n",
    "print('Лучшая f1-мера', best_random_f1_down, sep = ': ')\n",
    "print('Лучшая модель', best_random_down, sep = ': ')\n",
    "\n",
    "probabilities_random_down = best_model_random.predict_proba(X_valid)\n",
    "probabilities_one_random_down = probabilities_random_down[:, 1]\n",
    "\n",
    "auc_roc = roc_auc_score(y_valid, probabilities_one_random_down)\n",
    "\n",
    "print('Метрика AUC-ROC', auc_roc, sep = ': ')"
   ]
  },
  {
   "cell_type": "markdown",
   "metadata": {},
   "source": [
    "В целом метод увелечения выборки показал лучшие результаты при одинаковых условиях поиска моделей."
   ]
  },
  {
   "cell_type": "markdown",
   "metadata": {},
   "source": [
    "## Тестирование модели"
   ]
  },
  {
   "cell_type": "code",
   "execution_count": 29,
   "metadata": {},
   "outputs": [
    {
     "name": "stdout",
     "output_type": "stream",
     "text": [
      "F1-мера: 0.612942612942613\n",
      "Метрика AUC-ROC: 0.8618711161084042\n"
     ]
    }
   ],
   "source": [
    "# проверяем выбранную модель на тестовой выборке\n",
    "model = best_random_up.fit(X_upsampled, y_upsampled)\n",
    "predictions = model.predict(X_test) \n",
    "\n",
    "print('F1-мера', f1_score(y_test, predictions), sep =': ')\n",
    "\n",
    "probabilities = model.predict_proba(X_test)\n",
    "probabilities_one = probabilities[:, 1]\n",
    "\n",
    "auc_roc = roc_auc_score(y_test, probabilities_one)\n",
    "\n",
    "print('Метрика AUC-ROC', auc_roc, sep = ': ')"
   ]
  },
  {
   "cell_type": "code",
   "execution_count": 30,
   "metadata": {},
   "outputs": [
    {
     "data": {
      "image/png": "[encoded data removed]",
      "text/plain": [
       "<Figure size 720x576 with 1 Axes>"
      ]
     },
     "metadata": {
      "needs_background": "light"
     },
     "output_type": "display_data"
    }
   ],
   "source": [
    "fpr, tpr, thresholds = roc_curve(y_test, probabilities_one) # построим график Roc-кривой\n",
    "\n",
    "plt.figure(figsize = (10, 8))\n",
    "plt.plot(fpr, tpr)\n",
    "plt.xlabel('False Positive Rate')\n",
    "plt.ylabel('True Positive Rate')\n",
    "plt.title('ROC-кривая')\n",
    "plt.show()"
   ]
  },
  {
   "cell_type": "code",
   "execution_count": 31,
   "metadata": {},
   "outputs": [
    {
     "data": {
      "image/png": "[encoded data removed]",
      "text/plain": [
       "<Figure size 1440x720 with 1 Axes>"
      ]
     },
     "metadata": {
      "needs_background": "light"
     },
     "output_type": "display_data"
    }
   ],
   "source": [
    "plt.figure(figsize = (20, 10))\n",
    "plt.title('Важность признаков')\n",
    "plt.ylabel('Важность')\n",
    "plt.bar(X_upsampled.columns, model.feature_importances_)\n",
    "plt.show()"
   ]
  },
  {
   "cell_type": "markdown",
   "metadata": {},
   "source": [
    "Была выбрана модель случайного леса с методом увелечения выборки. На тестовой выборке модель показала F1-меру 0.61, что приемлемо для нашего исследования."
   ]
  },
  {
   "cell_type": "markdown",
   "metadata": {},
   "source": [
    "## Чек-лист готовности проекта"
   ]
  },
  {
   "cell_type": "markdown",
   "metadata": {},
   "source": [
    "Поставьте 'x' в выполненных пунктах. Далее нажмите Shift+Enter."
   ]
  },
  {
   "cell_type": "markdown",
   "metadata": {},
   "source": [
    "- [x]  Jupyter Notebook открыт\n",
    "- [x]  Весь код выполняется без ошибок\n",
    "- [x]  Ячейки с кодом расположены в порядке исполнения\n",
    "- [x]  Выполнен шаг 1: данные подготовлены\n",
    "- [x]  Выполнен шаг 2: задача исследована\n",
    "    - [x]  Исследован баланс классов\n",
    "    - [x]  Изучены модели без учёта дисбаланса\n",
    "    - [x]  Написаны выводы по результатам исследования\n",
    "- [x]  Выполнен шаг 3: учтён дисбаланс\n",
    "    - [x]  Применено несколько способов борьбы с дисбалансом\n",
    "    - [x]  Написаны выводы по результатам исследования\n",
    "- [x]  Выполнен шаг 4: проведено тестирование\n",
    "- [x]  Удалось достичь *F1*-меры не менее 0.59\n",
    "- [x]  Исследована метрика *AUC-ROC*"
   ]
  },
  {
   "cell_type": "code",
   "execution_count": null,
   "metadata": {},
   "outputs": [],
   "source": []
  }
 ],
 "metadata": {
  "ExecuteTimeLog": [
   {
    "duration": 439,
    "start_time": "2022-11-14T20:12:41.797Z"
   },
   {
    "duration": 83,
    "start_time": "2022-11-14T20:13:35.994Z"
   },
   {
    "duration": 68,
    "start_time": "2022-11-14T20:13:47.606Z"
   },
   {
    "duration": 15,
    "start_time": "2022-11-14T20:18:36.931Z"
   },
   {
    "duration": 429,
    "start_time": "2022-11-16T14:08:51.146Z"
   },
   {
    "duration": 103,
    "start_time": "2022-11-16T14:08:51.578Z"
   },
   {
    "duration": 13,
    "start_time": "2022-11-16T14:08:51.683Z"
   },
   {
    "duration": 690,
    "start_time": "2022-11-16T14:11:45.800Z"
   },
   {
    "duration": 50,
    "start_time": "2022-11-16T14:11:46.492Z"
   },
   {
    "duration": 545,
    "start_time": "2022-11-16T14:26:23.706Z"
   },
   {
    "duration": 48,
    "start_time": "2022-11-16T14:26:24.253Z"
   },
   {
    "duration": 19195,
    "start_time": "2022-11-16T14:26:44.026Z"
   },
   {
    "duration": 59807,
    "start_time": "2022-11-16T14:27:22.418Z"
   },
   {
    "duration": 4,
    "start_time": "2022-11-16T14:31:59.184Z"
   },
   {
    "duration": 23,
    "start_time": "2022-11-16T14:32:08.481Z"
   },
   {
    "duration": 4,
    "start_time": "2022-11-16T14:32:38.787Z"
   },
   {
    "duration": 20,
    "start_time": "2022-11-16T14:32:51.510Z"
   },
   {
    "duration": 5,
    "start_time": "2022-11-16T14:33:20.006Z"
   },
   {
    "duration": 12,
    "start_time": "2022-11-16T14:36:57.900Z"
   },
   {
    "duration": 71,
    "start_time": "2022-11-16T14:41:58.705Z"
   },
   {
    "duration": 72,
    "start_time": "2022-11-16T14:42:04.985Z"
   },
   {
    "duration": 105,
    "start_time": "2022-11-16T14:42:14.743Z"
   },
   {
    "duration": 3,
    "start_time": "2022-11-16T14:42:20.603Z"
   },
   {
    "duration": 15,
    "start_time": "2022-11-16T14:42:24.283Z"
   },
   {
    "duration": 9,
    "start_time": "2022-11-16T14:42:38.238Z"
   },
   {
    "duration": 7,
    "start_time": "2022-11-16T14:42:44.634Z"
   },
   {
    "duration": 22,
    "start_time": "2022-11-16T14:44:51.525Z"
   },
   {
    "duration": 13,
    "start_time": "2022-11-16T14:45:07.753Z"
   },
   {
    "duration": 10,
    "start_time": "2022-11-16T14:45:25.439Z"
   },
   {
    "duration": 9,
    "start_time": "2022-11-16T14:45:36.343Z"
   },
   {
    "duration": 11,
    "start_time": "2022-11-16T14:46:01.017Z"
   },
   {
    "duration": 9,
    "start_time": "2022-11-16T14:46:13.682Z"
   },
   {
    "duration": 9,
    "start_time": "2022-11-16T14:47:58.098Z"
   },
   {
    "duration": 9,
    "start_time": "2022-11-16T14:48:03.534Z"
   },
   {
    "duration": 9,
    "start_time": "2022-11-16T14:49:27.272Z"
   },
   {
    "duration": 21,
    "start_time": "2022-11-16T14:50:43.771Z"
   },
   {
    "duration": 13,
    "start_time": "2022-11-16T14:50:55.071Z"
   },
   {
    "duration": 9,
    "start_time": "2022-11-16T14:51:11.589Z"
   },
   {
    "duration": 12,
    "start_time": "2022-11-16T14:51:21.774Z"
   },
   {
    "duration": 11,
    "start_time": "2022-11-16T14:52:49.285Z"
   },
   {
    "duration": 21,
    "start_time": "2022-11-16T14:52:58.901Z"
   },
   {
    "duration": 12,
    "start_time": "2022-11-16T14:53:07.395Z"
   },
   {
    "duration": 17,
    "start_time": "2022-11-16T14:53:52.239Z"
   },
   {
    "duration": 71,
    "start_time": "2022-11-16T14:53:56.213Z"
   },
   {
    "duration": 10,
    "start_time": "2022-11-16T14:53:59.593Z"
   },
   {
    "duration": 10,
    "start_time": "2022-11-16T14:54:43.646Z"
   },
   {
    "duration": 10,
    "start_time": "2022-11-16T14:55:27.394Z"
   },
   {
    "duration": 10,
    "start_time": "2022-11-16T14:55:35.518Z"
   },
   {
    "duration": 17,
    "start_time": "2022-11-16T14:56:18.119Z"
   },
   {
    "duration": 14,
    "start_time": "2022-11-16T14:56:37.896Z"
   },
   {
    "duration": 16,
    "start_time": "2022-11-16T15:01:16.553Z"
   },
   {
    "duration": 9,
    "start_time": "2022-11-16T15:03:18.983Z"
   },
   {
    "duration": 14,
    "start_time": "2022-11-16T15:03:32.114Z"
   },
   {
    "duration": 6,
    "start_time": "2022-11-16T15:04:06.754Z"
   },
   {
    "duration": 8,
    "start_time": "2022-11-16T15:04:31.945Z"
   },
   {
    "duration": 10,
    "start_time": "2022-11-16T15:04:53.592Z"
   },
   {
    "duration": 15,
    "start_time": "2022-11-16T15:05:12.579Z"
   },
   {
    "duration": 20,
    "start_time": "2022-11-16T15:05:58.887Z"
   },
   {
    "duration": 17,
    "start_time": "2022-11-16T15:06:01.542Z"
   },
   {
    "duration": 19,
    "start_time": "2022-11-16T15:06:01.800Z"
   },
   {
    "duration": 12,
    "start_time": "2022-11-16T15:06:06.422Z"
   },
   {
    "duration": 16,
    "start_time": "2022-11-16T15:07:19.402Z"
   },
   {
    "duration": 16,
    "start_time": "2022-11-16T15:07:29.920Z"
   },
   {
    "duration": 17,
    "start_time": "2022-11-16T15:08:09.829Z"
   },
   {
    "duration": 19,
    "start_time": "2022-11-16T15:08:30.545Z"
   },
   {
    "duration": 18,
    "start_time": "2022-11-16T15:08:36.778Z"
   },
   {
    "duration": 17,
    "start_time": "2022-11-16T15:08:39.549Z"
   },
   {
    "duration": 14,
    "start_time": "2022-11-16T15:09:05.024Z"
   },
   {
    "duration": 13,
    "start_time": "2022-11-16T15:09:33.512Z"
   },
   {
    "duration": 12,
    "start_time": "2022-11-16T15:10:03.098Z"
   },
   {
    "duration": 11,
    "start_time": "2022-11-16T15:10:32.943Z"
   },
   {
    "duration": 11,
    "start_time": "2022-11-16T15:13:35.533Z"
   },
   {
    "duration": 16,
    "start_time": "2022-11-16T15:13:52.446Z"
   },
   {
    "duration": 23,
    "start_time": "2022-11-16T15:14:44.891Z"
   },
   {
    "duration": 14,
    "start_time": "2022-11-16T15:14:59.995Z"
   },
   {
    "duration": 1496,
    "start_time": "2022-11-16T18:09:48.112Z"
   },
   {
    "duration": 178,
    "start_time": "2022-11-16T18:09:49.610Z"
   },
   {
    "duration": 15,
    "start_time": "2022-11-16T18:09:50.070Z"
   },
   {
    "duration": 20,
    "start_time": "2022-11-16T18:10:07.785Z"
   },
   {
    "duration": 4,
    "start_time": "2022-11-16T18:23:43.692Z"
   },
   {
    "duration": 12,
    "start_time": "2022-11-16T18:23:44.558Z"
   },
   {
    "duration": 11,
    "start_time": "2022-11-16T18:24:03.479Z"
   },
   {
    "duration": 11,
    "start_time": "2022-11-16T18:24:36.113Z"
   },
   {
    "duration": 5,
    "start_time": "2022-11-16T18:24:36.376Z"
   },
   {
    "duration": 12,
    "start_time": "2022-11-16T18:24:36.698Z"
   },
   {
    "duration": 9,
    "start_time": "2022-11-16T18:24:37.234Z"
   },
   {
    "duration": 11,
    "start_time": "2022-11-16T18:28:11.360Z"
   },
   {
    "duration": 11,
    "start_time": "2022-11-16T18:29:06.317Z"
   },
   {
    "duration": 9,
    "start_time": "2022-11-16T18:29:07.599Z"
   },
   {
    "duration": 20,
    "start_time": "2022-11-16T18:31:43.662Z"
   },
   {
    "duration": 116,
    "start_time": "2022-11-16T18:32:41.573Z"
   },
   {
    "duration": 12,
    "start_time": "2022-11-16T18:33:15.039Z"
   },
   {
    "duration": 4,
    "start_time": "2022-11-16T18:35:26.088Z"
   },
   {
    "duration": 13,
    "start_time": "2022-11-16T18:35:27.288Z"
   },
   {
    "duration": 29,
    "start_time": "2022-11-16T18:36:16.764Z"
   },
   {
    "duration": 6,
    "start_time": "2022-11-16T18:36:50.958Z"
   },
   {
    "duration": 11,
    "start_time": "2022-11-16T18:37:38.418Z"
   },
   {
    "duration": 191,
    "start_time": "2022-11-16T18:40:29.324Z"
   },
   {
    "duration": 214,
    "start_time": "2022-11-16T18:40:36.849Z"
   },
   {
    "duration": 185,
    "start_time": "2022-11-16T18:40:45.193Z"
   },
   {
    "duration": 214,
    "start_time": "2022-11-16T18:40:51.998Z"
   },
   {
    "duration": 239,
    "start_time": "2022-11-16T18:41:31.461Z"
   },
   {
    "duration": 210,
    "start_time": "2022-11-16T18:41:59.031Z"
   },
   {
    "duration": 233,
    "start_time": "2022-11-16T18:42:02.482Z"
   },
   {
    "duration": 190,
    "start_time": "2022-11-16T18:43:03.969Z"
   },
   {
    "duration": 211,
    "start_time": "2022-11-16T18:50:22.920Z"
   },
   {
    "duration": 222,
    "start_time": "2022-11-16T18:52:34.043Z"
   },
   {
    "duration": 16,
    "start_time": "2022-11-16T18:52:52.271Z"
   },
   {
    "duration": 189,
    "start_time": "2022-11-16T18:52:55.063Z"
   },
   {
    "duration": 15,
    "start_time": "2022-11-16T18:52:57.507Z"
   },
   {
    "duration": 77,
    "start_time": "2022-11-16T18:53:13.496Z"
   },
   {
    "duration": 17,
    "start_time": "2022-11-16T18:53:14.370Z"
   },
   {
    "duration": 179,
    "start_time": "2022-11-16T18:53:52.406Z"
   },
   {
    "duration": 113,
    "start_time": "2022-11-16T18:53:55.154Z"
   },
   {
    "duration": 16,
    "start_time": "2022-11-16T18:53:55.414Z"
   },
   {
    "duration": 11,
    "start_time": "2022-11-16T18:54:48.233Z"
   },
   {
    "duration": 4,
    "start_time": "2022-11-16T18:54:48.695Z"
   },
   {
    "duration": 12,
    "start_time": "2022-11-16T18:54:49.809Z"
   },
   {
    "duration": 10,
    "start_time": "2022-11-16T18:54:56.667Z"
   },
   {
    "duration": 8,
    "start_time": "2022-11-16T18:56:05.215Z"
   },
   {
    "duration": 4,
    "start_time": "2022-11-16T18:56:10.132Z"
   },
   {
    "duration": 4,
    "start_time": "2022-11-16T18:57:12.720Z"
   },
   {
    "duration": 13,
    "start_time": "2022-11-16T18:57:24.117Z"
   },
   {
    "duration": 10,
    "start_time": "2022-11-16T18:57:36.805Z"
   },
   {
    "duration": 13,
    "start_time": "2022-11-16T18:57:53.341Z"
   },
   {
    "duration": 12,
    "start_time": "2022-11-16T18:58:01.169Z"
   },
   {
    "duration": 13,
    "start_time": "2022-11-16T18:58:09.908Z"
   },
   {
    "duration": 12,
    "start_time": "2022-11-16T18:58:16.866Z"
   },
   {
    "duration": 3,
    "start_time": "2022-11-16T18:58:29.190Z"
   },
   {
    "duration": 46,
    "start_time": "2022-11-16T18:58:29.502Z"
   },
   {
    "duration": 11,
    "start_time": "2022-11-16T18:58:30.684Z"
   },
   {
    "duration": 16,
    "start_time": "2022-11-16T18:58:31.215Z"
   },
   {
    "duration": 12,
    "start_time": "2022-11-16T18:58:31.954Z"
   },
   {
    "duration": 5,
    "start_time": "2022-11-16T18:58:35.070Z"
   },
   {
    "duration": 4,
    "start_time": "2022-11-16T18:58:35.459Z"
   },
   {
    "duration": 13,
    "start_time": "2022-11-16T18:58:46.341Z"
   },
   {
    "duration": 16,
    "start_time": "2022-11-16T18:58:59.235Z"
   },
   {
    "duration": 3,
    "start_time": "2022-11-16T18:59:04.266Z"
   },
   {
    "duration": 44,
    "start_time": "2022-11-16T18:59:04.509Z"
   },
   {
    "duration": 13,
    "start_time": "2022-11-16T18:59:04.798Z"
   },
   {
    "duration": 19,
    "start_time": "2022-11-16T18:59:05.277Z"
   },
   {
    "duration": 14,
    "start_time": "2022-11-16T18:59:05.842Z"
   },
   {
    "duration": 12,
    "start_time": "2022-11-16T18:59:17.378Z"
   },
   {
    "duration": 5,
    "start_time": "2022-11-16T18:59:20.910Z"
   },
   {
    "duration": 4,
    "start_time": "2022-11-16T18:59:21.323Z"
   },
   {
    "duration": 5,
    "start_time": "2022-11-16T18:59:29.077Z"
   },
   {
    "duration": 13,
    "start_time": "2022-11-16T19:00:01.822Z"
   },
   {
    "duration": 4,
    "start_time": "2022-11-16T19:00:02.675Z"
   },
   {
    "duration": 4,
    "start_time": "2022-11-16T19:00:03.031Z"
   },
   {
    "duration": 2,
    "start_time": "2022-11-16T19:00:08.093Z"
   },
   {
    "duration": 45,
    "start_time": "2022-11-16T19:00:08.333Z"
   },
   {
    "duration": 12,
    "start_time": "2022-11-16T19:00:08.619Z"
   },
   {
    "duration": 19,
    "start_time": "2022-11-16T19:00:08.994Z"
   },
   {
    "duration": 11,
    "start_time": "2022-11-16T19:00:09.646Z"
   },
   {
    "duration": 5,
    "start_time": "2022-11-16T19:00:11.427Z"
   },
   {
    "duration": 4,
    "start_time": "2022-11-16T19:00:11.782Z"
   },
   {
    "duration": 5,
    "start_time": "2022-11-16T19:00:22.761Z"
   },
   {
    "duration": 47,
    "start_time": "2022-11-16T19:00:42.263Z"
   },
   {
    "duration": 46,
    "start_time": "2022-11-16T19:00:53.023Z"
   },
   {
    "duration": 12,
    "start_time": "2022-11-16T19:01:08.644Z"
   },
   {
    "duration": 10,
    "start_time": "2022-11-16T19:01:43.141Z"
   },
   {
    "duration": 5,
    "start_time": "2022-11-16T19:01:43.654Z"
   },
   {
    "duration": 12,
    "start_time": "2022-11-16T19:01:44.146Z"
   },
   {
    "duration": 13,
    "start_time": "2022-11-16T19:02:21.168Z"
   },
   {
    "duration": 4,
    "start_time": "2022-11-16T19:02:35.360Z"
   },
   {
    "duration": 10,
    "start_time": "2022-11-16T19:02:36.227Z"
   },
   {
    "duration": 9,
    "start_time": "2022-11-16T19:02:37.470Z"
   },
   {
    "duration": 21,
    "start_time": "2022-11-16T19:02:38.636Z"
   },
   {
    "duration": 11,
    "start_time": "2022-11-16T19:03:03.309Z"
   },
   {
    "duration": 4,
    "start_time": "2022-11-16T19:03:03.856Z"
   },
   {
    "duration": 10,
    "start_time": "2022-11-16T19:03:11.358Z"
   },
   {
    "duration": 10,
    "start_time": "2022-11-16T19:03:11.937Z"
   },
   {
    "duration": 17,
    "start_time": "2022-11-16T19:03:13.454Z"
   },
   {
    "duration": 17,
    "start_time": "2022-11-16T19:03:36.037Z"
   },
   {
    "duration": 16,
    "start_time": "2022-11-16T19:04:09.279Z"
   },
   {
    "duration": 12,
    "start_time": "2022-11-16T19:04:21.532Z"
   },
   {
    "duration": 3,
    "start_time": "2022-11-16T19:04:25.516Z"
   },
   {
    "duration": 46,
    "start_time": "2022-11-16T19:04:25.915Z"
   },
   {
    "duration": 11,
    "start_time": "2022-11-16T19:04:26.934Z"
   },
   {
    "duration": 17,
    "start_time": "2022-11-16T19:04:27.619Z"
   },
   {
    "duration": 11,
    "start_time": "2022-11-16T19:04:28.264Z"
   },
   {
    "duration": 5,
    "start_time": "2022-11-16T19:04:29.633Z"
   },
   {
    "duration": 13,
    "start_time": "2022-11-16T19:04:30.000Z"
   },
   {
    "duration": 5,
    "start_time": "2022-11-16T19:04:30.746Z"
   },
   {
    "duration": 9,
    "start_time": "2022-11-16T19:04:31.348Z"
   },
   {
    "duration": 9,
    "start_time": "2022-11-16T19:04:32.003Z"
   },
   {
    "duration": 23,
    "start_time": "2022-11-16T19:04:32.724Z"
   },
   {
    "duration": 16,
    "start_time": "2022-11-16T19:04:55.863Z"
   },
   {
    "duration": 18,
    "start_time": "2022-11-16T19:05:04.433Z"
   },
   {
    "duration": 16,
    "start_time": "2022-11-16T19:05:41.458Z"
   },
   {
    "duration": 3,
    "start_time": "2022-11-16T19:06:09.878Z"
   },
   {
    "duration": 18,
    "start_time": "2022-11-16T19:06:31.075Z"
   },
   {
    "duration": 19,
    "start_time": "2022-11-16T19:06:57.049Z"
   },
   {
    "duration": 8,
    "start_time": "2022-11-16T19:07:59.636Z"
   },
   {
    "duration": 17,
    "start_time": "2022-11-16T19:08:00.315Z"
   },
   {
    "duration": 15,
    "start_time": "2022-11-16T19:08:11.657Z"
   },
   {
    "duration": 16,
    "start_time": "2022-11-16T19:08:36.116Z"
   },
   {
    "duration": 9,
    "start_time": "2022-11-16T19:08:41.815Z"
   },
   {
    "duration": 12,
    "start_time": "2022-11-16T19:08:47.004Z"
   },
   {
    "duration": 15,
    "start_time": "2022-11-16T19:09:08.475Z"
   },
   {
    "duration": 9,
    "start_time": "2022-11-16T19:14:28.634Z"
   },
   {
    "duration": 2,
    "start_time": "2022-11-16T19:14:34.320Z"
   },
   {
    "duration": 45,
    "start_time": "2022-11-16T19:14:36.942Z"
   },
   {
    "duration": 11,
    "start_time": "2022-11-16T19:14:37.309Z"
   },
   {
    "duration": 18,
    "start_time": "2022-11-16T19:14:38.966Z"
   },
   {
    "duration": 9,
    "start_time": "2022-11-16T19:14:39.900Z"
   },
   {
    "duration": 5,
    "start_time": "2022-11-16T19:14:40.748Z"
   },
   {
    "duration": 17,
    "start_time": "2022-11-16T19:14:41.371Z"
   },
   {
    "duration": 12,
    "start_time": "2022-11-16T19:15:22.141Z"
   },
   {
    "duration": 5,
    "start_time": "2022-11-16T19:20:28.817Z"
   },
   {
    "duration": 25,
    "start_time": "2022-11-16T19:20:39.922Z"
   },
   {
    "duration": 15,
    "start_time": "2022-11-16T19:22:12.299Z"
   },
   {
    "duration": 4,
    "start_time": "2022-11-16T19:22:24.979Z"
   },
   {
    "duration": 46,
    "start_time": "2022-11-16T19:22:25.304Z"
   },
   {
    "duration": 14,
    "start_time": "2022-11-16T19:22:26.201Z"
   },
   {
    "duration": 18,
    "start_time": "2022-11-16T19:22:26.775Z"
   },
   {
    "duration": 11,
    "start_time": "2022-11-16T19:22:27.638Z"
   },
   {
    "duration": 5,
    "start_time": "2022-11-16T19:22:38.081Z"
   },
   {
    "duration": 10,
    "start_time": "2022-11-16T19:22:43.462Z"
   },
   {
    "duration": 5,
    "start_time": "2022-11-16T19:22:44.417Z"
   },
   {
    "duration": 10,
    "start_time": "2022-11-16T19:22:46.413Z"
   },
   {
    "duration": 9,
    "start_time": "2022-11-16T19:22:47.799Z"
   },
   {
    "duration": 22,
    "start_time": "2022-11-16T19:22:48.532Z"
   },
   {
    "duration": 17,
    "start_time": "2022-11-16T19:22:56.711Z"
   },
   {
    "duration": 30,
    "start_time": "2022-11-16T19:27:43.679Z"
   },
   {
    "duration": 3,
    "start_time": "2022-11-16T19:28:04.696Z"
   },
   {
    "duration": 131,
    "start_time": "2022-11-16T19:28:09.971Z"
   },
   {
    "duration": 184,
    "start_time": "2022-11-16T19:28:28.915Z"
   },
   {
    "duration": 21,
    "start_time": "2022-11-16T19:29:01.974Z"
   },
   {
    "duration": 114,
    "start_time": "2022-11-16T19:30:18.682Z"
   },
   {
    "duration": 5,
    "start_time": "2022-11-16T19:36:01.327Z"
   },
   {
    "duration": 9,
    "start_time": "2022-11-16T19:36:01.613Z"
   },
   {
    "duration": 10,
    "start_time": "2022-11-16T19:36:04.185Z"
   },
   {
    "duration": 1685,
    "start_time": "2022-11-18T11:08:41.476Z"
   },
   {
    "duration": 178,
    "start_time": "2022-11-18T11:08:43.163Z"
   },
   {
    "duration": 18,
    "start_time": "2022-11-18T11:08:43.342Z"
   },
   {
    "duration": 27,
    "start_time": "2022-11-18T11:08:43.363Z"
   },
   {
    "duration": 20,
    "start_time": "2022-11-18T11:08:44.778Z"
   },
   {
    "duration": 28,
    "start_time": "2022-11-18T11:08:45.285Z"
   },
   {
    "duration": 6,
    "start_time": "2022-11-18T11:08:45.821Z"
   },
   {
    "duration": 12,
    "start_time": "2022-11-18T11:08:47.688Z"
   },
   {
    "duration": 5,
    "start_time": "2022-11-18T11:08:49.535Z"
   },
   {
    "duration": 110,
    "start_time": "2022-11-18T11:08:50.376Z"
   },
   {
    "duration": 14,
    "start_time": "2022-11-18T11:09:13.533Z"
   },
   {
    "duration": 15,
    "start_time": "2022-11-18T11:09:14.100Z"
   },
   {
    "duration": 12,
    "start_time": "2022-11-18T11:16:12.021Z"
   },
   {
    "duration": 17,
    "start_time": "2022-11-18T11:18:19.948Z"
   },
   {
    "duration": 1511,
    "start_time": "2022-11-18T16:17:41.926Z"
   },
   {
    "duration": 168,
    "start_time": "2022-11-18T16:17:43.438Z"
   },
   {
    "duration": 16,
    "start_time": "2022-11-18T16:17:44.287Z"
   },
   {
    "duration": 20,
    "start_time": "2022-11-18T16:17:44.832Z"
   },
   {
    "duration": 14,
    "start_time": "2022-11-18T16:17:45.385Z"
   },
   {
    "duration": 18,
    "start_time": "2022-11-18T16:17:45.909Z"
   },
   {
    "duration": 5,
    "start_time": "2022-11-18T16:17:46.465Z"
   },
   {
    "duration": 10,
    "start_time": "2022-11-18T16:17:46.979Z"
   },
   {
    "duration": 6,
    "start_time": "2022-11-18T16:17:47.461Z"
   },
   {
    "duration": 10,
    "start_time": "2022-11-18T16:17:48.040Z"
   },
   {
    "duration": 10,
    "start_time": "2022-11-18T16:17:48.905Z"
   },
   {
    "duration": 277,
    "start_time": "2022-11-18T16:17:50.915Z"
   },
   {
    "duration": 76,
    "start_time": "2022-11-18T16:18:09.030Z"
   },
   {
    "duration": 32,
    "start_time": "2022-11-18T16:18:39.174Z"
   },
   {
    "duration": 72,
    "start_time": "2022-11-18T16:18:49.439Z"
   },
   {
    "duration": 32,
    "start_time": "2022-11-18T16:19:05.282Z"
   },
   {
    "duration": 26,
    "start_time": "2022-11-18T16:19:13.274Z"
   },
   {
    "duration": 115,
    "start_time": "2022-11-18T16:20:07.292Z"
   },
   {
    "duration": 3,
    "start_time": "2022-11-18T16:20:58.806Z"
   },
   {
    "duration": 3,
    "start_time": "2022-11-18T16:20:59.395Z"
   },
   {
    "duration": 57,
    "start_time": "2022-11-18T16:20:59.817Z"
   },
   {
    "duration": 12,
    "start_time": "2022-11-18T16:21:00.332Z"
   },
   {
    "duration": 22,
    "start_time": "2022-11-18T16:21:00.662Z"
   },
   {
    "duration": 15,
    "start_time": "2022-11-18T16:21:01.002Z"
   },
   {
    "duration": 19,
    "start_time": "2022-11-18T16:21:01.321Z"
   },
   {
    "duration": 6,
    "start_time": "2022-11-18T16:21:01.611Z"
   },
   {
    "duration": 17,
    "start_time": "2022-11-18T16:21:01.936Z"
   },
   {
    "duration": 5,
    "start_time": "2022-11-18T16:21:02.232Z"
   },
   {
    "duration": 10,
    "start_time": "2022-11-18T16:21:02.656Z"
   },
   {
    "duration": 14,
    "start_time": "2022-11-18T16:21:03.104Z"
   },
   {
    "duration": 90,
    "start_time": "2022-11-18T16:21:04.143Z"
   },
   {
    "duration": 63,
    "start_time": "2022-11-18T16:21:16.743Z"
   },
   {
    "duration": 47,
    "start_time": "2022-11-18T16:21:26.657Z"
   },
   {
    "duration": 60,
    "start_time": "2022-11-18T16:24:04.046Z"
   },
   {
    "duration": 28,
    "start_time": "2022-11-18T16:24:36.586Z"
   },
   {
    "duration": 23,
    "start_time": "2022-11-18T16:25:13.607Z"
   },
   {
    "duration": 19,
    "start_time": "2022-11-18T16:28:39.865Z"
   },
   {
    "duration": 51,
    "start_time": "2022-11-18T16:29:58.469Z"
   },
   {
    "duration": 54,
    "start_time": "2022-11-18T16:30:46.494Z"
   },
   {
    "duration": 52,
    "start_time": "2022-11-18T16:30:58.283Z"
   },
   {
    "duration": 51,
    "start_time": "2022-11-18T16:31:51.691Z"
   },
   {
    "duration": 13,
    "start_time": "2022-11-18T16:32:53.864Z"
   },
   {
    "duration": 54,
    "start_time": "2022-11-18T16:33:06.515Z"
   },
   {
    "duration": 9,
    "start_time": "2022-11-18T16:42:03.193Z"
   },
   {
    "duration": 12,
    "start_time": "2022-11-18T16:42:09.878Z"
   },
   {
    "duration": 2202,
    "start_time": "2022-11-18T16:42:16.618Z"
   },
   {
    "duration": 2155,
    "start_time": "2022-11-18T16:42:37.864Z"
   },
   {
    "duration": 2198,
    "start_time": "2022-11-18T16:43:38.620Z"
   },
   {
    "duration": 2203,
    "start_time": "2022-11-18T16:43:50.670Z"
   },
   {
    "duration": 12,
    "start_time": "2022-11-18T16:51:44.248Z"
   },
   {
    "duration": 14,
    "start_time": "2022-11-18T16:52:12.114Z"
   },
   {
    "duration": 12,
    "start_time": "2022-11-18T16:52:21.054Z"
   },
   {
    "duration": 13,
    "start_time": "2022-11-18T16:52:26.197Z"
   },
   {
    "duration": 12,
    "start_time": "2022-11-18T16:52:48.669Z"
   },
   {
    "duration": 11,
    "start_time": "2022-11-18T16:52:57.828Z"
   },
   {
    "duration": 17,
    "start_time": "2022-11-18T16:53:05.717Z"
   },
   {
    "duration": 3,
    "start_time": "2022-11-18T16:54:19.393Z"
   },
   {
    "duration": 3,
    "start_time": "2022-11-18T16:55:25.553Z"
   },
   {
    "duration": 4,
    "start_time": "2022-11-18T16:55:32.962Z"
   },
   {
    "duration": 3,
    "start_time": "2022-11-18T16:55:37.009Z"
   },
   {
    "duration": 9,
    "start_time": "2022-11-18T16:57:08.591Z"
   },
   {
    "duration": 3,
    "start_time": "2022-11-18T16:57:28.614Z"
   },
   {
    "duration": 9,
    "start_time": "2022-11-18T16:57:35.671Z"
   },
   {
    "duration": 6,
    "start_time": "2022-11-18T16:58:03.960Z"
   },
   {
    "duration": 6,
    "start_time": "2022-11-18T16:59:40.694Z"
   },
   {
    "duration": 21,
    "start_time": "2022-11-18T17:02:04.359Z"
   },
   {
    "duration": 53,
    "start_time": "2022-11-18T17:02:15.152Z"
   },
   {
    "duration": 61,
    "start_time": "2022-11-18T17:02:18.523Z"
   },
   {
    "duration": 34,
    "start_time": "2022-11-18T17:02:59.658Z"
   },
   {
    "duration": 75,
    "start_time": "2022-11-18T17:03:28.469Z"
   },
   {
    "duration": 2477,
    "start_time": "2022-11-18T17:03:29.844Z"
   },
   {
    "duration": 30,
    "start_time": "2022-11-18T17:04:42.219Z"
   },
   {
    "duration": 26,
    "start_time": "2022-11-18T17:05:19.105Z"
   },
   {
    "duration": 21,
    "start_time": "2022-11-18T17:05:23.550Z"
   },
   {
    "duration": 22,
    "start_time": "2022-11-18T17:05:29.163Z"
   },
   {
    "duration": 49,
    "start_time": "2022-11-18T17:05:57.534Z"
   },
   {
    "duration": 67,
    "start_time": "2022-11-18T17:06:03.717Z"
   },
   {
    "duration": 20,
    "start_time": "2022-11-18T17:06:21.374Z"
   },
   {
    "duration": 53,
    "start_time": "2022-11-18T17:06:22.195Z"
   },
   {
    "duration": 2349,
    "start_time": "2022-11-18T17:06:23.179Z"
   },
   {
    "duration": 4,
    "start_time": "2022-11-18T17:07:59.014Z"
   },
   {
    "duration": 2302,
    "start_time": "2022-11-18T17:09:24.566Z"
   },
   {
    "duration": 10,
    "start_time": "2022-11-18T17:10:14.456Z"
   },
   {
    "duration": 9,
    "start_time": "2022-11-18T17:13:04.883Z"
   },
   {
    "duration": 2,
    "start_time": "2022-11-18T17:13:13.477Z"
   },
   {
    "duration": 960,
    "start_time": "2022-11-18T17:13:18.718Z"
   },
   {
    "duration": 890,
    "start_time": "2022-11-18T17:13:29.569Z"
   },
   {
    "duration": 894,
    "start_time": "2022-11-18T17:13:39.946Z"
   },
   {
    "duration": 3,
    "start_time": "2022-11-18T17:15:36.390Z"
   },
   {
    "duration": 70,
    "start_time": "2022-11-18T17:17:04.354Z"
   },
   {
    "duration": 56,
    "start_time": "2022-11-18T17:17:08.418Z"
   },
   {
    "duration": 848,
    "start_time": "2022-11-18T17:17:20.072Z"
   },
   {
    "duration": 4,
    "start_time": "2022-11-18T17:30:03.841Z"
   },
   {
    "duration": 4,
    "start_time": "2022-11-18T17:31:46.217Z"
   },
   {
    "duration": 16,
    "start_time": "2022-11-18T17:32:17.422Z"
   },
   {
    "duration": 13,
    "start_time": "2022-11-18T17:32:48.964Z"
   },
   {
    "duration": 12,
    "start_time": "2022-11-18T17:32:58.684Z"
   },
   {
    "duration": 15,
    "start_time": "2022-11-18T17:33:41.502Z"
   },
   {
    "duration": 11,
    "start_time": "2022-11-18T17:34:09.678Z"
   },
   {
    "duration": 13,
    "start_time": "2022-11-18T17:34:24.746Z"
   },
   {
    "duration": 13,
    "start_time": "2022-11-18T17:35:42.060Z"
   },
   {
    "duration": 13,
    "start_time": "2022-11-18T17:36:14.789Z"
   },
   {
    "duration": 15,
    "start_time": "2022-11-18T17:36:27.448Z"
   },
   {
    "duration": 25,
    "start_time": "2022-11-18T17:36:45.700Z"
   },
   {
    "duration": 18,
    "start_time": "2022-11-18T17:36:58.302Z"
   },
   {
    "duration": 21,
    "start_time": "2022-11-18T17:37:04.894Z"
   },
   {
    "duration": 56,
    "start_time": "2022-11-18T17:37:12.012Z"
   },
   {
    "duration": 855,
    "start_time": "2022-11-18T17:37:12.537Z"
   },
   {
    "duration": 13,
    "start_time": "2022-11-18T17:37:46.890Z"
   },
   {
    "duration": 15,
    "start_time": "2022-11-18T17:37:49.062Z"
   },
   {
    "duration": 12,
    "start_time": "2022-11-18T17:40:33.876Z"
   },
   {
    "duration": 14,
    "start_time": "2022-11-18T17:40:47.925Z"
   },
   {
    "duration": 49,
    "start_time": "2022-11-18T17:40:52.942Z"
   },
   {
    "duration": 817,
    "start_time": "2022-11-18T17:40:53.166Z"
   },
   {
    "duration": 12,
    "start_time": "2022-11-18T17:41:34.665Z"
   },
   {
    "duration": 13,
    "start_time": "2022-11-18T17:41:43.090Z"
   },
   {
    "duration": 13,
    "start_time": "2022-11-18T17:42:21.354Z"
   },
   {
    "duration": 21,
    "start_time": "2022-11-18T17:48:40.699Z"
   },
   {
    "duration": 49,
    "start_time": "2022-11-18T17:48:44.359Z"
   },
   {
    "duration": 845,
    "start_time": "2022-11-18T17:48:44.552Z"
   },
   {
    "duration": 14,
    "start_time": "2022-11-18T17:49:12.716Z"
   },
   {
    "duration": 18,
    "start_time": "2022-11-18T17:49:41.217Z"
   },
   {
    "duration": 19,
    "start_time": "2022-11-18T17:50:31.258Z"
   },
   {
    "duration": 12,
    "start_time": "2022-11-18T17:50:44.969Z"
   },
   {
    "duration": 14,
    "start_time": "2022-11-18T17:55:24.501Z"
   },
   {
    "duration": 13,
    "start_time": "2022-11-18T17:55:42.495Z"
   },
   {
    "duration": 14,
    "start_time": "2022-11-18T17:55:49.950Z"
   },
   {
    "duration": 13,
    "start_time": "2022-11-18T17:56:46.338Z"
   },
   {
    "duration": 13,
    "start_time": "2022-11-18T17:56:55.715Z"
   },
   {
    "duration": 13,
    "start_time": "2022-11-18T18:02:35.255Z"
   },
   {
    "duration": 11,
    "start_time": "2022-11-18T18:02:49.771Z"
   },
   {
    "duration": 9,
    "start_time": "2022-11-18T18:03:15.426Z"
   },
   {
    "duration": 889,
    "start_time": "2022-11-18T18:03:18.597Z"
   },
   {
    "duration": 0,
    "start_time": "2022-11-18T18:05:08.239Z"
   },
   {
    "duration": 0,
    "start_time": "2022-11-18T18:05:08.240Z"
   },
   {
    "duration": 0,
    "start_time": "2022-11-18T18:05:08.242Z"
   },
   {
    "duration": 0,
    "start_time": "2022-11-18T18:05:08.243Z"
   },
   {
    "duration": 3,
    "start_time": "2022-11-18T18:05:15.862Z"
   },
   {
    "duration": 3,
    "start_time": "2022-11-18T18:05:16.197Z"
   },
   {
    "duration": 51,
    "start_time": "2022-11-18T18:05:16.697Z"
   },
   {
    "duration": 12,
    "start_time": "2022-11-18T18:05:17.711Z"
   },
   {
    "duration": 20,
    "start_time": "2022-11-18T18:05:18.219Z"
   },
   {
    "duration": 15,
    "start_time": "2022-11-18T18:05:18.698Z"
   },
   {
    "duration": 19,
    "start_time": "2022-11-18T18:05:19.170Z"
   },
   {
    "duration": 5,
    "start_time": "2022-11-18T18:05:19.623Z"
   },
   {
    "duration": 12,
    "start_time": "2022-11-18T18:05:20.074Z"
   },
   {
    "duration": 5,
    "start_time": "2022-11-18T18:05:20.466Z"
   },
   {
    "duration": 14,
    "start_time": "2022-11-18T18:05:20.937Z"
   },
   {
    "duration": 10,
    "start_time": "2022-11-18T18:05:22.197Z"
   },
   {
    "duration": 23,
    "start_time": "2022-11-18T18:05:22.795Z"
   },
   {
    "duration": 3,
    "start_time": "2022-11-18T18:05:24.617Z"
   },
   {
    "duration": 97,
    "start_time": "2022-11-18T18:05:25.091Z"
   },
   {
    "duration": 886,
    "start_time": "2022-11-18T18:05:30.155Z"
   },
   {
    "duration": 0,
    "start_time": "2022-11-18T18:06:18.989Z"
   },
   {
    "duration": 2,
    "start_time": "2022-11-18T18:06:25.360Z"
   },
   {
    "duration": 4,
    "start_time": "2022-11-18T18:06:25.628Z"
   },
   {
    "duration": 57,
    "start_time": "2022-11-18T18:06:25.929Z"
   },
   {
    "duration": 12,
    "start_time": "2022-11-18T18:06:26.236Z"
   },
   {
    "duration": 20,
    "start_time": "2022-11-18T18:06:26.567Z"
   },
   {
    "duration": 14,
    "start_time": "2022-11-18T18:06:26.886Z"
   },
   {
    "duration": 19,
    "start_time": "2022-11-18T18:06:27.196Z"
   },
   {
    "duration": 6,
    "start_time": "2022-11-18T18:06:27.531Z"
   },
   {
    "duration": 12,
    "start_time": "2022-11-18T18:06:27.864Z"
   },
   {
    "duration": 5,
    "start_time": "2022-11-18T18:06:28.172Z"
   },
   {
    "duration": 12,
    "start_time": "2022-11-18T18:06:28.507Z"
   },
   {
    "duration": 10,
    "start_time": "2022-11-18T18:06:28.845Z"
   },
   {
    "duration": 23,
    "start_time": "2022-11-18T18:06:29.427Z"
   },
   {
    "duration": 4,
    "start_time": "2022-11-18T18:06:30.499Z"
   },
   {
    "duration": 103,
    "start_time": "2022-11-18T18:06:30.877Z"
   },
   {
    "duration": 798,
    "start_time": "2022-11-18T18:06:31.561Z"
   },
   {
    "duration": 276672,
    "start_time": "2022-11-18T18:06:32.434Z"
   },
   {
    "duration": 330,
    "start_time": "2022-11-18T18:12:22.826Z"
   },
   {
    "duration": 370,
    "start_time": "2022-11-18T18:12:32.891Z"
   },
   {
    "duration": 97,
    "start_time": "2022-11-18T18:12:38.635Z"
   },
   {
    "duration": 850,
    "start_time": "2022-11-18T18:12:52.223Z"
   },
   {
    "duration": 842,
    "start_time": "2022-11-18T18:13:13.780Z"
   },
   {
    "duration": 101,
    "start_time": "2022-11-18T18:13:19.530Z"
   },
   {
    "duration": 851,
    "start_time": "2022-11-18T18:13:36.462Z"
   },
   {
    "duration": 52,
    "start_time": "2022-11-18T18:14:00.548Z"
   },
   {
    "duration": 853,
    "start_time": "2022-11-18T18:14:02.267Z"
   },
   {
    "duration": 294,
    "start_time": "2022-11-18T18:14:09.717Z"
   },
   {
    "duration": 32,
    "start_time": "2022-11-18T18:14:58.497Z"
   },
   {
    "duration": 56,
    "start_time": "2022-11-18T18:15:26.893Z"
   },
   {
    "duration": 279,
    "start_time": "2022-11-18T18:15:27.758Z"
   },
   {
    "duration": 24,
    "start_time": "2022-11-18T18:15:28.615Z"
   },
   {
    "duration": 3,
    "start_time": "2022-11-18T18:16:01.032Z"
   },
   {
    "duration": 52,
    "start_time": "2022-11-18T18:16:02.621Z"
   },
   {
    "duration": 282,
    "start_time": "2022-11-18T18:16:03.219Z"
   },
   {
    "duration": 7567,
    "start_time": "2022-11-18T18:16:04.479Z"
   },
   {
    "duration": 49,
    "start_time": "2022-11-18T18:16:29.167Z"
   },
   {
    "duration": 28,
    "start_time": "2022-11-18T18:16:43.446Z"
   },
   {
    "duration": 28,
    "start_time": "2022-11-18T18:17:05.359Z"
   },
   {
    "duration": 29,
    "start_time": "2022-11-18T18:17:21.980Z"
   },
   {
    "duration": 3,
    "start_time": "2022-11-18T18:18:36.183Z"
   },
   {
    "duration": 7475,
    "start_time": "2022-11-18T18:18:41.833Z"
   },
   {
    "duration": 16947,
    "start_time": "2022-11-18T18:19:09.617Z"
   },
   {
    "duration": 22,
    "start_time": "2022-11-18T18:20:45.419Z"
   },
   {
    "duration": 27,
    "start_time": "2022-11-18T18:21:43.520Z"
   },
   {
    "duration": 294,
    "start_time": "2022-11-18T18:22:14.317Z"
   },
   {
    "duration": 15658,
    "start_time": "2022-11-18T18:22:14.720Z"
   },
   {
    "duration": 17187,
    "start_time": "2022-11-18T18:28:58.447Z"
   },
   {
    "duration": 28,
    "start_time": "2022-11-18T18:29:45.065Z"
   },
   {
    "duration": 3,
    "start_time": "2022-11-18T18:30:08.103Z"
   },
   {
    "duration": 623257,
    "start_time": "2022-11-18T18:30:13.532Z"
   },
   {
    "duration": 3,
    "start_time": "2022-11-18T18:40:52.177Z"
   },
   {
    "duration": 16616,
    "start_time": "2022-11-18T18:40:56.110Z"
   },
   {
    "duration": 25,
    "start_time": "2022-11-18T18:41:23.782Z"
   },
   {
    "duration": 26,
    "start_time": "2022-11-18T18:41:27.583Z"
   },
   {
    "duration": 15,
    "start_time": "2022-11-18T18:41:31.060Z"
   },
   {
    "duration": 13,
    "start_time": "2022-11-18T18:41:34.427Z"
   },
   {
    "duration": 27,
    "start_time": "2022-11-18T18:41:42.464Z"
   },
   {
    "duration": 33,
    "start_time": "2022-11-18T18:41:49.755Z"
   },
   {
    "duration": 26,
    "start_time": "2022-11-18T18:41:54.626Z"
   },
   {
    "duration": 26,
    "start_time": "2022-11-18T18:41:57.632Z"
   },
   {
    "duration": 29,
    "start_time": "2022-11-18T18:42:01.466Z"
   },
   {
    "duration": 26,
    "start_time": "2022-11-18T18:42:04.981Z"
   },
   {
    "duration": 27,
    "start_time": "2022-11-18T18:42:10.507Z"
   },
   {
    "duration": 38,
    "start_time": "2022-11-18T18:42:14.625Z"
   },
   {
    "duration": 16130,
    "start_time": "2022-11-18T18:42:26.219Z"
   },
   {
    "duration": 28,
    "start_time": "2022-11-18T18:43:01.070Z"
   },
   {
    "duration": 26,
    "start_time": "2022-11-18T18:43:19.627Z"
   },
   {
    "duration": 15859,
    "start_time": "2022-11-18T18:43:22.629Z"
   },
   {
    "duration": 26,
    "start_time": "2022-11-18T18:43:44.511Z"
   },
   {
    "duration": 4,
    "start_time": "2022-11-18T18:43:56.997Z"
   },
   {
    "duration": 169429,
    "start_time": "2022-11-18T18:43:59.627Z"
   },
   {
    "duration": 2,
    "start_time": "2022-11-18T18:46:54.516Z"
   },
   {
    "duration": 76662,
    "start_time": "2022-11-18T18:46:56.598Z"
   },
   {
    "duration": 26,
    "start_time": "2022-11-18T18:50:13.607Z"
   },
   {
    "duration": 31849,
    "start_time": "2022-11-18T18:50:28.278Z"
   },
   {
    "duration": 26,
    "start_time": "2022-11-18T18:51:11.083Z"
   },
   {
    "duration": 29,
    "start_time": "2022-11-18T18:51:17.706Z"
   },
   {
    "duration": 39763,
    "start_time": "2022-11-18T18:51:23.848Z"
   },
   {
    "duration": 33,
    "start_time": "2022-11-18T18:52:16.302Z"
   },
   {
    "duration": 96599,
    "start_time": "2022-11-18T18:52:31.115Z"
   },
   {
    "duration": 27,
    "start_time": "2022-11-18T18:54:22.826Z"
   },
   {
    "duration": 3,
    "start_time": "2022-11-18T18:54:39.312Z"
   },
   {
    "duration": 15613,
    "start_time": "2022-11-18T18:54:43.696Z"
   },
   {
    "duration": 25,
    "start_time": "2022-11-18T18:55:09.870Z"
   },
   {
    "duration": 26,
    "start_time": "2022-11-18T18:56:31.243Z"
   },
   {
    "duration": 15635,
    "start_time": "2022-11-18T18:57:13.592Z"
   },
   {
    "duration": 27,
    "start_time": "2022-11-18T18:57:44.972Z"
   },
   {
    "duration": 46,
    "start_time": "2022-11-18T18:57:52.522Z"
   },
   {
    "duration": 3,
    "start_time": "2022-11-18T18:57:59.847Z"
   },
   {
    "duration": 15352,
    "start_time": "2022-11-18T18:58:02.844Z"
   },
   {
    "duration": 70,
    "start_time": "2022-11-18T18:58:46.657Z"
   },
   {
    "duration": 52,
    "start_time": "2022-11-18T18:58:51.870Z"
   },
   {
    "duration": 32,
    "start_time": "2022-11-18T18:59:04.842Z"
   },
   {
    "duration": 15594,
    "start_time": "2022-11-18T18:59:16.454Z"
   },
   {
    "duration": 26,
    "start_time": "2022-11-18T18:59:36.076Z"
   },
   {
    "duration": 2,
    "start_time": "2022-11-18T18:59:50.706Z"
   },
   {
    "duration": 27,
    "start_time": "2022-11-18T18:59:51.233Z"
   },
   {
    "duration": 294,
    "start_time": "2022-11-18T18:59:51.832Z"
   },
   {
    "duration": 15645,
    "start_time": "2022-11-18T18:59:52.523Z"
   },
   {
    "duration": 67,
    "start_time": "2022-11-18T19:00:22.961Z"
   },
   {
    "duration": 3,
    "start_time": "2022-11-18T19:00:26.292Z"
   },
   {
    "duration": 14,
    "start_time": "2022-11-18T19:00:29.623Z"
   },
   {
    "duration": 3,
    "start_time": "2022-11-18T19:00:45.437Z"
   },
   {
    "duration": 15773,
    "start_time": "2022-11-18T19:00:48.252Z"
   },
   {
    "duration": 3,
    "start_time": "2022-11-18T19:01:11.629Z"
   },
   {
    "duration": 35627,
    "start_time": "2022-11-18T19:01:13.563Z"
   },
   {
    "duration": 27,
    "start_time": "2022-11-18T19:02:10.465Z"
   },
   {
    "duration": 56,
    "start_time": "2022-11-19T08:32:31.349Z"
   },
   {
    "duration": 1642,
    "start_time": "2022-11-19T08:32:31.618Z"
   },
   {
    "duration": 4,
    "start_time": "2022-11-19T08:32:38.653Z"
   },
   {
    "duration": 5,
    "start_time": "2022-11-19T08:32:57.504Z"
   },
   {
    "duration": 171,
    "start_time": "2022-11-19T08:32:57.966Z"
   },
   {
    "duration": 14,
    "start_time": "2022-11-19T08:33:00.404Z"
   },
   {
    "duration": 20,
    "start_time": "2022-11-19T08:33:01.166Z"
   },
   {
    "duration": 14,
    "start_time": "2022-11-19T08:33:01.541Z"
   },
   {
    "duration": 20,
    "start_time": "2022-11-19T08:33:01.866Z"
   },
   {
    "duration": 5,
    "start_time": "2022-11-19T08:33:02.199Z"
   },
   {
    "duration": 12,
    "start_time": "2022-11-19T08:33:02.556Z"
   },
   {
    "duration": 5,
    "start_time": "2022-11-19T08:33:02.890Z"
   },
   {
    "duration": 11,
    "start_time": "2022-11-19T08:33:03.259Z"
   },
   {
    "duration": 14,
    "start_time": "2022-11-19T08:33:03.932Z"
   },
   {
    "duration": 28,
    "start_time": "2022-11-19T08:33:04.300Z"
   },
   {
    "duration": 75,
    "start_time": "2022-11-19T08:47:07.067Z"
   },
   {
    "duration": 12,
    "start_time": "2022-11-19T08:47:31.416Z"
   },
   {
    "duration": 11,
    "start_time": "2022-11-19T08:47:59.242Z"
   },
   {
    "duration": 26,
    "start_time": "2022-11-19T08:48:14.973Z"
   },
   {
    "duration": 26,
    "start_time": "2022-11-19T08:48:23.079Z"
   },
   {
    "duration": 26,
    "start_time": "2022-11-19T08:48:32.280Z"
   },
   {
    "duration": 28,
    "start_time": "2022-11-19T08:50:03.141Z"
   },
   {
    "duration": 27,
    "start_time": "2022-11-19T08:50:18.239Z"
   },
   {
    "duration": 27,
    "start_time": "2022-11-19T08:50:31.446Z"
   },
   {
    "duration": 45,
    "start_time": "2022-11-19T08:50:35.952Z"
   },
   {
    "duration": 31,
    "start_time": "2022-11-19T08:50:48.633Z"
   },
   {
    "duration": 49,
    "start_time": "2022-11-19T08:50:53.780Z"
   },
   {
    "duration": 26,
    "start_time": "2022-11-19T08:50:57.350Z"
   },
   {
    "duration": 45,
    "start_time": "2022-11-19T08:51:01.995Z"
   },
   {
    "duration": 48,
    "start_time": "2022-11-19T08:51:13.770Z"
   },
   {
    "duration": 40,
    "start_time": "2022-11-19T08:52:11.302Z"
   },
   {
    "duration": 73,
    "start_time": "2022-11-19T08:52:30.338Z"
   },
   {
    "duration": 41,
    "start_time": "2022-11-19T08:52:33.566Z"
   },
   {
    "duration": 39,
    "start_time": "2022-11-19T08:52:36.439Z"
   },
   {
    "duration": 88,
    "start_time": "2022-11-19T08:52:43.952Z"
   },
   {
    "duration": 81,
    "start_time": "2022-11-19T08:54:09.593Z"
   },
   {
    "duration": 82,
    "start_time": "2022-11-19T08:54:26.899Z"
   },
   {
    "duration": 102,
    "start_time": "2022-11-19T08:54:39.682Z"
   },
   {
    "duration": 84,
    "start_time": "2022-11-19T08:54:45.012Z"
   },
   {
    "duration": 157,
    "start_time": "2022-11-19T08:54:51.223Z"
   },
   {
    "duration": 615,
    "start_time": "2022-11-19T08:55:11.392Z"
   },
   {
    "duration": 1866,
    "start_time": "2022-11-19T08:55:19.534Z"
   },
   {
    "duration": 1864,
    "start_time": "2022-11-19T08:55:28.368Z"
   },
   {
    "duration": 3983,
    "start_time": "2022-11-19T08:55:36.084Z"
   },
   {
    "duration": 114,
    "start_time": "2022-11-19T08:55:45.834Z"
   },
   {
    "duration": 1491,
    "start_time": "2022-11-19T08:56:24.138Z"
   },
   {
    "duration": 12,
    "start_time": "2022-11-19T08:58:01.459Z"
   },
   {
    "duration": 12280,
    "start_time": "2022-11-19T08:58:13.314Z"
   },
   {
    "duration": 12399,
    "start_time": "2022-11-19T08:59:29.758Z"
   },
   {
    "duration": 12643,
    "start_time": "2022-11-19T09:00:20.736Z"
   },
   {
    "duration": 12771,
    "start_time": "2022-11-19T09:00:38.528Z"
   },
   {
    "duration": 12346,
    "start_time": "2022-11-19T09:01:53.387Z"
   },
   {
    "duration": 47706,
    "start_time": "2022-11-19T09:02:18.171Z"
   },
   {
    "duration": 1497,
    "start_time": "2022-11-19T09:04:34.834Z"
   },
   {
    "duration": 1541,
    "start_time": "2022-11-19T09:04:50.487Z"
   },
   {
    "duration": 1477,
    "start_time": "2022-11-19T09:05:09.318Z"
   },
   {
    "duration": 1497,
    "start_time": "2022-11-19T09:05:17.031Z"
   },
   {
    "duration": 1508,
    "start_time": "2022-11-19T09:05:43.389Z"
   },
   {
    "duration": 194,
    "start_time": "2022-11-19T09:05:56.377Z"
   },
   {
    "duration": 199,
    "start_time": "2022-11-19T09:06:13.364Z"
   },
   {
    "duration": 199,
    "start_time": "2022-11-19T09:06:38.819Z"
   },
   {
    "duration": 306,
    "start_time": "2022-11-19T09:06:59.093Z"
   },
   {
    "duration": 208,
    "start_time": "2022-11-19T09:07:08.218Z"
   },
   {
    "duration": 4,
    "start_time": "2022-11-19T09:07:15.233Z"
   },
   {
    "duration": 53,
    "start_time": "2022-11-19T09:07:15.535Z"
   },
   {
    "duration": 16,
    "start_time": "2022-11-19T09:07:15.809Z"
   },
   {
    "duration": 25,
    "start_time": "2022-11-19T09:07:16.153Z"
   },
   {
    "duration": 18,
    "start_time": "2022-11-19T09:07:16.428Z"
   },
   {
    "duration": 19,
    "start_time": "2022-11-19T09:07:16.770Z"
   },
   {
    "duration": 6,
    "start_time": "2022-11-19T09:07:17.061Z"
   },
   {
    "duration": 13,
    "start_time": "2022-11-19T09:07:17.368Z"
   },
   {
    "duration": 4,
    "start_time": "2022-11-19T09:07:17.693Z"
   },
   {
    "duration": 11,
    "start_time": "2022-11-19T09:07:18.020Z"
   },
   {
    "duration": 10,
    "start_time": "2022-11-19T09:07:18.338Z"
   },
   {
    "duration": 23,
    "start_time": "2022-11-19T09:07:18.670Z"
   },
   {
    "duration": 195,
    "start_time": "2022-11-19T09:07:19.423Z"
   },
   {
    "duration": 303,
    "start_time": "2022-11-19T09:07:20.277Z"
   },
   {
    "duration": 192,
    "start_time": "2022-11-19T09:07:39.958Z"
   },
   {
    "duration": 74,
    "start_time": "2022-11-19T09:07:56.072Z"
   },
   {
    "duration": 237,
    "start_time": "2022-11-19T09:08:03.919Z"
   },
   {
    "duration": 207,
    "start_time": "2022-11-19T09:08:18.116Z"
   },
   {
    "duration": 195,
    "start_time": "2022-11-19T09:08:28.905Z"
   },
   {
    "duration": 191,
    "start_time": "2022-11-19T09:09:05.941Z"
   },
   {
    "duration": 73,
    "start_time": "2022-11-19T09:09:22.627Z"
   },
   {
    "duration": 73,
    "start_time": "2022-11-19T09:09:39.567Z"
   },
   {
    "duration": 191,
    "start_time": "2022-11-19T09:09:55.322Z"
   },
   {
    "duration": 196,
    "start_time": "2022-11-19T09:10:11.852Z"
   },
   {
    "duration": 2346,
    "start_time": "2022-11-19T09:10:21.909Z"
   },
   {
    "duration": 4195,
    "start_time": "2022-11-19T09:11:38.306Z"
   },
   {
    "duration": 2055,
    "start_time": "2022-11-19T09:11:53.460Z"
   },
   {
    "duration": 4153,
    "start_time": "2022-11-19T09:12:00.922Z"
   },
   {
    "duration": 1366,
    "start_time": "2022-11-19T09:12:08.044Z"
   },
   {
    "duration": 4243,
    "start_time": "2022-11-19T09:12:16.037Z"
   },
   {
    "duration": 4036,
    "start_time": "2022-11-19T09:12:41.846Z"
   },
   {
    "duration": 4012,
    "start_time": "2022-11-19T09:13:03.553Z"
   },
   {
    "duration": 3391,
    "start_time": "2022-11-19T09:13:15.028Z"
   },
   {
    "duration": 3105,
    "start_time": "2022-11-19T09:13:27.971Z"
   },
   {
    "duration": 2831,
    "start_time": "2022-11-19T09:13:40.646Z"
   },
   {
    "duration": 2702,
    "start_time": "2022-11-19T09:13:48.307Z"
   },
   {
    "duration": 3069,
    "start_time": "2022-11-19T09:13:55.953Z"
   },
   {
    "duration": 3120,
    "start_time": "2022-11-19T09:14:22.002Z"
   },
   {
    "duration": 3070,
    "start_time": "2022-11-19T09:14:41.637Z"
   },
   {
    "duration": 10,
    "start_time": "2022-11-19T09:15:29.688Z"
   },
   {
    "duration": 11,
    "start_time": "2022-11-19T09:15:33.645Z"
   },
   {
    "duration": 16,
    "start_time": "2022-11-19T09:15:44.412Z"
   },
   {
    "duration": 3061,
    "start_time": "2022-11-19T09:15:56.187Z"
   },
   {
    "duration": 14,
    "start_time": "2022-11-19T09:17:20.742Z"
   },
   {
    "duration": 15,
    "start_time": "2022-11-19T09:17:28.783Z"
   },
   {
    "duration": 4221,
    "start_time": "2022-11-19T09:28:06.624Z"
   },
   {
    "duration": 2033,
    "start_time": "2022-11-19T09:36:32.697Z"
   },
   {
    "duration": 3482,
    "start_time": "2022-11-19T09:36:45.471Z"
   },
   {
    "duration": 27,
    "start_time": "2022-11-19T09:36:55.423Z"
   },
   {
    "duration": 15,
    "start_time": "2022-11-19T09:37:06.654Z"
   },
   {
    "duration": 3321,
    "start_time": "2022-11-19T09:37:09.671Z"
   },
   {
    "duration": 2574,
    "start_time": "2022-11-19T09:37:27.323Z"
   },
   {
    "duration": 2724,
    "start_time": "2022-11-19T09:37:35.089Z"
   },
   {
    "duration": 2375,
    "start_time": "2022-11-19T09:37:45.111Z"
   },
   {
    "duration": 2639,
    "start_time": "2022-11-19T09:37:55.584Z"
   },
   {
    "duration": 981,
    "start_time": "2022-11-19T09:38:17.221Z"
   },
   {
    "duration": 79,
    "start_time": "2022-11-19T09:39:17.312Z"
   },
   {
    "duration": 65,
    "start_time": "2022-11-19T09:39:23.249Z"
   },
   {
    "duration": 74,
    "start_time": "2022-11-19T09:39:30.346Z"
   },
   {
    "duration": 82,
    "start_time": "2022-11-19T09:39:47.797Z"
   },
   {
    "duration": 15,
    "start_time": "2022-11-19T09:40:06.075Z"
   },
   {
    "duration": 15,
    "start_time": "2022-11-19T09:40:25.390Z"
   },
   {
    "duration": 14,
    "start_time": "2022-11-19T09:40:31.152Z"
   },
   {
    "duration": 15,
    "start_time": "2022-11-19T09:40:38.556Z"
   },
   {
    "duration": 69,
    "start_time": "2022-11-19T09:40:48.595Z"
   },
   {
    "duration": 97,
    "start_time": "2022-11-19T09:40:53.380Z"
   },
   {
    "duration": 29509,
    "start_time": "2022-11-19T09:41:01.799Z"
   },
   {
    "duration": 10039,
    "start_time": "2022-11-19T09:41:42.868Z"
   },
   {
    "duration": 38950,
    "start_time": "2022-11-19T09:42:00.733Z"
   },
   {
    "duration": 39103,
    "start_time": "2022-11-19T09:43:09.357Z"
   },
   {
    "duration": 1623,
    "start_time": "2022-11-19T14:05:33.131Z"
   },
   {
    "duration": 158,
    "start_time": "2022-11-19T14:05:34.757Z"
   },
   {
    "duration": 14,
    "start_time": "2022-11-19T14:05:34.917Z"
   },
   {
    "duration": 21,
    "start_time": "2022-11-19T14:05:34.933Z"
   },
   {
    "duration": 28,
    "start_time": "2022-11-19T14:05:34.956Z"
   },
   {
    "duration": 20,
    "start_time": "2022-11-19T14:05:35.453Z"
   },
   {
    "duration": 5,
    "start_time": "2022-11-19T14:05:35.819Z"
   },
   {
    "duration": 18,
    "start_time": "2022-11-19T14:05:36.275Z"
   },
   {
    "duration": 7,
    "start_time": "2022-11-19T14:05:36.772Z"
   },
   {
    "duration": 11,
    "start_time": "2022-11-19T14:05:37.300Z"
   },
   {
    "duration": 10,
    "start_time": "2022-11-19T14:05:38.206Z"
   },
   {
    "duration": 22,
    "start_time": "2022-11-19T14:05:38.603Z"
   },
   {
    "duration": 41501,
    "start_time": "2022-11-19T14:05:40.903Z"
   },
   {
    "duration": 3,
    "start_time": "2022-11-19T14:09:26.826Z"
   },
   {
    "duration": 127,
    "start_time": "2022-11-19T14:09:57.874Z"
   },
   {
    "duration": 12,
    "start_time": "2022-11-19T14:10:10.055Z"
   },
   {
    "duration": 13,
    "start_time": "2022-11-19T14:13:27.272Z"
   },
   {
    "duration": 66,
    "start_time": "2022-11-19T14:13:37.805Z"
   },
   {
    "duration": 78,
    "start_time": "2022-11-19T14:13:41.879Z"
   },
   {
    "duration": 43987,
    "start_time": "2022-11-19T14:13:50.258Z"
   },
   {
    "duration": 14,
    "start_time": "2022-11-19T14:14:38.013Z"
   },
   {
    "duration": 51328,
    "start_time": "2022-11-19T14:14:45.599Z"
   },
   {
    "duration": 70,
    "start_time": "2022-11-19T14:16:51.332Z"
   },
   {
    "duration": 13159,
    "start_time": "2022-11-19T14:16:55.786Z"
   },
   {
    "duration": 413046,
    "start_time": "2022-11-19T14:17:11.470Z"
   },
   {
    "duration": 14,
    "start_time": "2022-11-19T14:26:28.806Z"
   },
   {
    "duration": 11,
    "start_time": "2022-11-19T14:27:49.359Z"
   },
   {
    "duration": 231682,
    "start_time": "2022-11-19T14:28:12.898Z"
   },
   {
    "duration": 10950,
    "start_time": "2022-11-19T14:33:01.249Z"
   },
   {
    "duration": 23027,
    "start_time": "2022-11-19T14:33:27.767Z"
   },
   {
    "duration": 10,
    "start_time": "2022-11-19T14:34:22.629Z"
   },
   {
    "duration": 11,
    "start_time": "2022-11-19T14:34:27.071Z"
   },
   {
    "duration": 19015,
    "start_time": "2022-11-19T14:35:34.041Z"
   },
   {
    "duration": 24527,
    "start_time": "2022-11-19T14:36:26.950Z"
   },
   {
    "duration": 42914,
    "start_time": "2022-11-19T14:37:10.843Z"
   },
   {
    "duration": 24839,
    "start_time": "2022-11-19T14:43:05.053Z"
   },
   {
    "duration": 25392,
    "start_time": "2022-11-19T14:44:00.831Z"
   },
   {
    "duration": 24708,
    "start_time": "2022-11-19T14:52:58.127Z"
   },
   {
    "duration": 14,
    "start_time": "2022-11-19T14:56:37.478Z"
   },
   {
    "duration": 31041,
    "start_time": "2022-11-19T14:56:47.628Z"
   },
   {
    "duration": 25785,
    "start_time": "2022-11-19T14:58:55.867Z"
   },
   {
    "duration": 83159,
    "start_time": "2022-11-19T15:00:44.466Z"
   },
   {
    "duration": 651677,
    "start_time": "2022-11-19T15:03:45.247Z"
   },
   {
    "duration": 24045,
    "start_time": "2022-11-19T15:14:36.926Z"
   },
   {
    "duration": 37,
    "start_time": "2022-11-19T15:23:03.413Z"
   },
   {
    "duration": 28,
    "start_time": "2022-11-19T15:24:21.332Z"
   },
   {
    "duration": 44,
    "start_time": "2022-11-19T15:24:34.285Z"
   },
   {
    "duration": 29,
    "start_time": "2022-11-19T15:24:49.555Z"
   },
   {
    "duration": 29,
    "start_time": "2022-11-19T15:25:23.797Z"
   },
   {
    "duration": 30,
    "start_time": "2022-11-19T15:25:57.638Z"
   },
   {
    "duration": 28,
    "start_time": "2022-11-19T15:26:24.688Z"
   },
   {
    "duration": 377944,
    "start_time": "2022-11-19T15:27:14.952Z"
   },
   {
    "duration": 0,
    "start_time": "2022-11-19T15:33:32.897Z"
   },
   {
    "duration": 6,
    "start_time": "2022-11-19T15:33:37.822Z"
   },
   {
    "duration": 6,
    "start_time": "2022-11-19T15:33:59.415Z"
   },
   {
    "duration": 8,
    "start_time": "2022-11-19T15:34:30.579Z"
   },
   {
    "duration": 6,
    "start_time": "2022-11-19T15:35:08.306Z"
   },
   {
    "duration": 7,
    "start_time": "2022-11-19T15:36:39.427Z"
   },
   {
    "duration": 91463,
    "start_time": "2022-11-19T15:37:15.345Z"
   },
   {
    "duration": 255630,
    "start_time": "2022-11-19T15:39:01.762Z"
   },
   {
    "duration": 5119,
    "start_time": "2022-11-19T15:43:31.694Z"
   },
   {
    "duration": 0,
    "start_time": "2022-11-19T15:43:36.815Z"
   },
   {
    "duration": 44,
    "start_time": "2022-11-19T15:43:38.568Z"
   },
   {
    "duration": 42,
    "start_time": "2022-11-19T15:44:16.003Z"
   },
   {
    "duration": 41,
    "start_time": "2022-11-19T15:44:26.699Z"
   },
   {
    "duration": 35,
    "start_time": "2022-11-19T15:44:42.800Z"
   },
   {
    "duration": 131,
    "start_time": "2022-11-19T15:46:24.552Z"
   },
   {
    "duration": 220,
    "start_time": "2022-11-19T15:47:23.758Z"
   },
   {
    "duration": 111,
    "start_time": "2022-11-19T15:47:38.071Z"
   },
   {
    "duration": 60,
    "start_time": "2022-11-19T15:47:55.625Z"
   },
   {
    "duration": 122,
    "start_time": "2022-11-19T15:48:03.555Z"
   },
   {
    "duration": 7373,
    "start_time": "2022-11-19T15:48:23.412Z"
   },
   {
    "duration": 23581,
    "start_time": "2022-11-19T15:48:44.204Z"
   },
   {
    "duration": 84299,
    "start_time": "2022-11-19T15:49:09.311Z"
   },
   {
    "duration": 45068,
    "start_time": "2022-11-19T15:50:56.140Z"
   },
   {
    "duration": 173819,
    "start_time": "2022-11-19T15:52:10.349Z"
   },
   {
    "duration": 420506,
    "start_time": "2022-11-19T15:57:15.083Z"
   },
   {
    "duration": 84082,
    "start_time": "2022-11-19T16:04:24.272Z"
   },
   {
    "duration": 36218,
    "start_time": "2022-11-19T16:09:28.524Z"
   },
   {
    "duration": 78,
    "start_time": "2022-11-19T16:11:08.577Z"
   },
   {
    "duration": 46,
    "start_time": "2022-11-19T16:11:24.423Z"
   },
   {
    "duration": 71338,
    "start_time": "2022-11-19T16:11:29.195Z"
   },
   {
    "duration": 217070,
    "start_time": "2022-11-19T16:15:59.110Z"
   },
   {
    "duration": 76425,
    "start_time": "2022-11-19T16:23:23.226Z"
   },
   {
    "duration": 14,
    "start_time": "2022-11-19T16:24:39.652Z"
   },
   {
    "duration": 22093,
    "start_time": "2022-11-19T16:25:14.556Z"
   },
   {
    "duration": 3,
    "start_time": "2022-11-19T16:25:40.264Z"
   },
   {
    "duration": 15,
    "start_time": "2022-11-19T16:25:49.870Z"
   },
   {
    "duration": 39422,
    "start_time": "2022-11-19T16:26:06.257Z"
   },
   {
    "duration": 1217,
    "start_time": "2022-11-19T16:27:10.046Z"
   },
   {
    "duration": 2427,
    "start_time": "2022-11-19T16:27:23.590Z"
   },
   {
    "duration": 23388,
    "start_time": "2022-11-19T16:27:40.054Z"
   },
   {
    "duration": 13592,
    "start_time": "2022-11-19T16:28:52.968Z"
   },
   {
    "duration": 49,
    "start_time": "2022-11-19T16:31:45.307Z"
   },
   {
    "duration": 28827,
    "start_time": "2022-11-19T16:31:50.972Z"
   },
   {
    "duration": 33010,
    "start_time": "2022-11-19T16:34:00.959Z"
   },
   {
    "duration": 33807,
    "start_time": "2022-11-19T16:36:17.960Z"
   },
   {
    "duration": 4,
    "start_time": "2022-11-19T16:36:52.705Z"
   },
   {
    "duration": 35833,
    "start_time": "2022-11-19T16:37:19.766Z"
   },
   {
    "duration": 41357,
    "start_time": "2022-11-19T16:38:50.872Z"
   },
   {
    "duration": 10,
    "start_time": "2022-11-19T16:43:28.042Z"
   },
   {
    "duration": 12,
    "start_time": "2022-11-19T16:43:31.606Z"
   },
   {
    "duration": 15,
    "start_time": "2022-11-19T16:43:47.429Z"
   },
   {
    "duration": 96,
    "start_time": "2022-11-19T16:43:48.748Z"
   },
   {
    "duration": 90,
    "start_time": "2022-11-19T16:45:44.536Z"
   },
   {
    "duration": 10,
    "start_time": "2022-11-19T16:47:23.977Z"
   },
   {
    "duration": 10,
    "start_time": "2022-11-19T16:47:41.733Z"
   },
   {
    "duration": 10,
    "start_time": "2022-11-19T16:51:06.838Z"
   },
   {
    "duration": 4226,
    "start_time": "2022-11-19T16:52:13.646Z"
   },
   {
    "duration": 4679,
    "start_time": "2022-11-19T16:53:46.608Z"
   },
   {
    "duration": 4814,
    "start_time": "2022-11-19T16:54:06.960Z"
   },
   {
    "duration": 4403,
    "start_time": "2022-11-19T16:54:47.035Z"
   },
   {
    "duration": 227809,
    "start_time": "2022-11-19T16:55:12.151Z"
   },
   {
    "duration": 235283,
    "start_time": "2022-11-19T17:04:04.763Z"
   },
   {
    "duration": 147306,
    "start_time": "2022-11-19T17:09:04.179Z"
   },
   {
    "duration": 102275,
    "start_time": "2022-11-19T17:12:42.060Z"
   },
   {
    "duration": 2361,
    "start_time": "2022-11-19T17:16:13.146Z"
   },
   {
    "duration": 4876,
    "start_time": "2022-11-19T17:16:25.182Z"
   },
   {
    "duration": 24657,
    "start_time": "2022-11-19T17:16:57.916Z"
   },
   {
    "duration": 25820,
    "start_time": "2022-11-19T17:18:11.013Z"
   },
   {
    "duration": 39328,
    "start_time": "2022-11-19T17:18:36.835Z"
   },
   {
    "duration": 22336,
    "start_time": "2022-11-19T17:20:22.942Z"
   },
   {
    "duration": 66,
    "start_time": "2022-11-19T17:21:34.718Z"
   },
   {
    "duration": 51,
    "start_time": "2022-11-19T17:21:41.082Z"
   },
   {
    "duration": 680212,
    "start_time": "2022-11-19T17:21:47.167Z"
   },
   {
    "duration": 0,
    "start_time": "2022-11-19T17:33:07.381Z"
   },
   {
    "duration": 202984,
    "start_time": "2022-11-19T17:33:14.438Z"
   },
   {
    "duration": 1039,
    "start_time": "2022-11-19T17:36:53.850Z"
   },
   {
    "duration": 1684,
    "start_time": "2022-11-19T17:37:13.023Z"
   },
   {
    "duration": 3795,
    "start_time": "2022-11-19T17:37:23.730Z"
   },
   {
    "duration": 8638,
    "start_time": "2022-11-19T17:37:37.336Z"
   },
   {
    "duration": 19,
    "start_time": "2022-11-19T17:38:10.136Z"
   },
   {
    "duration": 4514,
    "start_time": "2022-11-19T17:38:17.720Z"
   },
   {
    "duration": 26223,
    "start_time": "2022-11-19T17:38:47.990Z"
   },
   {
    "duration": 27676,
    "start_time": "2022-11-19T17:40:46.995Z"
   },
   {
    "duration": 25262,
    "start_time": "2022-11-19T17:41:34.304Z"
   },
   {
    "duration": 358791,
    "start_time": "2022-11-19T17:43:25.373Z"
   },
   {
    "duration": 48,
    "start_time": "2022-11-19T17:49:28.723Z"
   },
   {
    "duration": 103894,
    "start_time": "2022-11-19T17:49:33.841Z"
   },
   {
    "duration": 233810,
    "start_time": "2022-11-19T17:52:31.423Z"
   },
   {
    "duration": 16,
    "start_time": "2022-11-19T17:57:32.153Z"
   },
   {
    "duration": 3,
    "start_time": "2022-11-19T17:57:52.341Z"
   },
   {
    "duration": 45,
    "start_time": "2022-11-19T17:57:52.649Z"
   },
   {
    "duration": 11,
    "start_time": "2022-11-19T17:57:52.946Z"
   },
   {
    "duration": 18,
    "start_time": "2022-11-19T17:57:53.301Z"
   },
   {
    "duration": 17,
    "start_time": "2022-11-19T17:57:53.774Z"
   },
   {
    "duration": 15,
    "start_time": "2022-11-19T17:59:00.854Z"
   },
   {
    "duration": 18,
    "start_time": "2022-11-19T17:59:04.236Z"
   },
   {
    "duration": 6,
    "start_time": "2022-11-19T17:59:04.670Z"
   },
   {
    "duration": 13,
    "start_time": "2022-11-19T17:59:06.584Z"
   },
   {
    "duration": 6,
    "start_time": "2022-11-19T17:59:07.094Z"
   },
   {
    "duration": 10,
    "start_time": "2022-11-19T17:59:08.011Z"
   },
   {
    "duration": 9,
    "start_time": "2022-11-19T17:59:09.932Z"
   },
   {
    "duration": 19,
    "start_time": "2022-11-19T17:59:10.662Z"
   },
   {
    "duration": 7,
    "start_time": "2022-11-19T17:59:15.108Z"
   },
   {
    "duration": 221,
    "start_time": "2022-11-19T17:59:21.739Z"
   },
   {
    "duration": 14904,
    "start_time": "2022-11-19T17:59:34.293Z"
   },
   {
    "duration": 272,
    "start_time": "2022-11-19T17:59:59.105Z"
   },
   {
    "duration": 15702,
    "start_time": "2022-11-19T18:00:02.027Z"
   },
   {
    "duration": 20455,
    "start_time": "2022-11-19T18:00:44.541Z"
   },
   {
    "duration": 8318,
    "start_time": "2022-11-19T18:01:39.545Z"
   },
   {
    "duration": 24,
    "start_time": "2022-11-19T18:06:28.119Z"
   },
   {
    "duration": 8,
    "start_time": "2022-11-19T18:06:30.910Z"
   },
   {
    "duration": 8592,
    "start_time": "2022-11-19T18:06:34.038Z"
   },
   {
    "duration": 24,
    "start_time": "2022-11-19T18:12:54.765Z"
   },
   {
    "duration": 25,
    "start_time": "2022-11-19T18:13:09.987Z"
   },
   {
    "duration": 29,
    "start_time": "2022-11-19T18:14:07.218Z"
   },
   {
    "duration": 38,
    "start_time": "2022-11-19T18:14:23.350Z"
   },
   {
    "duration": 49,
    "start_time": "2022-11-19T18:14:37.355Z"
   },
   {
    "duration": 31,
    "start_time": "2022-11-19T18:14:42.300Z"
   },
   {
    "duration": 35,
    "start_time": "2022-11-19T18:16:19.436Z"
   },
   {
    "duration": 10,
    "start_time": "2022-11-19T18:16:55.235Z"
   },
   {
    "duration": 15,
    "start_time": "2022-11-19T18:17:09.967Z"
   },
   {
    "duration": 24,
    "start_time": "2022-11-19T18:17:26.678Z"
   },
   {
    "duration": 16,
    "start_time": "2022-11-19T18:18:59.941Z"
   },
   {
    "duration": 10,
    "start_time": "2022-11-19T18:19:01.892Z"
   },
   {
    "duration": 10,
    "start_time": "2022-11-19T18:19:03.159Z"
   },
   {
    "duration": 9,
    "start_time": "2022-11-19T18:19:04.897Z"
   },
   {
    "duration": 7849,
    "start_time": "2022-11-19T18:19:08.139Z"
   },
   {
    "duration": 21,
    "start_time": "2022-11-19T18:19:31.176Z"
   },
   {
    "duration": 21,
    "start_time": "2022-11-19T18:19:36.597Z"
   },
   {
    "duration": 12,
    "start_time": "2022-11-19T18:19:51.942Z"
   },
   {
    "duration": 9,
    "start_time": "2022-11-19T18:19:54.670Z"
   },
   {
    "duration": 46,
    "start_time": "2022-11-19T18:20:02.984Z"
   },
   {
    "duration": 15243,
    "start_time": "2022-11-19T18:20:12.174Z"
   },
   {
    "duration": 19,
    "start_time": "2022-11-19T18:22:56.722Z"
   },
   {
    "duration": 21,
    "start_time": "2022-11-19T18:23:06.005Z"
   },
   {
    "duration": 10,
    "start_time": "2022-11-19T18:23:30.618Z"
   },
   {
    "duration": 9,
    "start_time": "2022-11-19T18:23:32.770Z"
   },
   {
    "duration": 9,
    "start_time": "2022-11-19T18:23:45.209Z"
   },
   {
    "duration": 4,
    "start_time": "2022-11-19T18:23:58.844Z"
   },
   {
    "duration": 14656,
    "start_time": "2022-11-19T18:24:05.939Z"
   },
   {
    "duration": 12437,
    "start_time": "2022-11-19T18:24:39.384Z"
   },
   {
    "duration": 480,
    "start_time": "2022-11-19T18:25:19.890Z"
   },
   {
    "duration": 3720,
    "start_time": "2022-11-19T18:25:33.765Z"
   },
   {
    "duration": 10671,
    "start_time": "2022-11-19T18:25:52.947Z"
   },
   {
    "duration": 9939,
    "start_time": "2022-11-19T18:27:04.011Z"
   },
   {
    "duration": 63852,
    "start_time": "2022-11-19T18:27:40.502Z"
   },
   {
    "duration": 163105,
    "start_time": "2022-11-19T18:28:48.381Z"
   },
   {
    "duration": 0,
    "start_time": "2022-11-19T18:31:31.488Z"
   },
   {
    "duration": 13,
    "start_time": "2022-11-19T18:31:37.137Z"
   },
   {
    "duration": 15,
    "start_time": "2022-11-19T18:31:52.196Z"
   },
   {
    "duration": 12,
    "start_time": "2022-11-19T18:32:09.756Z"
   },
   {
    "duration": 16,
    "start_time": "2022-11-19T18:32:15.422Z"
   },
   {
    "duration": 4,
    "start_time": "2022-11-19T18:32:21.189Z"
   },
   {
    "duration": 56,
    "start_time": "2022-11-19T18:32:21.441Z"
   },
   {
    "duration": 16,
    "start_time": "2022-11-19T18:32:21.745Z"
   },
   {
    "duration": 18,
    "start_time": "2022-11-19T18:32:22.447Z"
   },
   {
    "duration": 15,
    "start_time": "2022-11-19T18:32:22.921Z"
   },
   {
    "duration": 58,
    "start_time": "2022-11-19T18:34:05.289Z"
   },
   {
    "duration": 11,
    "start_time": "2022-11-19T18:34:05.845Z"
   },
   {
    "duration": 17,
    "start_time": "2022-11-19T18:35:19.059Z"
   },
   {
    "duration": 13,
    "start_time": "2022-11-19T18:35:21.623Z"
   },
   {
    "duration": 16,
    "start_time": "2022-11-19T18:35:21.938Z"
   },
   {
    "duration": 3,
    "start_time": "2022-11-19T18:35:34.725Z"
   },
   {
    "duration": 48,
    "start_time": "2022-11-19T18:35:35.001Z"
   },
   {
    "duration": 11,
    "start_time": "2022-11-19T18:35:35.429Z"
   },
   {
    "duration": 18,
    "start_time": "2022-11-19T18:35:35.997Z"
   },
   {
    "duration": 17,
    "start_time": "2022-11-19T18:35:36.572Z"
   },
   {
    "duration": 20,
    "start_time": "2022-11-19T18:35:41.001Z"
   },
   {
    "duration": 5,
    "start_time": "2022-11-19T18:35:41.411Z"
   },
   {
    "duration": 11,
    "start_time": "2022-11-19T18:35:42.427Z"
   },
   {
    "duration": 5,
    "start_time": "2022-11-19T18:35:42.806Z"
   },
   {
    "duration": 27,
    "start_time": "2022-11-19T18:35:44.964Z"
   },
   {
    "duration": 12,
    "start_time": "2022-11-19T18:35:45.533Z"
   },
   {
    "duration": 9,
    "start_time": "2022-11-19T18:35:46.251Z"
   },
   {
    "duration": 7,
    "start_time": "2022-11-19T18:35:47.700Z"
   },
   {
    "duration": 10137,
    "start_time": "2022-11-19T18:35:49.859Z"
   },
   {
    "duration": 35,
    "start_time": "2022-11-19T18:36:11.276Z"
   },
   {
    "duration": 7,
    "start_time": "2022-11-19T18:36:19.438Z"
   },
   {
    "duration": 168872,
    "start_time": "2022-11-19T18:36:31.729Z"
   },
   {
    "duration": 1517,
    "start_time": "2022-11-22T14:01:29.171Z"
   },
   {
    "duration": 195,
    "start_time": "2022-11-22T14:01:30.690Z"
   },
   {
    "duration": 13,
    "start_time": "2022-11-22T14:01:30.887Z"
   },
   {
    "duration": 26,
    "start_time": "2022-11-22T14:01:30.902Z"
   },
   {
    "duration": 13,
    "start_time": "2022-11-22T14:01:32.520Z"
   },
   {
    "duration": 20,
    "start_time": "2022-11-22T14:01:32.959Z"
   },
   {
    "duration": 5,
    "start_time": "2022-11-22T14:01:33.601Z"
   },
   {
    "duration": 12,
    "start_time": "2022-11-22T14:01:34.112Z"
   },
   {
    "duration": 5,
    "start_time": "2022-11-22T14:01:34.543Z"
   },
   {
    "duration": 22,
    "start_time": "2022-11-22T14:01:35.039Z"
   },
   {
    "duration": 10,
    "start_time": "2022-11-22T14:01:35.680Z"
   },
   {
    "duration": 10,
    "start_time": "2022-11-22T14:01:36.229Z"
   },
   {
    "duration": 9,
    "start_time": "2022-11-22T14:01:39.549Z"
   },
   {
    "duration": 109,
    "start_time": "2022-11-22T14:04:12.309Z"
   },
   {
    "duration": 157,
    "start_time": "2022-11-22T14:04:33.395Z"
   },
   {
    "duration": 14,
    "start_time": "2022-11-22T14:04:53.528Z"
   },
   {
    "duration": 12,
    "start_time": "2022-11-22T14:05:10.390Z"
   },
   {
    "duration": 11,
    "start_time": "2022-11-22T14:05:34.374Z"
   },
   {
    "duration": 11,
    "start_time": "2022-11-22T14:06:14.422Z"
   },
   {
    "duration": 17,
    "start_time": "2022-11-22T14:06:21.340Z"
   },
   {
    "duration": 1283,
    "start_time": "2022-11-22T14:06:41.373Z"
   },
   {
    "duration": 1142,
    "start_time": "2022-11-22T14:06:52.882Z"
   },
   {
    "duration": 15569,
    "start_time": "2022-11-22T14:07:13.448Z"
   },
   {
    "duration": 1187,
    "start_time": "2022-11-22T14:12:32.569Z"
   },
   {
    "duration": 4,
    "start_time": "2022-11-22T14:12:50.591Z"
   },
   {
    "duration": 48,
    "start_time": "2022-11-22T14:12:50.853Z"
   },
   {
    "duration": 11,
    "start_time": "2022-11-22T14:12:51.149Z"
   },
   {
    "duration": 19,
    "start_time": "2022-11-22T14:12:51.459Z"
   },
   {
    "duration": 14,
    "start_time": "2022-11-22T14:12:51.776Z"
   },
   {
    "duration": 19,
    "start_time": "2022-11-22T14:12:52.137Z"
   },
   {
    "duration": 5,
    "start_time": "2022-11-22T14:12:52.498Z"
   },
   {
    "duration": 11,
    "start_time": "2022-11-22T14:12:52.888Z"
   },
   {
    "duration": 5,
    "start_time": "2022-11-22T14:12:53.284Z"
   },
   {
    "duration": 19,
    "start_time": "2022-11-22T14:12:53.889Z"
   },
   {
    "duration": 9,
    "start_time": "2022-11-22T14:12:54.564Z"
   },
   {
    "duration": 9,
    "start_time": "2022-11-22T14:12:54.855Z"
   },
   {
    "duration": 1150,
    "start_time": "2022-11-22T14:12:57.089Z"
   },
   {
    "duration": 4,
    "start_time": "2022-11-22T14:14:59.497Z"
   },
   {
    "duration": 5,
    "start_time": "2022-11-22T14:15:09.772Z"
   },
   {
    "duration": 5,
    "start_time": "2022-11-22T14:15:41.387Z"
   },
   {
    "duration": 12,
    "start_time": "2022-11-22T14:16:02.467Z"
   },
   {
    "duration": 13,
    "start_time": "2022-11-22T14:16:10.445Z"
   },
   {
    "duration": 4,
    "start_time": "2022-11-22T14:16:48.773Z"
   },
   {
    "duration": 206,
    "start_time": "2022-11-22T14:16:59.491Z"
   },
   {
    "duration": 11,
    "start_time": "2022-11-22T14:17:11.704Z"
   },
   {
    "duration": 139,
    "start_time": "2022-11-22T14:17:52.201Z"
   },
   {
    "duration": 108,
    "start_time": "2022-11-22T14:18:07.171Z"
   },
   {
    "duration": 69,
    "start_time": "2022-11-22T14:18:17.522Z"
   },
   {
    "duration": 73,
    "start_time": "2022-11-22T14:18:28.448Z"
   },
   {
    "duration": 78,
    "start_time": "2022-11-22T14:18:32.909Z"
   },
   {
    "duration": 143,
    "start_time": "2022-11-22T14:21:23.477Z"
   },
   {
    "duration": 152,
    "start_time": "2022-11-22T14:21:35.333Z"
   },
   {
    "duration": 178,
    "start_time": "2022-11-22T14:21:39.061Z"
   },
   {
    "duration": 233,
    "start_time": "2022-11-22T14:21:58.867Z"
   },
   {
    "duration": 187,
    "start_time": "2022-11-22T14:22:20.935Z"
   },
   {
    "duration": 186,
    "start_time": "2022-11-22T14:22:31.654Z"
   },
   {
    "duration": 169,
    "start_time": "2022-11-22T14:22:41.473Z"
   },
   {
    "duration": 334,
    "start_time": "2022-11-22T14:22:55.386Z"
   },
   {
    "duration": 183,
    "start_time": "2022-11-22T14:23:07.858Z"
   },
   {
    "duration": 185,
    "start_time": "2022-11-22T14:23:38.617Z"
   },
   {
    "duration": 157,
    "start_time": "2022-11-22T14:23:52.217Z"
   },
   {
    "duration": 189,
    "start_time": "2022-11-22T14:26:11.354Z"
   },
   {
    "duration": 163,
    "start_time": "2022-11-22T14:29:25.921Z"
   },
   {
    "duration": 12,
    "start_time": "2022-11-22T14:29:41.538Z"
   },
   {
    "duration": 15,
    "start_time": "2022-11-22T14:29:49.432Z"
   },
   {
    "duration": 74,
    "start_time": "2022-11-22T14:30:06.794Z"
   },
   {
    "duration": 186,
    "start_time": "2022-11-22T14:30:10.984Z"
   },
   {
    "duration": 233,
    "start_time": "2022-11-22T14:30:16.908Z"
   },
   {
    "duration": 230,
    "start_time": "2022-11-22T14:30:24.731Z"
   },
   {
    "duration": 200,
    "start_time": "2022-11-22T14:30:34.731Z"
   },
   {
    "duration": 71,
    "start_time": "2022-11-22T14:31:33.573Z"
   },
   {
    "duration": 9,
    "start_time": "2022-11-22T14:31:37.995Z"
   },
   {
    "duration": 10,
    "start_time": "2022-11-22T14:31:45.009Z"
   },
   {
    "duration": 4,
    "start_time": "2022-11-22T14:32:00.665Z"
   },
   {
    "duration": 209,
    "start_time": "2022-11-22T14:32:09.084Z"
   },
   {
    "duration": 197,
    "start_time": "2022-11-22T14:33:24.301Z"
   },
   {
    "duration": 76,
    "start_time": "2022-11-22T14:33:44.631Z"
   },
   {
    "duration": 66,
    "start_time": "2022-11-22T14:33:53.186Z"
   },
   {
    "duration": 192,
    "start_time": "2022-11-22T14:33:56.408Z"
   },
   {
    "duration": 200,
    "start_time": "2022-11-22T14:34:05.326Z"
   },
   {
    "duration": 1226,
    "start_time": "2022-11-22T14:36:18.754Z"
   },
   {
    "duration": 202,
    "start_time": "2022-11-22T14:36:28.621Z"
   },
   {
    "duration": 401,
    "start_time": "2022-11-22T14:36:38.875Z"
   },
   {
    "duration": 195,
    "start_time": "2022-11-22T14:36:52.277Z"
   },
   {
    "duration": 197,
    "start_time": "2022-11-22T14:37:00.292Z"
   },
   {
    "duration": 212,
    "start_time": "2022-11-22T14:37:06.005Z"
   },
   {
    "duration": 200,
    "start_time": "2022-11-22T14:37:12.726Z"
   },
   {
    "duration": 6,
    "start_time": "2022-11-22T14:47:57.228Z"
   },
   {
    "duration": 159,
    "start_time": "2022-11-22T14:48:51.504Z"
   },
   {
    "duration": 147,
    "start_time": "2022-11-22T14:49:11.855Z"
   },
   {
    "duration": 1178,
    "start_time": "2022-11-22T14:50:16.493Z"
   },
   {
    "duration": 130,
    "start_time": "2022-11-22T14:50:28.423Z"
   },
   {
    "duration": 131,
    "start_time": "2022-11-22T14:50:54.031Z"
   },
   {
    "duration": 180,
    "start_time": "2022-11-22T14:52:02.250Z"
   },
   {
    "duration": 262,
    "start_time": "2022-11-22T14:52:18.950Z"
   },
   {
    "duration": 87,
    "start_time": "2022-11-22T14:52:58.292Z"
   },
   {
    "duration": 71,
    "start_time": "2022-11-22T14:53:16.146Z"
   },
   {
    "duration": 249,
    "start_time": "2022-11-22T14:53:38.793Z"
   },
   {
    "duration": 165,
    "start_time": "2022-11-22T14:54:22.897Z"
   },
   {
    "duration": 175,
    "start_time": "2022-11-22T14:54:54.600Z"
   },
   {
    "duration": 182,
    "start_time": "2022-11-22T14:55:25.834Z"
   },
   {
    "duration": 10,
    "start_time": "2022-11-22T14:57:46.544Z"
   },
   {
    "duration": 10064,
    "start_time": "2022-11-22T14:57:49.186Z"
   },
   {
    "duration": 9,
    "start_time": "2022-11-22T14:57:59.252Z"
   },
   {
    "duration": 10,
    "start_time": "2022-11-22T14:58:36.118Z"
   },
   {
    "duration": 8,
    "start_time": "2022-11-22T14:58:47.968Z"
   },
   {
    "duration": 9830,
    "start_time": "2022-11-22T14:58:58.729Z"
   },
   {
    "duration": 8,
    "start_time": "2022-11-22T14:59:08.561Z"
   },
   {
    "duration": 22493,
    "start_time": "2022-11-22T14:59:33.119Z"
   },
   {
    "duration": 4882,
    "start_time": "2022-11-22T15:02:11.512Z"
   },
   {
    "duration": 10044,
    "start_time": "2022-11-22T15:03:20.639Z"
   },
   {
    "duration": 74,
    "start_time": "2022-11-22T15:04:06.696Z"
   },
   {
    "duration": 90,
    "start_time": "2022-11-22T15:04:13.389Z"
   },
   {
    "duration": 130558,
    "start_time": "2022-11-22T15:04:31.026Z"
   },
   {
    "duration": 5,
    "start_time": "2022-11-22T15:08:25.087Z"
   },
   {
    "duration": 2011,
    "start_time": "2022-11-22T15:08:30.322Z"
   },
   {
    "duration": 2302,
    "start_time": "2022-11-22T15:08:42.330Z"
   },
   {
    "duration": 2088,
    "start_time": "2022-11-22T15:09:10.030Z"
   },
   {
    "duration": 2087,
    "start_time": "2022-11-22T15:09:34.920Z"
   },
   {
    "duration": 10806,
    "start_time": "2022-11-22T15:09:44.548Z"
   },
   {
    "duration": 7,
    "start_time": "2022-11-22T15:10:08.221Z"
   },
   {
    "duration": 41175,
    "start_time": "2022-11-22T15:11:32.256Z"
   },
   {
    "duration": 75,
    "start_time": "2022-11-22T15:13:06.111Z"
   },
   {
    "duration": 182591,
    "start_time": "2022-11-22T15:13:10.681Z"
   },
   {
    "duration": 6567,
    "start_time": "2022-11-22T15:16:36.787Z"
   },
   {
    "duration": 10707,
    "start_time": "2022-11-22T15:16:53.881Z"
   },
   {
    "duration": 10,
    "start_time": "2022-11-22T15:17:12.829Z"
   },
   {
    "duration": 134693,
    "start_time": "2022-11-22T15:17:14.296Z"
   },
   {
    "duration": 71,
    "start_time": "2022-11-22T15:22:52.024Z"
   },
   {
    "duration": 10,
    "start_time": "2022-11-22T15:23:20.821Z"
   },
   {
    "duration": 3548,
    "start_time": "2022-11-22T15:23:43.837Z"
   },
   {
    "duration": 3521,
    "start_time": "2022-11-22T15:23:59.265Z"
   },
   {
    "duration": 9428,
    "start_time": "2022-11-22T15:24:20.685Z"
   },
   {
    "duration": 359382,
    "start_time": "2022-11-22T15:25:36.982Z"
   },
   {
    "duration": 27508,
    "start_time": "2022-11-22T15:31:51.002Z"
   },
   {
    "duration": 127351,
    "start_time": "2022-11-22T15:32:25.412Z"
   },
   {
    "duration": 88581,
    "start_time": "2022-11-22T15:34:43.004Z"
   },
   {
    "duration": 15038,
    "start_time": "2022-11-22T15:38:01.138Z"
   },
   {
    "duration": 34020,
    "start_time": "2022-11-22T15:38:18.494Z"
   },
   {
    "duration": 34324,
    "start_time": "2022-11-22T15:41:21.896Z"
   },
   {
    "duration": 38552,
    "start_time": "2022-11-22T15:45:55.205Z"
   },
   {
    "duration": 55538,
    "start_time": "2022-11-22T15:47:28.609Z"
   },
   {
    "duration": 36773,
    "start_time": "2022-11-22T15:48:24.150Z"
   },
   {
    "duration": 35643,
    "start_time": "2022-11-22T15:57:26.387Z"
   },
   {
    "duration": 35837,
    "start_time": "2022-11-22T16:02:18.267Z"
   },
   {
    "duration": 73,
    "start_time": "2022-11-22T16:03:51.173Z"
   },
   {
    "duration": 410886,
    "start_time": "2022-11-22T16:03:57.601Z"
   },
   {
    "duration": 0,
    "start_time": "2022-11-22T16:10:48.489Z"
   },
   {
    "duration": 533078,
    "start_time": "2022-11-22T16:10:52.760Z"
   },
   {
    "duration": 0,
    "start_time": "2022-11-22T16:19:45.840Z"
   },
   {
    "duration": 0,
    "start_time": "2022-11-22T16:19:45.852Z"
   },
   {
    "duration": 14,
    "start_time": "2022-11-22T16:19:57.168Z"
   },
   {
    "duration": 18,
    "start_time": "2022-11-22T16:19:57.311Z"
   },
   {
    "duration": 64,
    "start_time": "2022-11-22T16:20:08.057Z"
   },
   {
    "duration": 12,
    "start_time": "2022-11-22T16:21:37.835Z"
   },
   {
    "duration": 32483,
    "start_time": "2022-11-22T16:21:48.254Z"
   },
   {
    "duration": 9,
    "start_time": "2022-11-22T16:24:53.721Z"
   },
   {
    "duration": 32615,
    "start_time": "2022-11-22T16:25:12.128Z"
   },
   {
    "duration": 9,
    "start_time": "2022-11-22T16:25:44.745Z"
   },
   {
    "duration": 54878,
    "start_time": "2022-11-22T16:28:04.927Z"
   },
   {
    "duration": 10,
    "start_time": "2022-11-22T16:29:39.033Z"
   },
   {
    "duration": 20212,
    "start_time": "2022-11-22T16:30:22.446Z"
   },
   {
    "duration": 52451,
    "start_time": "2022-11-22T16:30:43.961Z"
   },
   {
    "duration": 8,
    "start_time": "2022-11-22T16:31:46.796Z"
   },
   {
    "duration": 7,
    "start_time": "2022-11-22T16:31:59.922Z"
   },
   {
    "duration": 50275,
    "start_time": "2022-11-22T16:33:43.128Z"
   },
   {
    "duration": 9,
    "start_time": "2022-11-22T16:35:14.679Z"
   },
   {
    "duration": 27,
    "start_time": "2022-11-22T16:35:36.193Z"
   },
   {
    "duration": 23,
    "start_time": "2022-11-22T16:35:55.954Z"
   },
   {
    "duration": 14,
    "start_time": "2022-11-22T16:36:02.630Z"
   },
   {
    "duration": 71,
    "start_time": "2022-11-22T16:36:35.159Z"
   },
   {
    "duration": 86,
    "start_time": "2022-11-22T16:36:45.039Z"
   },
   {
    "duration": 79,
    "start_time": "2022-11-22T16:40:34.604Z"
   },
   {
    "duration": 88,
    "start_time": "2022-11-22T16:40:38.589Z"
   },
   {
    "duration": 71,
    "start_time": "2022-11-22T16:40:46.024Z"
   },
   {
    "duration": 95,
    "start_time": "2022-11-22T16:40:59.975Z"
   },
   {
    "duration": 10,
    "start_time": "2022-11-22T16:41:40.958Z"
   },
   {
    "duration": 93,
    "start_time": "2022-11-22T16:41:56.328Z"
   },
   {
    "duration": 8,
    "start_time": "2022-11-22T16:42:12.649Z"
   },
   {
    "duration": 94,
    "start_time": "2022-11-22T16:47:51.091Z"
   },
   {
    "duration": 97,
    "start_time": "2022-11-22T16:48:46.955Z"
   },
   {
    "duration": 95,
    "start_time": "2022-11-22T16:52:31.214Z"
   },
   {
    "duration": 102,
    "start_time": "2022-11-22T16:52:53.445Z"
   },
   {
    "duration": 98,
    "start_time": "2022-11-22T16:53:02.110Z"
   },
   {
    "duration": 97,
    "start_time": "2022-11-22T16:54:24.954Z"
   },
   {
    "duration": 73,
    "start_time": "2022-11-22T16:56:17.776Z"
   },
   {
    "duration": 77,
    "start_time": "2022-11-22T16:56:52.271Z"
   },
   {
    "duration": 25,
    "start_time": "2022-11-22T16:56:59.089Z"
   },
   {
    "duration": 32,
    "start_time": "2022-11-22T16:57:29.809Z"
   },
   {
    "duration": 21,
    "start_time": "2022-11-22T16:57:54.077Z"
   },
   {
    "duration": 26,
    "start_time": "2022-11-22T17:01:25.415Z"
   },
   {
    "duration": 40,
    "start_time": "2022-11-22T17:02:20.213Z"
   },
   {
    "duration": 51,
    "start_time": "2022-11-22T17:03:23.645Z"
   },
   {
    "duration": 10260,
    "start_time": "2022-11-22T17:03:45.247Z"
   },
   {
    "duration": 35,
    "start_time": "2022-11-22T17:04:09.551Z"
   },
   {
    "duration": 14,
    "start_time": "2022-11-22T17:04:34.530Z"
   },
   {
    "duration": 86,
    "start_time": "2022-11-22T17:04:54.590Z"
   },
   {
    "duration": 31559,
    "start_time": "2022-11-22T17:06:55.898Z"
   },
   {
    "duration": 31392,
    "start_time": "2022-11-22T17:07:29.843Z"
   },
   {
    "duration": 31519,
    "start_time": "2022-11-22T17:10:18.785Z"
   },
   {
    "duration": 35,
    "start_time": "2022-11-22T17:26:59.992Z"
   },
   {
    "duration": 34,
    "start_time": "2022-11-22T17:27:33.135Z"
   },
   {
    "duration": 39388,
    "start_time": "2022-11-22T17:31:38.605Z"
   },
   {
    "duration": 39559,
    "start_time": "2022-11-22T17:32:42.612Z"
   },
   {
    "duration": 10599,
    "start_time": "2022-11-22T17:33:29.353Z"
   },
   {
    "duration": 10299,
    "start_time": "2022-11-22T17:34:14.621Z"
   },
   {
    "duration": 39155,
    "start_time": "2022-11-22T17:35:23.272Z"
   },
   {
    "duration": 10206,
    "start_time": "2022-11-22T17:39:12.992Z"
   },
   {
    "duration": 38996,
    "start_time": "2022-11-22T17:39:23.200Z"
   },
   {
    "duration": 15,
    "start_time": "2022-11-22T17:40:02.198Z"
   },
   {
    "duration": 31211,
    "start_time": "2022-11-22T17:40:02.216Z"
   },
   {
    "duration": 31513,
    "start_time": "2022-11-22T17:42:50.317Z"
   },
   {
    "duration": 16,
    "start_time": "2022-11-22T17:45:49.921Z"
   },
   {
    "duration": 31374,
    "start_time": "2022-11-22T17:45:51.504Z"
   },
   {
    "duration": 31641,
    "start_time": "2022-11-22T17:46:59.496Z"
   },
   {
    "duration": 15,
    "start_time": "2022-11-22T17:48:59.868Z"
   },
   {
    "duration": 18885,
    "start_time": "2022-11-22T17:49:01.394Z"
   },
   {
    "duration": 12,
    "start_time": "2022-11-22T17:51:57.863Z"
   },
   {
    "duration": 4528,
    "start_time": "2022-11-22T17:54:49.720Z"
   },
   {
    "duration": 4522,
    "start_time": "2022-11-22T17:55:10.746Z"
   },
   {
    "duration": 19939,
    "start_time": "2022-11-22T17:57:21.079Z"
   },
   {
    "duration": 13555,
    "start_time": "2022-11-22T17:58:12.665Z"
   },
   {
    "duration": 32411,
    "start_time": "2022-11-22T17:58:40.206Z"
   },
   {
    "duration": 6982,
    "start_time": "2022-11-22T17:59:32.294Z"
   },
   {
    "duration": 60576,
    "start_time": "2022-11-22T17:59:54.266Z"
   },
   {
    "duration": 8280,
    "start_time": "2022-11-22T18:01:21.221Z"
   },
   {
    "duration": 42246,
    "start_time": "2022-11-22T18:01:39.026Z"
   },
   {
    "duration": 12964,
    "start_time": "2022-11-22T18:03:02.157Z"
   },
   {
    "duration": 14008,
    "start_time": "2022-11-22T18:03:35.255Z"
   },
   {
    "duration": 70,
    "start_time": "2022-11-22T18:04:42.770Z"
   },
   {
    "duration": 665524,
    "start_time": "2022-11-22T18:04:47.091Z"
   },
   {
    "duration": 143280,
    "start_time": "2022-11-22T18:16:29.542Z"
   },
   {
    "duration": 28960,
    "start_time": "2022-11-22T18:18:52.824Z"
   },
   {
    "duration": 267788,
    "start_time": "2022-11-22T18:22:26.368Z"
   },
   {
    "duration": 61388,
    "start_time": "2022-11-22T18:28:07.083Z"
   },
   {
    "duration": 67895,
    "start_time": "2022-11-22T18:29:31.219Z"
   },
   {
    "duration": 293811,
    "start_time": "2022-11-22T18:30:39.117Z"
   },
   {
    "duration": 29,
    "start_time": "2022-11-22T18:35:32.930Z"
   },
   {
    "duration": 17779,
    "start_time": "2022-11-22T18:35:32.964Z"
   },
   {
    "duration": 66514,
    "start_time": "2022-11-22T18:35:50.745Z"
   },
   {
    "duration": 9,
    "start_time": "2022-11-22T18:41:52.553Z"
   },
   {
    "duration": 1138,
    "start_time": "2022-11-22T18:42:04.458Z"
   },
   {
    "duration": 1199,
    "start_time": "2022-11-22T18:42:08.753Z"
   },
   {
    "duration": 1187,
    "start_time": "2022-11-22T18:46:46.181Z"
   },
   {
    "duration": 1184,
    "start_time": "2022-11-22T18:46:59.844Z"
   },
   {
    "duration": 1199,
    "start_time": "2022-11-22T18:49:36.707Z"
   },
   {
    "duration": 87,
    "start_time": "2022-11-22T18:53:34.451Z"
   },
   {
    "duration": 79,
    "start_time": "2022-11-22T18:53:50.360Z"
   },
   {
    "duration": 16,
    "start_time": "2022-11-22T18:54:02.810Z"
   },
   {
    "duration": 17,
    "start_time": "2022-11-22T18:54:16.806Z"
   },
   {
    "duration": 75,
    "start_time": "2022-11-22T18:57:54.073Z"
   },
   {
    "duration": 335352,
    "start_time": "2022-11-22T18:58:46.460Z"
   },
   {
    "duration": 290755,
    "start_time": "2022-11-22T19:04:33.261Z"
   },
   {
    "duration": 135977,
    "start_time": "2022-11-22T19:09:53.717Z"
   },
   {
    "duration": 1209,
    "start_time": "2022-11-22T19:12:19.419Z"
   },
   {
    "duration": 1570,
    "start_time": "2022-11-23T17:01:27.424Z"
   },
   {
    "duration": 166,
    "start_time": "2022-11-23T17:04:38.572Z"
   },
   {
    "duration": 14,
    "start_time": "2022-11-23T17:04:39.139Z"
   },
   {
    "duration": 19,
    "start_time": "2022-11-23T17:04:42.481Z"
   },
   {
    "duration": 15,
    "start_time": "2022-11-23T17:04:45.462Z"
   },
   {
    "duration": 3,
    "start_time": "2022-11-23T17:27:32.580Z"
   },
   {
    "duration": 47,
    "start_time": "2022-11-23T17:27:32.801Z"
   },
   {
    "duration": 16,
    "start_time": "2022-11-23T17:27:33.078Z"
   },
   {
    "duration": 29,
    "start_time": "2022-11-23T17:27:33.419Z"
   },
   {
    "duration": 13,
    "start_time": "2022-11-23T17:27:33.720Z"
   },
   {
    "duration": 18,
    "start_time": "2022-11-23T17:27:34.005Z"
   },
   {
    "duration": 5,
    "start_time": "2022-11-23T17:27:34.306Z"
   },
   {
    "duration": 11,
    "start_time": "2022-11-23T17:27:34.607Z"
   },
   {
    "duration": 6,
    "start_time": "2022-11-23T17:27:34.892Z"
   },
   {
    "duration": 24,
    "start_time": "2022-11-23T17:27:35.192Z"
   },
   {
    "duration": 12,
    "start_time": "2022-11-23T17:27:35.480Z"
   },
   {
    "duration": 11,
    "start_time": "2022-11-23T17:27:35.785Z"
   },
   {
    "duration": 78,
    "start_time": "2022-11-23T17:37:30.896Z"
   },
   {
    "duration": 1754,
    "start_time": "2022-11-23T20:31:12.533Z"
   },
   {
    "duration": 166,
    "start_time": "2022-11-23T20:31:14.289Z"
   },
   {
    "duration": 16,
    "start_time": "2022-11-23T20:31:15.176Z"
   },
   {
    "duration": 19,
    "start_time": "2022-11-23T20:31:16.147Z"
   },
   {
    "duration": 16,
    "start_time": "2022-11-23T20:31:17.335Z"
   },
   {
    "duration": 20,
    "start_time": "2022-11-23T20:31:24.620Z"
   },
   {
    "duration": 5,
    "start_time": "2022-11-23T20:31:25.206Z"
   },
   {
    "duration": 12,
    "start_time": "2022-11-23T20:31:26.440Z"
   },
   {
    "duration": 6,
    "start_time": "2022-11-23T20:31:27.673Z"
   },
   {
    "duration": 21,
    "start_time": "2022-11-23T20:31:28.146Z"
   },
   {
    "duration": 13,
    "start_time": "2022-11-23T20:31:29.179Z"
   },
   {
    "duration": 10,
    "start_time": "2022-11-23T20:31:29.849Z"
   },
   {
    "duration": 219,
    "start_time": "2022-11-23T20:31:34.885Z"
   },
   {
    "duration": 217,
    "start_time": "2022-11-23T20:31:36.371Z"
   },
   {
    "duration": 207,
    "start_time": "2022-11-23T20:31:37.328Z"
   },
   {
    "duration": 162,
    "start_time": "2022-11-23T20:31:38.516Z"
   },
   {
    "duration": 302,
    "start_time": "2022-11-23T20:31:39.385Z"
   },
   {
    "duration": 29320,
    "start_time": "2022-11-23T20:31:51.517Z"
   },
   {
    "duration": 144395,
    "start_time": "2022-11-23T20:32:27.738Z"
   },
   {
    "duration": 22,
    "start_time": "2022-11-23T20:34:52.135Z"
   },
   {
    "duration": 63067,
    "start_time": "2022-11-23T20:35:17.047Z"
   },
   {
    "duration": 276821,
    "start_time": "2022-11-23T20:36:20.117Z"
   },
   {
    "duration": 15,
    "start_time": "2022-11-23T20:40:56.939Z"
   },
   {
    "duration": 14952,
    "start_time": "2022-11-23T20:40:56.956Z"
   },
   {
    "duration": 29329,
    "start_time": "2022-11-23T20:41:11.909Z"
   },
   {
    "duration": 3,
    "start_time": "2022-11-23T20:41:52.849Z"
   },
   {
    "duration": 112,
    "start_time": "2022-11-23T20:42:58.790Z"
   },
   {
    "duration": 1234,
    "start_time": "2022-11-23T20:43:07.764Z"
   },
   {
    "duration": 19,
    "start_time": "2022-11-23T20:43:09.001Z"
   },
   {
    "duration": 14,
    "start_time": "2022-11-23T20:43:55.142Z"
   },
   {
    "duration": 13,
    "start_time": "2022-11-23T20:44:08.526Z"
   },
   {
    "duration": 9,
    "start_time": "2022-11-23T20:44:26.345Z"
   },
   {
    "duration": 4,
    "start_time": "2022-11-23T20:44:46.250Z"
   },
   {
    "duration": 111,
    "start_time": "2022-11-23T20:45:08.777Z"
   },
   {
    "duration": 141,
    "start_time": "2022-11-23T20:49:36.686Z"
   },
   {
    "duration": 121,
    "start_time": "2022-11-23T20:49:41.176Z"
   },
   {
    "duration": 1244,
    "start_time": "2022-11-23T20:54:28.631Z"
   },
   {
    "duration": 1329,
    "start_time": "2022-11-23T20:55:48.390Z"
   },
   {
    "duration": 4,
    "start_time": "2022-11-23T20:57:02.371Z"
   },
   {
    "duration": 67,
    "start_time": "2022-11-23T20:57:03.924Z"
   },
   {
    "duration": 20,
    "start_time": "2022-11-23T20:57:04.888Z"
   },
   {
    "duration": 20,
    "start_time": "2022-11-23T20:57:05.901Z"
   },
   {
    "duration": 16,
    "start_time": "2022-11-23T20:57:10.242Z"
   },
   {
    "duration": 25,
    "start_time": "2022-11-23T20:57:14.009Z"
   },
   {
    "duration": 6,
    "start_time": "2022-11-23T20:57:17.599Z"
   },
   {
    "duration": 13,
    "start_time": "2022-11-23T20:57:19.323Z"
   },
   {
    "duration": 6,
    "start_time": "2022-11-23T20:57:19.737Z"
   },
   {
    "duration": 29,
    "start_time": "2022-11-23T20:57:20.700Z"
   },
   {
    "duration": 20,
    "start_time": "2022-11-23T20:57:46.465Z"
   },
   {
    "duration": 20,
    "start_time": "2022-11-23T20:57:47.077Z"
   },
   {
    "duration": 3,
    "start_time": "2022-11-23T20:57:55.591Z"
   },
   {
    "duration": 47,
    "start_time": "2022-11-23T20:57:55.939Z"
   },
   {
    "duration": 15,
    "start_time": "2022-11-23T20:57:56.328Z"
   },
   {
    "duration": 22,
    "start_time": "2022-11-23T20:57:56.917Z"
   },
   {
    "duration": 16,
    "start_time": "2022-11-23T20:57:57.503Z"
   },
   {
    "duration": 26,
    "start_time": "2022-11-23T20:58:03.816Z"
   },
   {
    "duration": 6,
    "start_time": "2022-11-23T20:58:05.836Z"
   },
   {
    "duration": 18,
    "start_time": "2022-11-23T20:58:06.100Z"
   },
   {
    "duration": 7,
    "start_time": "2022-11-23T20:58:09.858Z"
   },
   {
    "duration": 27,
    "start_time": "2022-11-23T20:58:10.544Z"
   },
   {
    "duration": 11,
    "start_time": "2022-11-23T20:58:11.056Z"
   },
   {
    "duration": 14,
    "start_time": "2022-11-23T20:58:13.094Z"
   },
   {
    "duration": 246,
    "start_time": "2022-11-23T20:58:19.018Z"
   },
   {
    "duration": 224,
    "start_time": "2022-11-23T20:58:20.080Z"
   },
   {
    "duration": 237,
    "start_time": "2022-11-23T20:58:20.750Z"
   },
   {
    "duration": 174,
    "start_time": "2022-11-23T20:58:21.640Z"
   },
   {
    "duration": 304,
    "start_time": "2022-11-23T20:58:22.211Z"
   },
   {
    "duration": 31081,
    "start_time": "2022-11-23T20:58:25.159Z"
   },
   {
    "duration": 149118,
    "start_time": "2022-11-23T20:58:56.243Z"
   },
   {
    "duration": 18,
    "start_time": "2022-11-23T21:01:25.364Z"
   },
   {
    "duration": 63782,
    "start_time": "2022-11-23T21:01:25.385Z"
   },
   {
    "duration": 314856,
    "start_time": "2022-11-23T21:02:29.169Z"
   },
   {
    "duration": 12,
    "start_time": "2022-11-23T21:07:44.028Z"
   },
   {
    "duration": 19705,
    "start_time": "2022-11-23T21:07:44.042Z"
   },
   {
    "duration": 69757,
    "start_time": "2022-11-23T21:08:03.749Z"
   },
   {
    "duration": 1424,
    "start_time": "2022-11-23T21:09:13.508Z"
   },
   {
    "duration": 197,
    "start_time": "2022-11-23T21:09:14.936Z"
   },
   {
    "duration": 1213,
    "start_time": "2022-11-23T21:13:36.583Z"
   },
   {
    "duration": 135,
    "start_time": "2022-11-23T21:13:37.801Z"
   },
   {
    "duration": 1561,
    "start_time": "2022-11-24T19:59:13.238Z"
   },
   {
    "duration": 203,
    "start_time": "2022-11-24T19:59:14.802Z"
   },
   {
    "duration": 14,
    "start_time": "2022-11-24T19:59:15.007Z"
   },
   {
    "duration": 25,
    "start_time": "2022-11-24T19:59:15.023Z"
   },
   {
    "duration": 13,
    "start_time": "2022-11-24T19:59:15.049Z"
   },
   {
    "duration": 20,
    "start_time": "2022-11-24T19:59:15.937Z"
   },
   {
    "duration": 5,
    "start_time": "2022-11-24T19:59:16.669Z"
   },
   {
    "duration": 11,
    "start_time": "2022-11-24T19:59:17.186Z"
   },
   {
    "duration": 4,
    "start_time": "2022-11-24T19:59:17.603Z"
   },
   {
    "duration": 20,
    "start_time": "2022-11-24T19:59:18.155Z"
   },
   {
    "duration": 10,
    "start_time": "2022-11-24T19:59:19.980Z"
   },
   {
    "duration": 9,
    "start_time": "2022-11-24T19:59:20.606Z"
   },
   {
    "duration": 246,
    "start_time": "2022-11-24T19:59:22.452Z"
   },
   {
    "duration": 208,
    "start_time": "2022-11-24T19:59:22.760Z"
   },
   {
    "duration": 195,
    "start_time": "2022-11-24T19:59:23.204Z"
   },
   {
    "duration": 172,
    "start_time": "2022-11-24T19:59:23.804Z"
   },
   {
    "duration": 262,
    "start_time": "2022-11-24T19:59:24.336Z"
   },
   {
    "duration": 26343,
    "start_time": "2022-11-24T19:59:29.497Z"
   },
   {
    "duration": 129743,
    "start_time": "2022-11-24T19:59:55.842Z"
   },
   {
    "duration": 12,
    "start_time": "2022-11-24T20:02:05.587Z"
   },
   {
    "duration": 8,
    "start_time": "2022-11-24T20:02:05.601Z"
   },
   {
    "duration": 13,
    "start_time": "2022-11-24T20:02:41.326Z"
   },
   {
    "duration": 5,
    "start_time": "2022-11-24T20:02:41.801Z"
   },
   {
    "duration": 12,
    "start_time": "2022-11-24T20:02:48.265Z"
   },
   {
    "duration": 5,
    "start_time": "2022-11-24T20:02:48.997Z"
   },
   {
    "duration": 10,
    "start_time": "2022-11-24T20:02:53.811Z"
   },
   {
    "duration": 5,
    "start_time": "2022-11-24T20:02:54.172Z"
   },
   {
    "duration": 11,
    "start_time": "2022-11-24T20:02:58.275Z"
   },
   {
    "duration": 6,
    "start_time": "2022-11-24T20:02:58.748Z"
   },
   {
    "duration": 6,
    "start_time": "2022-11-24T20:03:05.095Z"
   },
   {
    "duration": 10,
    "start_time": "2022-11-24T20:03:10.331Z"
   },
   {
    "duration": 5,
    "start_time": "2022-11-24T20:03:10.757Z"
   },
   {
    "duration": 11,
    "start_time": "2022-11-24T20:03:16.588Z"
   },
   {
    "duration": 5,
    "start_time": "2022-11-24T20:03:17.022Z"
   },
   {
    "duration": 39749,
    "start_time": "2022-11-24T20:03:24.888Z"
   },
   {
    "duration": 177956,
    "start_time": "2022-11-24T20:04:18.527Z"
   },
   {
    "duration": 11,
    "start_time": "2022-11-24T20:07:16.485Z"
   },
   {
    "duration": 4,
    "start_time": "2022-11-24T20:07:16.497Z"
   },
   {
    "duration": 11,
    "start_time": "2022-11-24T20:07:32.247Z"
   },
   {
    "duration": 6,
    "start_time": "2022-11-24T20:07:32.597Z"
   },
   {
    "duration": 12,
    "start_time": "2022-11-24T20:07:40.459Z"
   },
   {
    "duration": 5,
    "start_time": "2022-11-24T20:07:40.727Z"
   },
   {
    "duration": 12,
    "start_time": "2022-11-24T20:07:45.074Z"
   },
   {
    "duration": 5,
    "start_time": "2022-11-24T20:07:45.360Z"
   },
   {
    "duration": 11,
    "start_time": "2022-11-24T20:07:50.803Z"
   },
   {
    "duration": 4,
    "start_time": "2022-11-24T20:07:51.108Z"
   },
   {
    "duration": 12,
    "start_time": "2022-11-24T20:08:07.233Z"
   },
   {
    "duration": 5,
    "start_time": "2022-11-24T20:08:07.512Z"
   },
   {
    "duration": 10,
    "start_time": "2022-11-24T20:08:17.642Z"
   },
   {
    "duration": 5,
    "start_time": "2022-11-24T20:08:17.890Z"
   },
   {
    "duration": 11,
    "start_time": "2022-11-24T20:08:23.096Z"
   },
   {
    "duration": 6,
    "start_time": "2022-11-24T20:08:23.424Z"
   },
   {
    "duration": 12,
    "start_time": "2022-11-24T20:08:28.727Z"
   },
   {
    "duration": 5,
    "start_time": "2022-11-24T20:08:29.037Z"
   },
   {
    "duration": 11,
    "start_time": "2022-11-24T20:08:35.514Z"
   },
   {
    "duration": 5,
    "start_time": "2022-11-24T20:08:35.857Z"
   },
   {
    "duration": 12,
    "start_time": "2022-11-24T20:08:40.803Z"
   },
   {
    "duration": 5,
    "start_time": "2022-11-24T20:08:41.125Z"
   },
   {
    "duration": 11,
    "start_time": "2022-11-24T20:08:46.118Z"
   },
   {
    "duration": 5,
    "start_time": "2022-11-24T20:08:46.450Z"
   },
   {
    "duration": 10,
    "start_time": "2022-11-24T20:08:50.891Z"
   },
   {
    "duration": 5,
    "start_time": "2022-11-24T20:08:51.232Z"
   },
   {
    "duration": 11,
    "start_time": "2022-11-24T20:08:55.471Z"
   },
   {
    "duration": 5,
    "start_time": "2022-11-24T20:08:55.696Z"
   },
   {
    "duration": 11,
    "start_time": "2022-11-24T20:09:00.182Z"
   },
   {
    "duration": 5,
    "start_time": "2022-11-24T20:09:00.659Z"
   },
   {
    "duration": 10,
    "start_time": "2022-11-24T20:09:05.350Z"
   },
   {
    "duration": 5,
    "start_time": "2022-11-24T20:09:05.716Z"
   },
   {
    "duration": 12,
    "start_time": "2022-11-24T20:09:10.237Z"
   },
   {
    "duration": 5,
    "start_time": "2022-11-24T20:09:10.598Z"
   },
   {
    "duration": 11,
    "start_time": "2022-11-24T20:09:15.717Z"
   },
   {
    "duration": 4,
    "start_time": "2022-11-24T20:09:16.119Z"
   },
   {
    "duration": 11,
    "start_time": "2022-11-24T20:09:21.876Z"
   },
   {
    "duration": 5,
    "start_time": "2022-11-24T20:09:22.220Z"
   },
   {
    "duration": 11,
    "start_time": "2022-11-24T20:09:26.280Z"
   },
   {
    "duration": 6,
    "start_time": "2022-11-24T20:09:26.648Z"
   },
   {
    "duration": 12,
    "start_time": "2022-11-24T20:09:29.637Z"
   },
   {
    "duration": 6,
    "start_time": "2022-11-24T20:09:30.087Z"
   },
   {
    "duration": 110,
    "start_time": "2022-11-24T20:09:41.188Z"
   },
   {
    "duration": 6,
    "start_time": "2022-11-24T20:09:41.659Z"
   },
   {
    "duration": 16,
    "start_time": "2022-11-24T20:09:53.838Z"
   },
   {
    "duration": 12,
    "start_time": "2022-11-24T20:09:58.000Z"
   },
   {
    "duration": 6,
    "start_time": "2022-11-24T20:09:58.301Z"
   },
   {
    "duration": 15784,
    "start_time": "2022-11-24T20:10:09.626Z"
   },
   {
    "duration": 70444,
    "start_time": "2022-11-24T20:10:33.864Z"
   },
   {
    "duration": 896,
    "start_time": "2022-11-24T20:11:56.422Z"
   },
   {
    "duration": 111,
    "start_time": "2022-11-24T20:11:59.248Z"
   },
   {
    "duration": 10,
    "start_time": "2022-11-24T20:13:48.597Z"
   },
   {
    "duration": 8,
    "start_time": "2022-11-24T20:14:08.726Z"
   },
   {
    "duration": 1507,
    "start_time": "2022-11-25T12:22:08.590Z"
   },
   {
    "duration": 156,
    "start_time": "2022-11-25T12:22:10.099Z"
   },
   {
    "duration": 11,
    "start_time": "2022-11-25T12:22:10.256Z"
   },
   {
    "duration": 18,
    "start_time": "2022-11-25T12:22:10.269Z"
   },
   {
    "duration": 14,
    "start_time": "2022-11-25T12:22:10.858Z"
   },
   {
    "duration": 18,
    "start_time": "2022-11-25T12:22:12.179Z"
   },
   {
    "duration": 5,
    "start_time": "2022-11-25T12:22:13.251Z"
   },
   {
    "duration": 10,
    "start_time": "2022-11-25T12:22:13.712Z"
   },
   {
    "duration": 3,
    "start_time": "2022-11-25T12:22:14.365Z"
   },
   {
    "duration": 11,
    "start_time": "2022-11-25T12:24:04.149Z"
   },
   {
    "duration": 11,
    "start_time": "2022-11-25T12:24:06.305Z"
   },
   {
    "duration": 16,
    "start_time": "2022-11-25T12:24:30.794Z"
   },
   {
    "duration": 15,
    "start_time": "2022-11-25T12:24:38.381Z"
   },
   {
    "duration": 16,
    "start_time": "2022-11-25T12:24:42.977Z"
   },
   {
    "duration": 18,
    "start_time": "2022-11-25T12:25:09.027Z"
   },
   {
    "duration": 120,
    "start_time": "2022-11-25T12:25:12.796Z"
   },
   {
    "duration": 16,
    "start_time": "2022-11-25T12:25:13.107Z"
   },
   {
    "duration": 9,
    "start_time": "2022-11-25T12:25:43.744Z"
   },
   {
    "duration": 10,
    "start_time": "2022-11-25T12:25:44.106Z"
   },
   {
    "duration": 24,
    "start_time": "2022-11-25T12:25:44.708Z"
   },
   {
    "duration": 4,
    "start_time": "2022-11-25T12:25:50.619Z"
   },
   {
    "duration": 57,
    "start_time": "2022-11-25T12:25:51.184Z"
   },
   {
    "duration": 11,
    "start_time": "2022-11-25T12:25:51.667Z"
   },
   {
    "duration": 20,
    "start_time": "2022-11-25T12:25:52.345Z"
   },
   {
    "duration": 15,
    "start_time": "2022-11-25T12:25:52.891Z"
   },
   {
    "duration": 29,
    "start_time": "2022-11-25T12:25:54.887Z"
   },
   {
    "duration": 6,
    "start_time": "2022-11-25T12:25:58.398Z"
   },
   {
    "duration": 12,
    "start_time": "2022-11-25T12:25:58.924Z"
   },
   {
    "duration": 5,
    "start_time": "2022-11-25T12:25:59.463Z"
   },
   {
    "duration": 11,
    "start_time": "2022-11-25T12:26:01.539Z"
   },
   {
    "duration": 9,
    "start_time": "2022-11-25T12:26:02.088Z"
   },
   {
    "duration": 27,
    "start_time": "2022-11-25T12:26:02.757Z"
   },
   {
    "duration": 16,
    "start_time": "2022-11-25T12:27:43.801Z"
   },
   {
    "duration": 16,
    "start_time": "2022-11-25T12:27:45.831Z"
   },
   {
    "duration": 15,
    "start_time": "2022-11-25T12:27:54.546Z"
   },
   {
    "duration": 21,
    "start_time": "2022-11-25T12:30:40.126Z"
   },
   {
    "duration": 24,
    "start_time": "2022-11-25T12:31:13.750Z"
   },
   {
    "duration": 28,
    "start_time": "2022-11-25T12:31:53.546Z"
   },
   {
    "duration": 16,
    "start_time": "2022-11-25T12:31:55.937Z"
   },
   {
    "duration": 16,
    "start_time": "2022-11-25T12:32:01.594Z"
   },
   {
    "duration": 17,
    "start_time": "2022-11-25T12:32:06.122Z"
   },
   {
    "duration": 15,
    "start_time": "2022-11-25T12:32:56.133Z"
   },
   {
    "duration": 21,
    "start_time": "2022-11-25T12:34:00.773Z"
   },
   {
    "duration": 15,
    "start_time": "2022-11-25T12:34:20.173Z"
   },
   {
    "duration": 206,
    "start_time": "2022-11-25T12:39:38.788Z"
   },
   {
    "duration": 192,
    "start_time": "2022-11-25T12:39:39.722Z"
   },
   {
    "duration": 195,
    "start_time": "2022-11-25T12:39:40.124Z"
   },
   {
    "duration": 170,
    "start_time": "2022-11-25T12:39:40.812Z"
   },
   {
    "duration": 260,
    "start_time": "2022-11-25T12:39:41.456Z"
   },
   {
    "duration": 27530,
    "start_time": "2022-11-25T12:39:54.180Z"
   },
   {
    "duration": 26852,
    "start_time": "2022-11-25T12:40:26.700Z"
   },
   {
    "duration": 134463,
    "start_time": "2022-11-25T12:40:53.554Z"
   },
   {
    "duration": 11,
    "start_time": "2022-11-25T12:43:14.680Z"
   },
   {
    "duration": 5,
    "start_time": "2022-11-25T12:43:15.135Z"
   },
   {
    "duration": 39523,
    "start_time": "2022-11-25T12:43:19.598Z"
   },
   {
    "duration": 184169,
    "start_time": "2022-11-25T12:44:03.682Z"
   },
   {
    "duration": 11,
    "start_time": "2022-11-25T12:47:14.352Z"
   },
   {
    "duration": 5,
    "start_time": "2022-11-25T12:47:14.729Z"
   },
   {
    "duration": 16599,
    "start_time": "2022-11-25T12:47:18.870Z"
   },
   {
    "duration": 73772,
    "start_time": "2022-11-25T12:47:35.471Z"
   },
   {
    "duration": 14,
    "start_time": "2022-11-25T12:52:01.615Z"
   },
   {
    "duration": 14,
    "start_time": "2022-11-25T13:05:06.347Z"
   },
   {
    "duration": 21,
    "start_time": "2022-11-25T13:05:13.933Z"
   },
   {
    "duration": 26,
    "start_time": "2022-11-25T13:05:18.978Z"
   },
   {
    "duration": 20,
    "start_time": "2022-11-25T13:06:40.234Z"
   },
   {
    "duration": 20,
    "start_time": "2022-11-25T13:06:55.098Z"
   },
   {
    "duration": 14,
    "start_time": "2022-11-25T13:07:07.054Z"
   },
   {
    "duration": 176,
    "start_time": "2022-11-25T13:07:47.125Z"
   },
   {
    "duration": 173,
    "start_time": "2022-11-25T13:09:08.563Z"
   },
   {
    "duration": 163,
    "start_time": "2022-11-25T13:09:15.441Z"
   },
   {
    "duration": 180,
    "start_time": "2022-11-25T13:09:19.647Z"
   },
   {
    "duration": 168,
    "start_time": "2022-11-25T13:09:29.206Z"
   },
   {
    "duration": 165,
    "start_time": "2022-11-25T13:09:36.568Z"
   },
   {
    "duration": 189,
    "start_time": "2022-11-25T13:10:09.805Z"
   },
   {
    "duration": 236,
    "start_time": "2022-11-25T13:10:16.263Z"
   },
   {
    "duration": 163,
    "start_time": "2022-11-25T13:10:47.811Z"
   },
   {
    "duration": 202,
    "start_time": "2022-11-25T13:11:02.303Z"
   },
   {
    "duration": 283,
    "start_time": "2022-11-25T13:11:50.158Z"
   },
   {
    "duration": 155,
    "start_time": "2022-11-25T13:12:11.496Z"
   },
   {
    "duration": 145,
    "start_time": "2022-11-25T13:12:33.423Z"
   },
   {
    "duration": 365,
    "start_time": "2022-11-25T13:12:52.836Z"
   },
   {
    "duration": 181,
    "start_time": "2022-11-25T13:14:49.742Z"
   },
   {
    "duration": 185,
    "start_time": "2022-11-25T13:15:32.776Z"
   },
   {
    "duration": 167,
    "start_time": "2022-11-25T13:15:39.899Z"
   },
   {
    "duration": 162,
    "start_time": "2022-11-25T13:15:46.184Z"
   },
   {
    "duration": 185,
    "start_time": "2022-11-25T13:15:51.281Z"
   },
   {
    "duration": 211,
    "start_time": "2022-11-25T13:16:06.211Z"
   },
   {
    "duration": 230,
    "start_time": "2022-11-25T13:16:18.630Z"
   },
   {
    "duration": 210,
    "start_time": "2022-11-25T13:16:40.202Z"
   },
   {
    "duration": 4,
    "start_time": "2022-11-25T13:24:43.130Z"
   },
   {
    "duration": 55,
    "start_time": "2022-11-25T13:24:43.882Z"
   },
   {
    "duration": 13,
    "start_time": "2022-11-25T13:24:44.213Z"
   },
   {
    "duration": 18,
    "start_time": "2022-11-25T13:24:44.427Z"
   },
   {
    "duration": 14,
    "start_time": "2022-11-25T13:24:44.719Z"
   },
   {
    "duration": 18,
    "start_time": "2022-11-25T13:24:45.420Z"
   },
   {
    "duration": 5,
    "start_time": "2022-11-25T13:24:45.999Z"
   },
   {
    "duration": 11,
    "start_time": "2022-11-25T13:24:46.269Z"
   },
   {
    "duration": 4,
    "start_time": "2022-11-25T13:24:46.614Z"
   },
   {
    "duration": 9,
    "start_time": "2022-11-25T13:24:47.455Z"
   },
   {
    "duration": 9,
    "start_time": "2022-11-25T13:24:47.745Z"
   },
   {
    "duration": 121,
    "start_time": "2022-11-25T13:24:48.034Z"
   },
   {
    "duration": 16,
    "start_time": "2022-11-25T13:24:48.318Z"
   },
   {
    "duration": 197,
    "start_time": "2022-11-25T13:24:49.727Z"
   },
   {
    "duration": 196,
    "start_time": "2022-11-25T13:24:50.200Z"
   },
   {
    "duration": 196,
    "start_time": "2022-11-25T13:24:50.643Z"
   },
   {
    "duration": 151,
    "start_time": "2022-11-25T13:24:51.020Z"
   },
   {
    "duration": 176,
    "start_time": "2022-11-25T13:24:51.379Z"
   },
   {
    "duration": 27476,
    "start_time": "2022-11-25T13:24:52.695Z"
   },
   {
    "duration": 132350,
    "start_time": "2022-11-25T13:25:20.173Z"
   },
   {
    "duration": 12,
    "start_time": "2022-11-25T13:27:32.524Z"
   },
   {
    "duration": 13,
    "start_time": "2022-11-25T13:27:32.539Z"
   },
   {
    "duration": 39724,
    "start_time": "2022-11-25T13:27:32.554Z"
   },
   {
    "duration": 179928,
    "start_time": "2022-11-25T13:28:12.280Z"
   },
   {
    "duration": 11,
    "start_time": "2022-11-25T13:31:12.209Z"
   },
   {
    "duration": 6,
    "start_time": "2022-11-25T13:31:12.222Z"
   },
   {
    "duration": 16762,
    "start_time": "2022-11-25T13:31:12.230Z"
   },
   {
    "duration": 73862,
    "start_time": "2022-11-25T13:31:28.994Z"
   },
   {
    "duration": 962,
    "start_time": "2022-11-25T13:32:42.858Z"
   },
   {
    "duration": 157,
    "start_time": "2022-11-25T13:32:43.822Z"
   },
   {
    "duration": 270,
    "start_time": "2022-11-25T13:32:43.981Z"
   },
   {
    "duration": 11,
    "start_time": "2022-11-25T13:34:05.379Z"
   },
   {
    "duration": 143,
    "start_time": "2022-11-25T13:34:11.620Z"
   },
   {
    "duration": 156,
    "start_time": "2022-11-25T13:34:18.701Z"
   },
   {
    "duration": 145,
    "start_time": "2022-11-25T13:34:26.677Z"
   },
   {
    "duration": 199,
    "start_time": "2022-11-25T13:34:31.725Z"
   },
   {
    "duration": 1572,
    "start_time": "2022-11-25T18:41:56.640Z"
   },
   {
    "duration": 351,
    "start_time": "2022-11-25T18:41:58.214Z"
   },
   {
    "duration": 14,
    "start_time": "2022-11-25T18:41:58.567Z"
   },
   {
    "duration": 27,
    "start_time": "2022-11-25T18:41:58.583Z"
   },
   {
    "duration": 14,
    "start_time": "2022-11-25T18:41:58.723Z"
   },
   {
    "duration": 19,
    "start_time": "2022-11-25T18:42:00.233Z"
   },
   {
    "duration": 6,
    "start_time": "2022-11-25T18:42:01.222Z"
   },
   {
    "duration": 11,
    "start_time": "2022-11-25T18:42:01.952Z"
   },
   {
    "duration": 4,
    "start_time": "2022-11-25T18:42:02.327Z"
   },
   {
    "duration": 10,
    "start_time": "2022-11-25T18:42:04.255Z"
   },
   {
    "duration": 10,
    "start_time": "2022-11-25T18:42:04.599Z"
   },
   {
    "duration": 117,
    "start_time": "2022-11-25T18:42:05.151Z"
   },
   {
    "duration": 36,
    "start_time": "2022-11-25T18:42:20.919Z"
   },
   {
    "duration": 26,
    "start_time": "2022-11-25T18:43:11.750Z"
   },
   {
    "duration": 15,
    "start_time": "2022-11-25T18:43:15.958Z"
   },
   {
    "duration": 24,
    "start_time": "2022-11-25T18:43:59.158Z"
   },
   {
    "duration": 34,
    "start_time": "2022-11-25T18:44:17.887Z"
   },
   {
    "duration": 25,
    "start_time": "2022-11-25T18:47:46.810Z"
   },
   {
    "duration": 14,
    "start_time": "2022-11-25T18:47:49.871Z"
   },
   {
    "duration": 14,
    "start_time": "2022-11-25T18:48:10.080Z"
   },
   {
    "duration": 22,
    "start_time": "2022-11-25T18:48:41.717Z"
   },
   {
    "duration": 13,
    "start_time": "2022-11-25T18:48:44.643Z"
   },
   {
    "duration": 16,
    "start_time": "2022-11-25T18:49:37.913Z"
   },
   {
    "duration": 15,
    "start_time": "2022-11-25T18:49:50.357Z"
   },
   {
    "duration": 14,
    "start_time": "2022-11-25T18:49:55.983Z"
   },
   {
    "duration": 14,
    "start_time": "2022-11-25T18:50:04.381Z"
   },
   {
    "duration": 13,
    "start_time": "2022-11-25T18:50:08.417Z"
   },
   {
    "duration": 24,
    "start_time": "2022-11-25T18:50:16.666Z"
   },
   {
    "duration": 16,
    "start_time": "2022-11-25T18:50:23.198Z"
   },
   {
    "duration": 15,
    "start_time": "2022-11-25T18:50:25.083Z"
   },
   {
    "duration": 16,
    "start_time": "2022-11-25T18:50:28.895Z"
   },
   {
    "duration": 9,
    "start_time": "2022-11-25T18:50:40.179Z"
   },
   {
    "duration": 18,
    "start_time": "2022-11-25T18:50:40.484Z"
   },
   {
    "duration": 15,
    "start_time": "2022-11-25T18:50:41.513Z"
   },
   {
    "duration": 25,
    "start_time": "2022-11-25T18:50:56.081Z"
   },
   {
    "duration": 16,
    "start_time": "2022-11-25T18:50:57.378Z"
   },
   {
    "duration": 3,
    "start_time": "2022-11-25T18:51:07.510Z"
   },
   {
    "duration": 49,
    "start_time": "2022-11-25T18:51:08.099Z"
   },
   {
    "duration": 12,
    "start_time": "2022-11-25T18:51:08.382Z"
   },
   {
    "duration": 19,
    "start_time": "2022-11-25T18:51:08.704Z"
   },
   {
    "duration": 13,
    "start_time": "2022-11-25T18:51:09.118Z"
   },
   {
    "duration": 19,
    "start_time": "2022-11-25T18:51:10.305Z"
   },
   {
    "duration": 6,
    "start_time": "2022-11-25T18:51:11.033Z"
   },
   {
    "duration": 10,
    "start_time": "2022-11-25T18:51:11.497Z"
   },
   {
    "duration": 6,
    "start_time": "2022-11-25T18:51:11.835Z"
   },
   {
    "duration": 10,
    "start_time": "2022-11-25T18:51:16.279Z"
   },
   {
    "duration": 10,
    "start_time": "2022-11-25T18:51:16.684Z"
   },
   {
    "duration": 28,
    "start_time": "2022-11-25T18:51:17.206Z"
   },
   {
    "duration": 17,
    "start_time": "2022-11-25T18:51:18.429Z"
   },
   {
    "duration": 4,
    "start_time": "2022-11-25T18:52:46.532Z"
   },
   {
    "duration": 48,
    "start_time": "2022-11-25T18:52:47.078Z"
   },
   {
    "duration": 13,
    "start_time": "2022-11-25T18:52:47.345Z"
   },
   {
    "duration": 26,
    "start_time": "2022-11-25T18:52:47.621Z"
   },
   {
    "duration": 14,
    "start_time": "2022-11-25T18:52:47.900Z"
   },
   {
    "duration": 17,
    "start_time": "2022-11-25T18:52:48.758Z"
   },
   {
    "duration": 6,
    "start_time": "2022-11-25T18:52:49.341Z"
   },
   {
    "duration": 10,
    "start_time": "2022-11-25T18:52:49.774Z"
   },
   {
    "duration": 4,
    "start_time": "2022-11-25T18:52:50.130Z"
   },
   {
    "duration": 10,
    "start_time": "2022-11-25T18:52:51.688Z"
   },
   {
    "duration": 9,
    "start_time": "2022-11-25T18:52:52.176Z"
   },
   {
    "duration": 28,
    "start_time": "2022-11-25T18:52:52.623Z"
   },
   {
    "duration": 16,
    "start_time": "2022-11-25T18:52:53.703Z"
   },
   {
    "duration": 218,
    "start_time": "2022-11-25T18:53:24.258Z"
   },
   {
    "duration": 193,
    "start_time": "2022-11-25T18:53:25.212Z"
   },
   {
    "duration": 193,
    "start_time": "2022-11-25T18:53:25.505Z"
   },
   {
    "duration": 177,
    "start_time": "2022-11-25T18:53:25.762Z"
   },
   {
    "duration": 263,
    "start_time": "2022-11-25T18:53:26.028Z"
   },
   {
    "duration": 27248,
    "start_time": "2022-11-25T18:53:27.163Z"
   },
   {
    "duration": 132449,
    "start_time": "2022-11-25T18:53:54.413Z"
   },
   {
    "duration": 11,
    "start_time": "2022-11-25T18:56:06.864Z"
   },
   {
    "duration": 11,
    "start_time": "2022-11-25T18:56:06.877Z"
   },
   {
    "duration": 41165,
    "start_time": "2022-11-25T18:56:06.889Z"
   },
   {
    "duration": 188208,
    "start_time": "2022-11-25T18:56:48.055Z"
   },
   {
    "duration": 11,
    "start_time": "2022-11-25T18:59:56.264Z"
   },
   {
    "duration": 5,
    "start_time": "2022-11-25T18:59:56.277Z"
   },
   {
    "duration": 16627,
    "start_time": "2022-11-25T18:59:56.283Z"
   },
   {
    "duration": 1499,
    "start_time": "2022-11-27T09:20:43.746Z"
   },
   {
    "duration": 94,
    "start_time": "2022-11-27T09:20:45.247Z"
   },
   {
    "duration": 15,
    "start_time": "2022-11-27T09:20:45.343Z"
   },
   {
    "duration": 21,
    "start_time": "2022-11-27T09:20:45.360Z"
   },
   {
    "duration": 15,
    "start_time": "2022-11-27T09:20:46.010Z"
   },
   {
    "duration": 18,
    "start_time": "2022-11-27T09:20:47.206Z"
   },
   {
    "duration": 5,
    "start_time": "2022-11-27T09:20:48.105Z"
   },
   {
    "duration": 10,
    "start_time": "2022-11-27T09:20:48.488Z"
   },
   {
    "duration": 4,
    "start_time": "2022-11-27T09:20:48.896Z"
   },
   {
    "duration": 9,
    "start_time": "2022-11-27T09:20:50.203Z"
   },
   {
    "duration": 9,
    "start_time": "2022-11-27T09:20:50.641Z"
   },
   {
    "duration": 24,
    "start_time": "2022-11-27T09:20:51.245Z"
   },
   {
    "duration": 21,
    "start_time": "2022-11-27T09:20:52.439Z"
   },
   {
    "duration": 247,
    "start_time": "2022-11-27T09:20:54.684Z"
   },
   {
    "duration": 217,
    "start_time": "2022-11-27T09:20:55.125Z"
   },
   {
    "duration": 251,
    "start_time": "2022-11-27T09:20:55.581Z"
   },
   {
    "duration": 179,
    "start_time": "2022-11-27T09:20:55.994Z"
   },
   {
    "duration": 279,
    "start_time": "2022-11-27T09:20:56.413Z"
   },
   {
    "duration": 28207,
    "start_time": "2022-11-27T09:20:58.175Z"
   },
   {
    "duration": 137498,
    "start_time": "2022-11-27T09:21:26.385Z"
   },
   {
    "duration": 11,
    "start_time": "2022-11-27T09:23:43.885Z"
   },
   {
    "duration": 8,
    "start_time": "2022-11-27T09:23:43.898Z"
   },
   {
    "duration": 42661,
    "start_time": "2022-11-27T09:23:43.907Z"
   },
   {
    "duration": 191060,
    "start_time": "2022-11-27T09:24:26.570Z"
   },
   {
    "duration": 11,
    "start_time": "2022-11-27T09:27:37.634Z"
   },
   {
    "duration": 6,
    "start_time": "2022-11-27T09:27:37.647Z"
   },
   {
    "duration": 15733,
    "start_time": "2022-11-27T09:27:37.655Z"
   },
   {
    "duration": 76094,
    "start_time": "2022-11-27T09:27:53.391Z"
   },
   {
    "duration": 940,
    "start_time": "2022-11-27T09:29:09.487Z"
   },
   {
    "duration": 152,
    "start_time": "2022-11-27T09:29:10.428Z"
   },
   {
    "duration": 219,
    "start_time": "2022-11-27T09:29:10.582Z"
   }
  ],
  "kernelspec": {
   "display_name": "Python 3 (ipykernel)",
   "language": "python",
   "name": "python3"
  },
  "language_info": {
   "codemirror_mode": {
    "name": "ipython",
    "version": 3
   },
   "file_extension": ".py",
   "mimetype": "text/x-python",
   "name": "python",
   "nbconvert_exporter": "python",
   "pygments_lexer": "ipython3",
   "version": "3.9.12"
  },
  "toc": {
   "base_numbering": 1,
   "nav_menu": {},
   "number_sections": true,
   "sideBar": true,
   "skip_h1_title": true,
   "title_cell": "Содержание",
   "title_sidebar": "Contents",
   "toc_cell": true,
   "toc_position": {},
   "toc_section_display": true,
   "toc_window_display": true
  }
 },
 "nbformat": 4,
 "nbformat_minor": 2
}
